{
  "nbformat": 4,
  "nbformat_minor": 0,
  "metadata": {
    "colab": {
      "name": "Doctor's Consultation Fee Predict.ipynb",
      "provenance": [],
      "collapsed_sections": []
    },
    "kernelspec": {
      "name": "python3",
      "display_name": "Python 3"
    }
  },
  "cells": [
    {
      "cell_type": "code",
      "metadata": {
        "id": "LgCeR2xLah-l"
      },
      "source": [
        "# import all the neccessary libraries\r\n",
        "\r\n",
        "import pandas as pd\r\n",
        "import numpy as np\r\n",
        "import seaborn as sns\r\n",
        "import matplotlib.pyplot as plt\r\n",
        "\r\n",
        "#importing warnings\r\n",
        "import warnings\r\n",
        "warnings.filterwarnings('ignore')"
      ],
      "execution_count": 1,
      "outputs": []
    },
    {
      "cell_type": "code",
      "metadata": {
        "colab": {
          "resources": {
            "http://localhost:8080/nbextensions/google.colab/files.js": {
              "data": "Ly8gQ29weXJpZ2h0IDIwMTcgR29vZ2xlIExMQwovLwovLyBMaWNlbnNlZCB1bmRlciB0aGUgQXBhY2hlIExpY2Vuc2UsIFZlcnNpb24gMi4wICh0aGUgIkxpY2Vuc2UiKTsKLy8geW91IG1heSBub3QgdXNlIHRoaXMgZmlsZSBleGNlcHQgaW4gY29tcGxpYW5jZSB3aXRoIHRoZSBMaWNlbnNlLgovLyBZb3UgbWF5IG9idGFpbiBhIGNvcHkgb2YgdGhlIExpY2Vuc2UgYXQKLy8KLy8gICAgICBodHRwOi8vd3d3LmFwYWNoZS5vcmcvbGljZW5zZXMvTElDRU5TRS0yLjAKLy8KLy8gVW5sZXNzIHJlcXVpcmVkIGJ5IGFwcGxpY2FibGUgbGF3IG9yIGFncmVlZCB0byBpbiB3cml0aW5nLCBzb2Z0d2FyZQovLyBkaXN0cmlidXRlZCB1bmRlciB0aGUgTGljZW5zZSBpcyBkaXN0cmlidXRlZCBvbiBhbiAiQVMgSVMiIEJBU0lTLAovLyBXSVRIT1VUIFdBUlJBTlRJRVMgT1IgQ09ORElUSU9OUyBPRiBBTlkgS0lORCwgZWl0aGVyIGV4cHJlc3Mgb3IgaW1wbGllZC4KLy8gU2VlIHRoZSBMaWNlbnNlIGZvciB0aGUgc3BlY2lmaWMgbGFuZ3VhZ2UgZ292ZXJuaW5nIHBlcm1pc3Npb25zIGFuZAovLyBsaW1pdGF0aW9ucyB1bmRlciB0aGUgTGljZW5zZS4KCi8qKgogKiBAZmlsZW92ZXJ2aWV3IEhlbHBlcnMgZm9yIGdvb2dsZS5jb2xhYiBQeXRob24gbW9kdWxlLgogKi8KKGZ1bmN0aW9uKHNjb3BlKSB7CmZ1bmN0aW9uIHNwYW4odGV4dCwgc3R5bGVBdHRyaWJ1dGVzID0ge30pIHsKICBjb25zdCBlbGVtZW50ID0gZG9jdW1lbnQuY3JlYXRlRWxlbWVudCgnc3BhbicpOwogIGVsZW1lbnQudGV4dENvbnRlbnQgPSB0ZXh0OwogIGZvciAoY29uc3Qga2V5IG9mIE9iamVjdC5rZXlzKHN0eWxlQXR0cmlidXRlcykpIHsKICAgIGVsZW1lbnQuc3R5bGVba2V5XSA9IHN0eWxlQXR0cmlidXRlc1trZXldOwogIH0KICByZXR1cm4gZWxlbWVudDsKfQoKLy8gTWF4IG51bWJlciBvZiBieXRlcyB3aGljaCB3aWxsIGJlIHVwbG9hZGVkIGF0IGEgdGltZS4KY29uc3QgTUFYX1BBWUxPQURfU0laRSA9IDEwMCAqIDEwMjQ7CgpmdW5jdGlvbiBfdXBsb2FkRmlsZXMoaW5wdXRJZCwgb3V0cHV0SWQpIHsKICBjb25zdCBzdGVwcyA9IHVwbG9hZEZpbGVzU3RlcChpbnB1dElkLCBvdXRwdXRJZCk7CiAgY29uc3Qgb3V0cHV0RWxlbWVudCA9IGRvY3VtZW50LmdldEVsZW1lbnRCeUlkKG91dHB1dElkKTsKICAvLyBDYWNoZSBzdGVwcyBvbiB0aGUgb3V0cHV0RWxlbWVudCB0byBtYWtlIGl0IGF2YWlsYWJsZSBmb3IgdGhlIG5leHQgY2FsbAogIC8vIHRvIHVwbG9hZEZpbGVzQ29udGludWUgZnJvbSBQeXRob24uCiAgb3V0cHV0RWxlbWVudC5zdGVwcyA9IHN0ZXBzOwoKICByZXR1cm4gX3VwbG9hZEZpbGVzQ29udGludWUob3V0cHV0SWQpOwp9CgovLyBUaGlzIGlzIHJvdWdobHkgYW4gYXN5bmMgZ2VuZXJhdG9yIChub3Qgc3VwcG9ydGVkIGluIHRoZSBicm93c2VyIHlldCksCi8vIHdoZXJlIHRoZXJlIGFyZSBtdWx0aXBsZSBhc3luY2hyb25vdXMgc3RlcHMgYW5kIHRoZSBQeXRob24gc2lkZSBpcyBnb2luZwovLyB0byBwb2xsIGZvciBjb21wbGV0aW9uIG9mIGVhY2ggc3RlcC4KLy8gVGhpcyB1c2VzIGEgUHJvbWlzZSB0byBibG9jayB0aGUgcHl0aG9uIHNpZGUgb24gY29tcGxldGlvbiBvZiBlYWNoIHN0ZXAsCi8vIHRoZW4gcGFzc2VzIHRoZSByZXN1bHQgb2YgdGhlIHByZXZpb3VzIHN0ZXAgYXMgdGhlIGlucHV0IHRvIHRoZSBuZXh0IHN0ZXAuCmZ1bmN0aW9uIF91cGxvYWRGaWxlc0NvbnRpbnVlKG91dHB1dElkKSB7CiAgY29uc3Qgb3V0cHV0RWxlbWVudCA9IGRvY3VtZW50LmdldEVsZW1lbnRCeUlkKG91dHB1dElkKTsKICBjb25zdCBzdGVwcyA9IG91dHB1dEVsZW1lbnQuc3RlcHM7CgogIGNvbnN0IG5leHQgPSBzdGVwcy5uZXh0KG91dHB1dEVsZW1lbnQubGFzdFByb21pc2VWYWx1ZSk7CiAgcmV0dXJuIFByb21pc2UucmVzb2x2ZShuZXh0LnZhbHVlLnByb21pc2UpLnRoZW4oKHZhbHVlKSA9PiB7CiAgICAvLyBDYWNoZSB0aGUgbGFzdCBwcm9taXNlIHZhbHVlIHRvIG1ha2UgaXQgYXZhaWxhYmxlIHRvIHRoZSBuZXh0CiAgICAvLyBzdGVwIG9mIHRoZSBnZW5lcmF0b3IuCiAgICBvdXRwdXRFbGVtZW50Lmxhc3RQcm9taXNlVmFsdWUgPSB2YWx1ZTsKICAgIHJldHVybiBuZXh0LnZhbHVlLnJlc3BvbnNlOwogIH0pOwp9CgovKioKICogR2VuZXJhdG9yIGZ1bmN0aW9uIHdoaWNoIGlzIGNhbGxlZCBiZXR3ZWVuIGVhY2ggYXN5bmMgc3RlcCBvZiB0aGUgdXBsb2FkCiAqIHByb2Nlc3MuCiAqIEBwYXJhbSB7c3RyaW5nfSBpbnB1dElkIEVsZW1lbnQgSUQgb2YgdGhlIGlucHV0IGZpbGUgcGlja2VyIGVsZW1lbnQuCiAqIEBwYXJhbSB7c3RyaW5nfSBvdXRwdXRJZCBFbGVtZW50IElEIG9mIHRoZSBvdXRwdXQgZGlzcGxheS4KICogQHJldHVybiB7IUl0ZXJhYmxlPCFPYmplY3Q+fSBJdGVyYWJsZSBvZiBuZXh0IHN0ZXBzLgogKi8KZnVuY3Rpb24qIHVwbG9hZEZpbGVzU3RlcChpbnB1dElkLCBvdXRwdXRJZCkgewogIGNvbnN0IGlucHV0RWxlbWVudCA9IGRvY3VtZW50LmdldEVsZW1lbnRCeUlkKGlucHV0SWQpOwogIGlucHV0RWxlbWVudC5kaXNhYmxlZCA9IGZhbHNlOwoKICBjb25zdCBvdXRwdXRFbGVtZW50ID0gZG9jdW1lbnQuZ2V0RWxlbWVudEJ5SWQob3V0cHV0SWQpOwogIG91dHB1dEVsZW1lbnQuaW5uZXJIVE1MID0gJyc7CgogIGNvbnN0IHBpY2tlZFByb21pc2UgPSBuZXcgUHJvbWlzZSgocmVzb2x2ZSkgPT4gewogICAgaW5wdXRFbGVtZW50LmFkZEV2ZW50TGlzdGVuZXIoJ2NoYW5nZScsIChlKSA9PiB7CiAgICAgIHJlc29sdmUoZS50YXJnZXQuZmlsZXMpOwogICAgfSk7CiAgfSk7CgogIGNvbnN0IGNhbmNlbCA9IGRvY3VtZW50LmNyZWF0ZUVsZW1lbnQoJ2J1dHRvbicpOwogIGlucHV0RWxlbWVudC5wYXJlbnRFbGVtZW50LmFwcGVuZENoaWxkKGNhbmNlbCk7CiAgY2FuY2VsLnRleHRDb250ZW50ID0gJ0NhbmNlbCB1cGxvYWQnOwogIGNvbnN0IGNhbmNlbFByb21pc2UgPSBuZXcgUHJvbWlzZSgocmVzb2x2ZSkgPT4gewogICAgY2FuY2VsLm9uY2xpY2sgPSAoKSA9PiB7CiAgICAgIHJlc29sdmUobnVsbCk7CiAgICB9OwogIH0pOwoKICAvLyBXYWl0IGZvciB0aGUgdXNlciB0byBwaWNrIHRoZSBmaWxlcy4KICBjb25zdCBmaWxlcyA9IHlpZWxkIHsKICAgIHByb21pc2U6IFByb21pc2UucmFjZShbcGlja2VkUHJvbWlzZSwgY2FuY2VsUHJvbWlzZV0pLAogICAgcmVzcG9uc2U6IHsKICAgICAgYWN0aW9uOiAnc3RhcnRpbmcnLAogICAgfQogIH07CgogIGNhbmNlbC5yZW1vdmUoKTsKCiAgLy8gRGlzYWJsZSB0aGUgaW5wdXQgZWxlbWVudCBzaW5jZSBmdXJ0aGVyIHBpY2tzIGFyZSBub3QgYWxsb3dlZC4KICBpbnB1dEVsZW1lbnQuZGlzYWJsZWQgPSB0cnVlOwoKICBpZiAoIWZpbGVzKSB7CiAgICByZXR1cm4gewogICAgICByZXNwb25zZTogewogICAgICAgIGFjdGlvbjogJ2NvbXBsZXRlJywKICAgICAgfQogICAgfTsKICB9CgogIGZvciAoY29uc3QgZmlsZSBvZiBmaWxlcykgewogICAgY29uc3QgbGkgPSBkb2N1bWVudC5jcmVhdGVFbGVtZW50KCdsaScpOwogICAgbGkuYXBwZW5kKHNwYW4oZmlsZS5uYW1lLCB7Zm9udFdlaWdodDogJ2JvbGQnfSkpOwogICAgbGkuYXBwZW5kKHNwYW4oCiAgICAgICAgYCgke2ZpbGUudHlwZSB8fCAnbi9hJ30pIC0gJHtmaWxlLnNpemV9IGJ5dGVzLCBgICsKICAgICAgICBgbGFzdCBtb2RpZmllZDogJHsKICAgICAgICAgICAgZmlsZS5sYXN0TW9kaWZpZWREYXRlID8gZmlsZS5sYXN0TW9kaWZpZWREYXRlLnRvTG9jYWxlRGF0ZVN0cmluZygpIDoKICAgICAgICAgICAgICAgICAgICAgICAgICAgICAgICAgICAgJ24vYSd9IC0gYCkpOwogICAgY29uc3QgcGVyY2VudCA9IHNwYW4oJzAlIGRvbmUnKTsKICAgIGxpLmFwcGVuZENoaWxkKHBlcmNlbnQpOwoKICAgIG91dHB1dEVsZW1lbnQuYXBwZW5kQ2hpbGQobGkpOwoKICAgIGNvbnN0IGZpbGVEYXRhUHJvbWlzZSA9IG5ldyBQcm9taXNlKChyZXNvbHZlKSA9PiB7CiAgICAgIGNvbnN0IHJlYWRlciA9IG5ldyBGaWxlUmVhZGVyKCk7CiAgICAgIHJlYWRlci5vbmxvYWQgPSAoZSkgPT4gewogICAgICAgIHJlc29sdmUoZS50YXJnZXQucmVzdWx0KTsKICAgICAgfTsKICAgICAgcmVhZGVyLnJlYWRBc0FycmF5QnVmZmVyKGZpbGUpOwogICAgfSk7CiAgICAvLyBXYWl0IGZvciB0aGUgZGF0YSB0byBiZSByZWFkeS4KICAgIGxldCBmaWxlRGF0YSA9IHlpZWxkIHsKICAgICAgcHJvbWlzZTogZmlsZURhdGFQcm9taXNlLAogICAgICByZXNwb25zZTogewogICAgICAgIGFjdGlvbjogJ2NvbnRpbnVlJywKICAgICAgfQogICAgfTsKCiAgICAvLyBVc2UgYSBjaHVua2VkIHNlbmRpbmcgdG8gYXZvaWQgbWVzc2FnZSBzaXplIGxpbWl0cy4gU2VlIGIvNjIxMTU2NjAuCiAgICBsZXQgcG9zaXRpb24gPSAwOwogICAgd2hpbGUgKHBvc2l0aW9uIDwgZmlsZURhdGEuYnl0ZUxlbmd0aCkgewogICAgICBjb25zdCBsZW5ndGggPSBNYXRoLm1pbihmaWxlRGF0YS5ieXRlTGVuZ3RoIC0gcG9zaXRpb24sIE1BWF9QQVlMT0FEX1NJWkUpOwogICAgICBjb25zdCBjaHVuayA9IG5ldyBVaW50OEFycmF5KGZpbGVEYXRhLCBwb3NpdGlvbiwgbGVuZ3RoKTsKICAgICAgcG9zaXRpb24gKz0gbGVuZ3RoOwoKICAgICAgY29uc3QgYmFzZTY0ID0gYnRvYShTdHJpbmcuZnJvbUNoYXJDb2RlLmFwcGx5KG51bGwsIGNodW5rKSk7CiAgICAgIHlpZWxkIHsKICAgICAgICByZXNwb25zZTogewogICAgICAgICAgYWN0aW9uOiAnYXBwZW5kJywKICAgICAgICAgIGZpbGU6IGZpbGUubmFtZSwKICAgICAgICAgIGRhdGE6IGJhc2U2NCwKICAgICAgICB9LAogICAgICB9OwogICAgICBwZXJjZW50LnRleHRDb250ZW50ID0KICAgICAgICAgIGAke01hdGgucm91bmQoKHBvc2l0aW9uIC8gZmlsZURhdGEuYnl0ZUxlbmd0aCkgKiAxMDApfSUgZG9uZWA7CiAgICB9CiAgfQoKICAvLyBBbGwgZG9uZS4KICB5aWVsZCB7CiAgICByZXNwb25zZTogewogICAgICBhY3Rpb246ICdjb21wbGV0ZScsCiAgICB9CiAgfTsKfQoKc2NvcGUuZ29vZ2xlID0gc2NvcGUuZ29vZ2xlIHx8IHt9OwpzY29wZS5nb29nbGUuY29sYWIgPSBzY29wZS5nb29nbGUuY29sYWIgfHwge307CnNjb3BlLmdvb2dsZS5jb2xhYi5fZmlsZXMgPSB7CiAgX3VwbG9hZEZpbGVzLAogIF91cGxvYWRGaWxlc0NvbnRpbnVlLAp9Owp9KShzZWxmKTsK",
              "ok": true,
              "headers": [
                [
                  "content-type",
                  "application/javascript"
                ]
              ],
              "status": 200,
              "status_text": ""
            }
          },
          "base_uri": "https://localhost:8080/",
          "height": 72
        },
        "id": "tyaLYWG0TwPH",
        "outputId": "e77aa090-8f05-4d7c-e6dd-f93feb1d2230"
      },
      "source": [
        "from google.colab import files\r\n",
        "uploaded = files.upload()"
      ],
      "execution_count": 2,
      "outputs": [
        {
          "output_type": "display_data",
          "data": {
            "text/html": [
              "\n",
              "     <input type=\"file\" id=\"files-a716111b-6f6d-4ead-8a67-b16366c628d8\" name=\"files[]\" multiple disabled\n",
              "        style=\"border:none\" />\n",
              "     <output id=\"result-a716111b-6f6d-4ead-8a67-b16366c628d8\">\n",
              "      Upload widget is only available when the cell has been executed in the\n",
              "      current browser session. Please rerun this cell to enable.\n",
              "      </output>\n",
              "      <script src=\"/nbextensions/google.colab/files.js\"></script> "
            ],
            "text/plain": [
              "<IPython.core.display.HTML object>"
            ]
          },
          "metadata": {
            "tags": []
          }
        },
        {
          "output_type": "stream",
          "text": [
            "Saving Doctor_Train.xlsx to Doctor_Train (1).xlsx\n"
          ],
          "name": "stdout"
        }
      ]
    },
    {
      "cell_type": "code",
      "metadata": {
        "id": "e1SVY48HcOIk"
      },
      "source": [
        "#Loading the Train and Test data\r\n",
        "Train_data = pd.read_excel('Doctor_Train.xlsx')\r\n",
        "Test_data  = pd.read_excel('Doctor_Test.xlsx')"
      ],
      "execution_count": 3,
      "outputs": []
    },
    {
      "cell_type": "code",
      "metadata": {
        "colab": {
          "base_uri": "https://localhost:8080/",
          "height": 204
        },
        "id": "_u0BVi3ycp94",
        "outputId": "9f58b2e8-161a-439c-d1d6-98e016fc68cb"
      },
      "source": [
        "# Seeing first five rows of Training data\r\n",
        "Train_data.head()"
      ],
      "execution_count": 4,
      "outputs": [
        {
          "output_type": "execute_result",
          "data": {
            "text/html": [
              "<div>\n",
              "<style scoped>\n",
              "    .dataframe tbody tr th:only-of-type {\n",
              "        vertical-align: middle;\n",
              "    }\n",
              "\n",
              "    .dataframe tbody tr th {\n",
              "        vertical-align: top;\n",
              "    }\n",
              "\n",
              "    .dataframe thead th {\n",
              "        text-align: right;\n",
              "    }\n",
              "</style>\n",
              "<table border=\"1\" class=\"dataframe\">\n",
              "  <thead>\n",
              "    <tr style=\"text-align: right;\">\n",
              "      <th></th>\n",
              "      <th>Qualification</th>\n",
              "      <th>Experience</th>\n",
              "      <th>Rating</th>\n",
              "      <th>Place</th>\n",
              "      <th>Profile</th>\n",
              "      <th>Miscellaneous_Info</th>\n",
              "      <th>Fees</th>\n",
              "    </tr>\n",
              "  </thead>\n",
              "  <tbody>\n",
              "    <tr>\n",
              "      <th>0</th>\n",
              "      <td>BHMS, MD - Homeopathy</td>\n",
              "      <td>24 years experience</td>\n",
              "      <td>100%</td>\n",
              "      <td>Kakkanad, Ernakulam</td>\n",
              "      <td>Homeopath</td>\n",
              "      <td>100% 16 Feedback Kakkanad, Ernakulam</td>\n",
              "      <td>100</td>\n",
              "    </tr>\n",
              "    <tr>\n",
              "      <th>1</th>\n",
              "      <td>BAMS, MD - Ayurveda Medicine</td>\n",
              "      <td>12 years experience</td>\n",
              "      <td>98%</td>\n",
              "      <td>Whitefield, Bangalore</td>\n",
              "      <td>Ayurveda</td>\n",
              "      <td>98% 76 Feedback Whitefield, Bangalore</td>\n",
              "      <td>350</td>\n",
              "    </tr>\n",
              "    <tr>\n",
              "      <th>2</th>\n",
              "      <td>MBBS, MS - Otorhinolaryngology</td>\n",
              "      <td>9 years experience</td>\n",
              "      <td>NaN</td>\n",
              "      <td>Mathikere - BEL, Bangalore</td>\n",
              "      <td>ENT Specialist</td>\n",
              "      <td>NaN</td>\n",
              "      <td>300</td>\n",
              "    </tr>\n",
              "    <tr>\n",
              "      <th>3</th>\n",
              "      <td>BSc - Zoology, BAMS</td>\n",
              "      <td>12 years experience</td>\n",
              "      <td>NaN</td>\n",
              "      <td>Bannerghatta Road, Bangalore</td>\n",
              "      <td>Ayurveda</td>\n",
              "      <td>Bannerghatta Road, Bangalore ₹250 Available on...</td>\n",
              "      <td>250</td>\n",
              "    </tr>\n",
              "    <tr>\n",
              "      <th>4</th>\n",
              "      <td>BAMS</td>\n",
              "      <td>20 years experience</td>\n",
              "      <td>100%</td>\n",
              "      <td>Keelkattalai, Chennai</td>\n",
              "      <td>Ayurveda</td>\n",
              "      <td>100% 4 Feedback Keelkattalai, Chennai</td>\n",
              "      <td>250</td>\n",
              "    </tr>\n",
              "  </tbody>\n",
              "</table>\n",
              "</div>"
            ],
            "text/plain": [
              "                    Qualification  ... Fees\n",
              "0           BHMS, MD - Homeopathy  ...  100\n",
              "1    BAMS, MD - Ayurveda Medicine  ...  350\n",
              "2  MBBS, MS - Otorhinolaryngology  ...  300\n",
              "3             BSc - Zoology, BAMS  ...  250\n",
              "4                            BAMS  ...  250\n",
              "\n",
              "[5 rows x 7 columns]"
            ]
          },
          "metadata": {
            "tags": []
          },
          "execution_count": 4
        }
      ]
    },
    {
      "cell_type": "code",
      "metadata": {
        "colab": {
          "base_uri": "https://localhost:8080/",
          "height": 204
        },
        "id": "E7ecJ7jIiRrS",
        "outputId": "f2e9e5d3-1bf6-4698-b59c-c6a5530460cb"
      },
      "source": [
        "# Seeing first five rows of Testing data\r\n",
        "Test_data.head()"
      ],
      "execution_count": 5,
      "outputs": [
        {
          "output_type": "execute_result",
          "data": {
            "text/html": [
              "<div>\n",
              "<style scoped>\n",
              "    .dataframe tbody tr th:only-of-type {\n",
              "        vertical-align: middle;\n",
              "    }\n",
              "\n",
              "    .dataframe tbody tr th {\n",
              "        vertical-align: top;\n",
              "    }\n",
              "\n",
              "    .dataframe thead th {\n",
              "        text-align: right;\n",
              "    }\n",
              "</style>\n",
              "<table border=\"1\" class=\"dataframe\">\n",
              "  <thead>\n",
              "    <tr style=\"text-align: right;\">\n",
              "      <th></th>\n",
              "      <th>Qualification</th>\n",
              "      <th>Experience</th>\n",
              "      <th>Rating</th>\n",
              "      <th>Place</th>\n",
              "      <th>Profile</th>\n",
              "      <th>Miscellaneous_Info</th>\n",
              "    </tr>\n",
              "  </thead>\n",
              "  <tbody>\n",
              "    <tr>\n",
              "      <th>0</th>\n",
              "      <td>MBBS</td>\n",
              "      <td>35 years experience</td>\n",
              "      <td>NaN</td>\n",
              "      <td>Ghatkopar East, Mumbai</td>\n",
              "      <td>General Medicine</td>\n",
              "      <td>NaN</td>\n",
              "    </tr>\n",
              "    <tr>\n",
              "      <th>1</th>\n",
              "      <td>MBBS, Diploma in Otorhinolaryngology (DLO)</td>\n",
              "      <td>31 years experience</td>\n",
              "      <td>NaN</td>\n",
              "      <td>West Marredpally, Hyderabad</td>\n",
              "      <td>ENT Specialist</td>\n",
              "      <td>NaN</td>\n",
              "    </tr>\n",
              "    <tr>\n",
              "      <th>2</th>\n",
              "      <td>MBBS, DDVL</td>\n",
              "      <td>40 years experience</td>\n",
              "      <td>70%</td>\n",
              "      <td>KK Nagar, Chennai</td>\n",
              "      <td>Dermatologists</td>\n",
              "      <td>70% 4 Feedback KK Nagar, Chennai</td>\n",
              "    </tr>\n",
              "    <tr>\n",
              "      <th>3</th>\n",
              "      <td>BAMS</td>\n",
              "      <td>0 years experience</td>\n",
              "      <td>NaN</td>\n",
              "      <td>New Ashok Nagar, Delhi</td>\n",
              "      <td>Ayurveda</td>\n",
              "      <td>NaN</td>\n",
              "    </tr>\n",
              "    <tr>\n",
              "      <th>4</th>\n",
              "      <td>BDS, MDS - Conservative Dentistry &amp; Endodontics</td>\n",
              "      <td>16 years experience</td>\n",
              "      <td>100%</td>\n",
              "      <td>Kanakpura Road, Bangalore</td>\n",
              "      <td>Dentist</td>\n",
              "      <td>General Dentistry Conservative Dentistry Cosme...</td>\n",
              "    </tr>\n",
              "  </tbody>\n",
              "</table>\n",
              "</div>"
            ],
            "text/plain": [
              "                                     Qualification  ...                                 Miscellaneous_Info\n",
              "0                                             MBBS  ...                                                NaN\n",
              "1       MBBS, Diploma in Otorhinolaryngology (DLO)  ...                                                NaN\n",
              "2                                       MBBS, DDVL  ...                   70% 4 Feedback KK Nagar, Chennai\n",
              "3                                             BAMS  ...                                                NaN\n",
              "4  BDS, MDS - Conservative Dentistry & Endodontics  ...  General Dentistry Conservative Dentistry Cosme...\n",
              "\n",
              "[5 rows x 6 columns]"
            ]
          },
          "metadata": {
            "tags": []
          },
          "execution_count": 5
        }
      ]
    },
    {
      "cell_type": "code",
      "metadata": {
        "id": "gOnZCnQrida3",
        "colab": {
          "base_uri": "https://localhost:8080/"
        },
        "outputId": "16bf7166-1736-49ea-ae08-85506c8c529c"
      },
      "source": [
        "# Checking the shape of train and test data\r\n",
        "\r\n",
        "print('Train_data:',Train_data.shape)\r\n",
        "print('\\n')\r\n",
        "print('Test_data:',Test_data.shape)"
      ],
      "execution_count": 6,
      "outputs": [
        {
          "output_type": "stream",
          "text": [
            "Train_data: (5961, 7)\n",
            "\n",
            "\n",
            "Test_data: (1987, 6)\n"
          ],
          "name": "stdout"
        }
      ]
    },
    {
      "cell_type": "markdown",
      "metadata": {
        "id": "yX8NWc3NUVAA"
      },
      "source": [
        "## **Train_data**"
      ]
    },
    {
      "cell_type": "code",
      "metadata": {
        "colab": {
          "base_uri": "https://localhost:8080/"
        },
        "id": "P2Hna9JxUcJj",
        "outputId": "c20eb496-6914-40f4-c043-6b3cd9d0f603"
      },
      "source": [
        "#Checking the shape of Train data\r\n",
        "Train_data.shape"
      ],
      "execution_count": 7,
      "outputs": [
        {
          "output_type": "execute_result",
          "data": {
            "text/plain": [
              "(5961, 7)"
            ]
          },
          "metadata": {
            "tags": []
          },
          "execution_count": 7
        }
      ]
    },
    {
      "cell_type": "markdown",
      "metadata": {
        "id": "8SoyDQi5UfDD"
      },
      "source": [
        "Observation:\r\n",
        "\r\n",
        "There are 5961 rows and 7 columns are present in train dataset."
      ]
    },
    {
      "cell_type": "code",
      "metadata": {
        "colab": {
          "base_uri": "https://localhost:8080/"
        },
        "id": "FYgmmIbhUsMS",
        "outputId": "81887d9c-66b1-4bcc-ee09-a68c9de27fc5"
      },
      "source": [
        "#Checking the columns of Train data\r\n",
        "Train_data.columns"
      ],
      "execution_count": 8,
      "outputs": [
        {
          "output_type": "execute_result",
          "data": {
            "text/plain": [
              "Index(['Qualification', 'Experience', 'Rating', 'Place', 'Profile',\n",
              "       'Miscellaneous_Info', 'Fees'],\n",
              "      dtype='object')"
            ]
          },
          "metadata": {
            "tags": []
          },
          "execution_count": 8
        }
      ]
    },
    {
      "cell_type": "markdown",
      "metadata": {
        "id": "5Wopqlh1U4zY"
      },
      "source": [
        "### **checking for missing values**"
      ]
    },
    {
      "cell_type": "code",
      "metadata": {
        "colab": {
          "base_uri": "https://localhost:8080/"
        },
        "id": "KAfKVu0cVM6i",
        "outputId": "ba49e8da-bb10-4675-b35f-d58740febfb5"
      },
      "source": [
        "#Checking  for  anynull values\r\n",
        "Train_data.isnull().values.any()"
      ],
      "execution_count": 9,
      "outputs": [
        {
          "output_type": "execute_result",
          "data": {
            "text/plain": [
              "True"
            ]
          },
          "metadata": {
            "tags": []
          },
          "execution_count": 9
        }
      ]
    },
    {
      "cell_type": "code",
      "metadata": {
        "colab": {
          "base_uri": "https://localhost:8080/"
        },
        "id": "I3ju1812VSTa",
        "outputId": "518a3b8c-e692-4419-a6ec-ac3550c22c66"
      },
      "source": [
        "#checking for null values in columns\r\n",
        "Train_data.isnull().sum()"
      ],
      "execution_count": 10,
      "outputs": [
        {
          "output_type": "execute_result",
          "data": {
            "text/plain": [
              "Qualification            0\n",
              "Experience               0\n",
              "Rating                3302\n",
              "Place                   25\n",
              "Profile                  0\n",
              "Miscellaneous_Info    2620\n",
              "Fees                     0\n",
              "dtype: int64"
            ]
          },
          "metadata": {
            "tags": []
          },
          "execution_count": 10
        }
      ]
    },
    {
      "cell_type": "code",
      "metadata": {
        "colab": {
          "base_uri": "https://localhost:8080/",
          "height": 354
        },
        "id": "pz4fAZuFWV9L",
        "outputId": "16898684-f0bb-4d00-ab0f-3fa7d9b0b4ec"
      },
      "source": [
        "#Now we check  for null value via visualization\r\n",
        "\r\n",
        "sns.heatmap(Train_data.isnull(),yticklabels=False,cbar=True,cmap='tab20_r')\r\n",
        "plt.show()"
      ],
      "execution_count": 11,
      "outputs": [
        {
          "output_type": "display_data",
          "data": {
            "image/png": "[encoded data removed]",
            "text/plain": [
              "<Figure size 432x288 with 2 Axes>"
            ]
          },
          "metadata": {
            "tags": [],
            "needs_background": "light"
          }
        }
      ]
    },
    {
      "cell_type": "markdown",
      "metadata": {
        "id": "FmgM4lkAVkQg"
      },
      "source": [
        "Observation:\r\n",
        "\r\n",
        "1-There are 3302 null values are present in Rating column.\r\n",
        "\r\n",
        "2-25 null values are present in Place column.\r\n",
        "\r\n",
        "3-2620 null values present in Miscellaneous_Info column."
      ]
    },
    {
      "cell_type": "code",
      "metadata": {
        "colab": {
          "base_uri": "https://localhost:8080/"
        },
        "id": "xDYIFtd9WhCq",
        "outputId": "8566e73c-4122-4d6b-e0d8-41f55459c8ed"
      },
      "source": [
        "#checking the information of column\r\n",
        "Train_data.info()"
      ],
      "execution_count": 12,
      "outputs": [
        {
          "output_type": "stream",
          "text": [
            "<class 'pandas.core.frame.DataFrame'>\n",
            "RangeIndex: 5961 entries, 0 to 5960\n",
            "Data columns (total 7 columns):\n",
            " #   Column              Non-Null Count  Dtype \n",
            "---  ------              --------------  ----- \n",
            " 0   Qualification       5961 non-null   object\n",
            " 1   Experience          5961 non-null   object\n",
            " 2   Rating              2659 non-null   object\n",
            " 3   Place               5936 non-null   object\n",
            " 4   Profile             5961 non-null   object\n",
            " 5   Miscellaneous_Info  3341 non-null   object\n",
            " 6   Fees                5961 non-null   int64 \n",
            "dtypes: int64(1), object(6)\n",
            "memory usage: 326.1+ KB\n"
          ],
          "name": "stdout"
        }
      ]
    },
    {
      "cell_type": "markdown",
      "metadata": {
        "id": "myWrpFzYZnlc"
      },
      "source": [
        "Observation:\r\n",
        "\r\n",
        "1-Rating, Place, Micellaneous_Info contain missing values.\r\n",
        "\r\n",
        "2-We have to remove Miscellaneous_Info column because it has a lot of missing data and it consists of the ratings, place which is already in a different columns.\r\n",
        "\r\n",
        "3-In Rating and Place columns, varibles are of  categorical datatype .So, we impute the missing values with most frequent value i.e. mode."
      ]
    },
    {
      "cell_type": "code",
      "metadata": {
        "colab": {
          "base_uri": "https://localhost:8080/",
          "height": 204
        },
        "id": "ACZfn45Xbn99",
        "outputId": "3c779cb5-20de-4ac3-d36a-dc232fff6803"
      },
      "source": [
        "#Dropping Miscellaneous_Info column as it has no use\r\n",
        "Train_data.drop('Miscellaneous_Info',axis=1,inplace=True)\r\n",
        "Train_data.head()\r\n"
      ],
      "execution_count": 13,
      "outputs": [
        {
          "output_type": "execute_result",
          "data": {
            "text/html": [
              "<div>\n",
              "<style scoped>\n",
              "    .dataframe tbody tr th:only-of-type {\n",
              "        vertical-align: middle;\n",
              "    }\n",
              "\n",
              "    .dataframe tbody tr th {\n",
              "        vertical-align: top;\n",
              "    }\n",
              "\n",
              "    .dataframe thead th {\n",
              "        text-align: right;\n",
              "    }\n",
              "</style>\n",
              "<table border=\"1\" class=\"dataframe\">\n",
              "  <thead>\n",
              "    <tr style=\"text-align: right;\">\n",
              "      <th></th>\n",
              "      <th>Qualification</th>\n",
              "      <th>Experience</th>\n",
              "      <th>Rating</th>\n",
              "      <th>Place</th>\n",
              "      <th>Profile</th>\n",
              "      <th>Fees</th>\n",
              "    </tr>\n",
              "  </thead>\n",
              "  <tbody>\n",
              "    <tr>\n",
              "      <th>0</th>\n",
              "      <td>BHMS, MD - Homeopathy</td>\n",
              "      <td>24 years experience</td>\n",
              "      <td>100%</td>\n",
              "      <td>Kakkanad, Ernakulam</td>\n",
              "      <td>Homeopath</td>\n",
              "      <td>100</td>\n",
              "    </tr>\n",
              "    <tr>\n",
              "      <th>1</th>\n",
              "      <td>BAMS, MD - Ayurveda Medicine</td>\n",
              "      <td>12 years experience</td>\n",
              "      <td>98%</td>\n",
              "      <td>Whitefield, Bangalore</td>\n",
              "      <td>Ayurveda</td>\n",
              "      <td>350</td>\n",
              "    </tr>\n",
              "    <tr>\n",
              "      <th>2</th>\n",
              "      <td>MBBS, MS - Otorhinolaryngology</td>\n",
              "      <td>9 years experience</td>\n",
              "      <td>NaN</td>\n",
              "      <td>Mathikere - BEL, Bangalore</td>\n",
              "      <td>ENT Specialist</td>\n",
              "      <td>300</td>\n",
              "    </tr>\n",
              "    <tr>\n",
              "      <th>3</th>\n",
              "      <td>BSc - Zoology, BAMS</td>\n",
              "      <td>12 years experience</td>\n",
              "      <td>NaN</td>\n",
              "      <td>Bannerghatta Road, Bangalore</td>\n",
              "      <td>Ayurveda</td>\n",
              "      <td>250</td>\n",
              "    </tr>\n",
              "    <tr>\n",
              "      <th>4</th>\n",
              "      <td>BAMS</td>\n",
              "      <td>20 years experience</td>\n",
              "      <td>100%</td>\n",
              "      <td>Keelkattalai, Chennai</td>\n",
              "      <td>Ayurveda</td>\n",
              "      <td>250</td>\n",
              "    </tr>\n",
              "  </tbody>\n",
              "</table>\n",
              "</div>"
            ],
            "text/plain": [
              "                    Qualification           Experience  ...         Profile Fees\n",
              "0           BHMS, MD - Homeopathy  24 years experience  ...       Homeopath  100\n",
              "1    BAMS, MD - Ayurveda Medicine  12 years experience  ...        Ayurveda  350\n",
              "2  MBBS, MS - Otorhinolaryngology   9 years experience  ...  ENT Specialist  300\n",
              "3             BSc - Zoology, BAMS  12 years experience  ...        Ayurveda  250\n",
              "4                            BAMS  20 years experience  ...        Ayurveda  250\n",
              "\n",
              "[5 rows x 6 columns]"
            ]
          },
          "metadata": {
            "tags": []
          },
          "execution_count": 13
        }
      ]
    },
    {
      "cell_type": "markdown",
      "metadata": {
        "id": "ULcTNH86cQod"
      },
      "source": [
        "Miscellaneous_Info column has been removed."
      ]
    },
    {
      "cell_type": "code",
      "metadata": {
        "id": "AMDGDF_6ct49"
      },
      "source": [
        "#Imputing the missing value with mode\r\n",
        "\r\n",
        "for col in ['Rating','Place']:\r\n",
        "  Train_data[col].fillna(Train_data[col].mode()[0],inplace=True)"
      ],
      "execution_count": 14,
      "outputs": []
    },
    {
      "cell_type": "code",
      "metadata": {
        "colab": {
          "base_uri": "https://localhost:8080/"
        },
        "id": "CI4o-ivXdBK_",
        "outputId": "e5a245fb-d136-4d98-d70c-9c03db6ec8a8"
      },
      "source": [
        "#now again check for missing values\r\n",
        "Train_data.isnull().values.any()"
      ],
      "execution_count": 15,
      "outputs": [
        {
          "output_type": "execute_result",
          "data": {
            "text/plain": [
              "False"
            ]
          },
          "metadata": {
            "tags": []
          },
          "execution_count": 15
        }
      ]
    },
    {
      "cell_type": "code",
      "metadata": {
        "colab": {
          "base_uri": "https://localhost:8080/"
        },
        "id": "uE-hqlgBdG5e",
        "outputId": "c1c88fd7-509b-44a5-f436-48e81c0bff34"
      },
      "source": [
        "#checking for null values in columns again\r\n",
        "Train_data.isnull().sum()"
      ],
      "execution_count": 16,
      "outputs": [
        {
          "output_type": "execute_result",
          "data": {
            "text/plain": [
              "Qualification    0\n",
              "Experience       0\n",
              "Rating           0\n",
              "Place            0\n",
              "Profile          0\n",
              "Fees             0\n",
              "dtype: int64"
            ]
          },
          "metadata": {
            "tags": []
          },
          "execution_count": 16
        }
      ]
    },
    {
      "cell_type": "markdown",
      "metadata": {
        "id": "FHA-q6X5dSnx"
      },
      "source": [
        "Observation :\r\n",
        "\r\n",
        "There is no null value present in our dataset."
      ]
    },
    {
      "cell_type": "code",
      "metadata": {
        "colab": {
          "base_uri": "https://localhost:8080/"
        },
        "id": "fiy5QVHXdW49",
        "outputId": "ee0ce479-5621-4654-bf30-515fea8a00f6"
      },
      "source": [
        "#Now checking the shape\r\n",
        "Train_data.shape"
      ],
      "execution_count": 17,
      "outputs": [
        {
          "output_type": "execute_result",
          "data": {
            "text/plain": [
              "(5961, 6)"
            ]
          },
          "metadata": {
            "tags": []
          },
          "execution_count": 17
        }
      ]
    },
    {
      "cell_type": "code",
      "metadata": {
        "colab": {
          "base_uri": "https://localhost:8080/"
        },
        "id": "jYK89KvIdcCK",
        "outputId": "4c0d3662-656c-4764-c089-4e27a02e9bd9"
      },
      "source": [
        "#checking the datatypes of train dataset\r\n",
        "Train_data.dtypes"
      ],
      "execution_count": 18,
      "outputs": [
        {
          "output_type": "execute_result",
          "data": {
            "text/plain": [
              "Qualification    object\n",
              "Experience       object\n",
              "Rating           object\n",
              "Place            object\n",
              "Profile          object\n",
              "Fees              int64\n",
              "dtype: object"
            ]
          },
          "metadata": {
            "tags": []
          },
          "execution_count": 18
        }
      ]
    },
    {
      "cell_type": "markdown",
      "metadata": {
        "id": "-dHNmFkVd-CP"
      },
      "source": [
        "Observation\r\n",
        "\r\n",
        "1- All the columns are object type except Price column which is int data type and our independent variable.\r\n",
        "\r\n",
        "2- Before going further we have to change the data type of column which have object data type and also we have to change the value inside the columns because our model does not understand string values."
      ]
    },
    {
      "cell_type": "code",
      "metadata": {
        "colab": {
          "base_uri": "https://localhost:8080/"
        },
        "id": "LRUCFk9ne0NR",
        "outputId": "ea937a01-993c-4e2f-b610-a9d13dca0265"
      },
      "source": [
        "#Exploing Data Variable\r\n",
        "for column in Train_data.columns:\r\n",
        "    if Train_data[column].dtypes==object:\r\n",
        "        print(str(column)+':'+str(Train_data[column].unique()))\r\n",
        "        print(Train_data[column].value_counts())\r\n",
        "        print('********************************************************************')\r\n",
        "        print('\\n')"
      ],
      "execution_count": 19,
      "outputs": [
        {
          "output_type": "stream",
          "text": [
            "Qualification:['BHMS, MD - Homeopathy' 'BAMS, MD - Ayurveda Medicine'\n",
            " 'MBBS, MS - Otorhinolaryngology' ...\n",
            " 'MD - Dermatology , Venereology & Leprosy, MBBS, Fellowship In Dermatosurgery'\n",
            " 'BDS, certification in smile designing'\n",
            " 'MD - Homeopathy, Post Graduate Diploma in Healthcare Management(PGDHM), DHMS (Diploma in Homeopathic Medicine and Surgery)']\n",
            "BDS                                                                                       488\n",
            "BHMS                                                                                      477\n",
            "BAMS                                                                                      471\n",
            "MBBS                                                                                      334\n",
            "MBBS, MS - ENT                                                                            220\n",
            "                                                                                         ... \n",
            "BDS, PhD - Orthodontics & Dentofacial Orthopaedics, Certificate of Oral Implantology        1\n",
            "MBBS, MD - General Medicine, Fellowship in Gastroenterology, Fellowship in Diabetology      1\n",
            "BAMS, DNHE                                                                                  1\n",
            "MBBS, MRCS (UK), MS - General Surgery, MCh - Cardio Thoracic and Vascular Surgery           1\n",
            "MD - Ayurveda Medicine, BAMS, Diploma in Family Medicine (DFM)                              1\n",
            "Name: Qualification, Length: 1420, dtype: int64\n",
            "********************************************************************\n",
            "\n",
            "\n",
            "Experience:['24 years experience' '12 years experience' '9 years experience'\n",
            " '20 years experience' '8 years experience' '42 years experience'\n",
            " '10 years experience' '14 years experience' '23 years experience'\n",
            " '5 years experience' '7 years experience' '21 years experience'\n",
            " '19 years experience' '41 years experience' '31 years experience'\n",
            " '25 years experience' '16 years experience' '15 years experience'\n",
            " '11 years experience' '22 years experience' '38 years experience'\n",
            " '6 years experience' '36 years experience' '13 years experience'\n",
            " '18 years experience' '46 years experience' '40 years experience'\n",
            " '49 years experience' '33 years experience' '0 years experience'\n",
            " '27 years experience' '30 years experience' '52 years experience'\n",
            " '60 years experience' '26 years experience' '35 years experience'\n",
            " '34 years experience' '39 years experience' '32 years experience'\n",
            " '17 years experience' '28 years experience' '58 years experience'\n",
            " '4 years experience' '45 years experience' '44 years experience'\n",
            " '3 years experience' '37 years experience' '50 years experience'\n",
            " '29 years experience' '43 years experience' '54 years experience'\n",
            " '66 years experience' '2 years experience' '51 years experience'\n",
            " '47 years experience' '48 years experience' '53 years experience'\n",
            " '56 years experience' '61 years experience' '59 years experience'\n",
            " '57 years experience' '55 years experience' '65 years experience'\n",
            " '64 years experience']\n",
            "9 years experience     323\n",
            "10 years experience    294\n",
            "11 years experience    288\n",
            "8 years experience     282\n",
            "12 years experience    279\n",
            "                      ... \n",
            "59 years experience      1\n",
            "60 years experience      1\n",
            "61 years experience      1\n",
            "58 years experience      1\n",
            "64 years experience      1\n",
            "Name: Experience, Length: 64, dtype: int64\n",
            "********************************************************************\n",
            "\n",
            "\n",
            "Rating:['100%' '98%' '99%' '79%' '95%' '97%' '94%' '88%' '90%' '80%' '93%' '36%'\n",
            " '78%' '87%' '96%' '82%' '89%' '74%' '86%' '92%' '83%' '76%' '85%' '56%'\n",
            " '91%' '68%' '60%' '75%' '69%' '73%' '67%' '77%' '33%' '55%' '71%' '84%'\n",
            " '45%' '63%' '72%' '81%' '62%' '57%' '7%' '48%' '40%' '70%' '64%' '65%'\n",
            " '47%' '58%' '53%']\n",
            "100%    3986\n",
            "98%      290\n",
            "99%      259\n",
            "97%      241\n",
            "96%      220\n",
            "95%      178\n",
            "94%      115\n",
            "93%      109\n",
            "92%       66\n",
            "90%       66\n",
            "91%       60\n",
            "89%       42\n",
            "88%       41\n",
            "85%       27\n",
            "82%       23\n",
            "83%       21\n",
            "86%       21\n",
            "80%       19\n",
            "77%       16\n",
            "87%       14\n",
            "84%       13\n",
            "79%       13\n",
            "81%       12\n",
            "67%       12\n",
            "76%        9\n",
            "71%        9\n",
            "73%        8\n",
            "75%        8\n",
            "60%        7\n",
            "74%        7\n",
            "78%        6\n",
            "68%        5\n",
            "56%        5\n",
            "70%        4\n",
            "69%        4\n",
            "72%        3\n",
            "57%        3\n",
            "33%        2\n",
            "62%        2\n",
            "64%        2\n",
            "55%        2\n",
            "63%        2\n",
            "65%        1\n",
            "40%        1\n",
            "7%         1\n",
            "48%        1\n",
            "58%        1\n",
            "47%        1\n",
            "36%        1\n",
            "45%        1\n",
            "53%        1\n",
            "Name: Rating, dtype: int64\n",
            "********************************************************************\n",
            "\n",
            "\n",
            "Place:['Kakkanad, Ernakulam' 'Whitefield, Bangalore'\n",
            " 'Mathikere - BEL, Bangalore' 'Bannerghatta Road, Bangalore'\n",
            " 'Keelkattalai, Chennai' 'Porur, Chennai' 'Karol Bagh, Delhi'\n",
            " 'Arekere, Bangalore' 'Old City, Hyderabad' 'Athani, Ernakulam'\n",
            " 'Thousand Lights, Chennai' 'Somajiguda, Hyderabad'\n",
            " 'Coimbatore Racecourse, Coimbatore' 'Jubilee Hills, Hyderabad'\n",
            " 'Kondli, Delhi' 'Saroor Nagar, Hyderabad' 'Tambaram West, Chennai'\n",
            " 'Purasawakkam, Chennai' 'KPHB, Hyderabad' 'HSR Layout, Bangalore'\n",
            " 'Pollachi, Coimbatore' 'Vasundhra Enclave, Delhi' 'Chembur, Mumbai'\n",
            " 'Thammanam, Ernakulam' 'Andheri, Mumbai' 'Pattom, Thiruvananthapuram'\n",
            " 'Kukatpally, Hyderabad' 'Vadavalli, Coimbatore' 'Defence Colony, Delhi'\n",
            " 'Banjara Hills, Hyderabad' 'Sion West, Mumbai' 'CR Park, Delhi'\n",
            " 'Mogappair East, Chennai' 'IP Extension, Delhi'\n",
            " 'Safdarjung Enclave, Delhi' 'New Friends Colony, Delhi'\n",
            " 'Borivali West, Mumbai' 'Saket, Delhi' 'Malad, Mumbai'\n",
            " 'Hyder Nagar, Hyderabad' 'Dahisar West, Mumbai' 'RT Nagar, Bangalore'\n",
            " 'Powai, Mumbai' 'Basheerbagh, Hyderabad' 'Musheerabad, Hyderabad'\n",
            " 'AS Rao Nagar, Hyderabad' 'Madhapur, Hyderabad' 'Gandhinagar, Hyderabad'\n",
            " 'Chetpet, Chennai' 'Vileparle East, Mumbai'\n",
            " 'Yelahanka New Town, Bangalore' 'Kodambakkam, Chennai'\n",
            " 'Malleswaram, Bangalore' 'Pallikaranai, Chennai' 'Nallakunta, Hyderabad'\n",
            " 'Paschim Vihar, Delhi' 'Meera Bagh, Delhi' 'Chattarpur, Delhi'\n",
            " 'Andheri West, Mumbai' 'Himayat Nagar, Hyderabad' 'Adambakkam, Chennai'\n",
            " 'Punjabi Bagh, Delhi' 'Mahalaxmi, Mumbai' 'Kalina, Mumbai'\n",
            " 'Attapur, Hyderabad' 'Lakdikapul, Hyderabad' 'Ambattur, Chennai'\n",
            " 'Ramnagar, Coimbatore' 'Shalimar Bagh, Delhi' 'Nungambakkam, Chennai'\n",
            " 'Miyapur, Hyderabad' 'Sagarpur, Delhi' 'Girgaon, Mumbai'\n",
            " 'Jayanagar, Bangalore' 'Palayam, Thiruvananthapuram' 'Munirka, Delhi'\n",
            " 'Tuglakabad, Delhi' 'Moosarambagh, Hyderabad' 'Anna Nagar East, Chennai'\n",
            " 'Bandra West, Mumbai' 'Kanakpura Road, Bangalore' 'Green Park, Delhi'\n",
            " 'Maduravoyal, Chennai' 'Dahisar East, Mumbai' 'Moosapet, Hyderabad'\n",
            " 'Koramangala, Bangalore' 'TV Medical College, Thiruvananthapuram'\n",
            " 'Kadavanthra, Ernakulam' 'Greams Road, Chennai' 'Bommanahalli, Bangalore'\n",
            " 'T Nagar, Chennai' 'Yelahanka, Bangalore' 'Hazrat Nizamuddin, Delhi'\n",
            " 'Old Rajendra Nagar, Delhi' 'Dadar West, Mumbai' 'Indiranagar, Bangalore'\n",
            " 'Perumbakkam, Chennai' 'Shaikpet, Hyderabad' 'Vyttila, Ernakulam'\n",
            " 'Khar West, Mumbai' 'Goregaon West, Mumbai' 'Bakkarwala, Delhi'\n",
            " 'Nesapakkam, Chennai' 'BTM Layout 2nd Stage, Bangalore'\n",
            " 'Ashok Nagar, Chennai' 'Chandivali, Mumbai' 'Uttam Nagar, Delhi'\n",
            " 'Gujranwala Town, Delhi' 'Greater Kailash Part 1, Delhi'\n",
            " 'Panchsheel Park, Delhi' 'Thoraipakkam, Chennai'\n",
            " 'South Extension 2, Delhi' 'Kandivali East, Mumbai' 'Pitampura, Delhi'\n",
            " 'Banashankari 3rd Stage, Bangalore' 'Kolenchery, Ernakulam'\n",
            " 'Kumaraswamy Layout, Bangalore' 'Vadapalani, Chennai'\n",
            " 'Manikonda, Hyderabad' 'Gandhipuram, Coimbatore'\n",
            " 'Yeshwanthpur, Bangalore' 'Ayanavaram, Chennai'\n",
            " 'Basaveshwaranagar, Bangalore' 'Malad West, Mumbai' 'Vikas Puri, Delhi'\n",
            " 'Kondapur, Hyderabad' 'Andheri East, Mumbai' 'Sulur, Coimbatore'\n",
            " 'Adyar, Chennai' 'Krishna Nagar, Delhi' 'Langer House, Hyderabad'\n",
            " 'Thiruvanmiyur, Chennai' 'Dwarka, Delhi' 'Bhandup West, Mumbai'\n",
            " 'Janak Puri, Delhi' 'Rajajinagar, Bangalore' 'South Extension 1, Delhi'\n",
            " 'Kemps Corner, Mumbai' 'Peelamedu, Coimbatore' 'Kandivali West, Mumbai'\n",
            " 'Thevara, Ernakulam' 'Wilson Garden, Bangalore' 'Wadala, Mumbai'\n",
            " 'Pahar Ganj, Delhi' 'Chanchalguda, Hyderabad' 'Chikkadpally, Hyderabad'\n",
            " 'Pasur-avanashi, Coimbatore' 'Nagarbhavi, Bangalore'\n",
            " 'Lajpat Nagar, Delhi' 'Mayur Vihar Ph-I, Delhi' 'Dilshad Garden, Delhi'\n",
            " 'Vijayanagar, Bangalore' 'Alwarpet, Chennai'\n",
            " 'Pappanamcode, Thiruvananthapuram' 'Aluva, Ernakulam'\n",
            " 'Nariman Point, Mumbai' 'Kilkattalai, Chennai' 'Dilsukhnagar, Hyderabad'\n",
            " 'Kurla West, Mumbai' 'Begumpet, Hyderabad' 'Kaloor, Ernakulam'\n",
            " 'Hitech City, Hyderabad' 'Goregaon East, Mumbai'\n",
            " 'Velandipalayam, Coimbatore' 'Ghatkopar East, Mumbai'\n",
            " 'Mulund West, Mumbai' 'Yousufguda, Hyderabad' 'Ghatkopar West, Mumbai'\n",
            " 'TVM Beach, Thiruvananthapuram' 'Vanagaram, Chennai' 'Worli, Mumbai'\n",
            " 'Koramangala 1 Block, Bangalore' 'Saki Vihar Road, Mumbai'\n",
            " 'Versova, Mumbai' 'CV Raman Nagar, Bangalore' 'Secunderabad, Hyderabad'\n",
            " 'BTM Layout 1st Stage, Bangalore' 'Ramkoti, Hyderabad'\n",
            " 'MRC Nagar, Chennai' 'Malkajgiri, Hyderabad' 'Gachibowli, Hyderabad'\n",
            " 'Mogappair West, Chennai' 'Mayur Vihar Ph-III, Delhi'\n",
            " 'Kurla East, Mumbai' 'Ashok Vihar, Delhi' 'Mahim, Mumbai'\n",
            " 'Villivakkam, Chennai' 'Srinagar Colony, Hyderabad' 'Chromepet, Chennai'\n",
            " 'Pammal, Chennai' 'Banashankari, Bangalore' 'Velachery, Chennai'\n",
            " 'Chanakyapuri, Delhi' 'Kalyan Nagar, Bangalore' 'Oshiwara, Mumbai'\n",
            " 'Karapakkam, Chennai' 'Borivali, Mumbai' 'Mylapore, Chennai'\n",
            " 'Electronics City, Bangalore' 'Perungudi, Chennai'\n",
            " 'Basavanagudi, Bangalore' 'MG Road, Bangalore' 'Thiruvottiyur, Chennai'\n",
            " 'Greater Kailash Part 2, Delhi' 'Bilekahalli, Bangalore'\n",
            " 'Nanganallur, Chennai' 'Rohini, Delhi' 'Thrikkakara, Ernakulam'\n",
            " 'Manapakkam, Chennai' 'Bellandur, Bangalore' 'Ameerpet, Hyderabad'\n",
            " 'Thiruvallom, Thiruvananthapuram' 'R.S. Puram, Coimbatore'\n",
            " 'Kumarapuram, Thiruvananthapuram' 'Palam Colony, Delhi' 'Manali, Chennai'\n",
            " 'Valasaravakkam, Chennai' 'Barkatpura, Hyderabad'\n",
            " 'Singanallur, Coimbatore' 'Mulund, Mumbai' 'Dadar East, Mumbai'\n",
            " 'Borabanda, Hyderabad' 'Model Town 3, Delhi' 'Ulsoor, Bangalore'\n",
            " 'Bhayandar West, Mumbai' 'Hari Nagar, Delhi' 'Horamavu, Bangalore'\n",
            " 'Santacruz East, Mumbai' 'OMR Road, Chennai' 'Kammana Halli, Bangalore'\n",
            " 'Tilak Nagar, Delhi' 'Panathur, Bangalore'\n",
            " 'Rajarajeshwarinagar, Bangalore' 'Paravur, Ernakulam'\n",
            " 'Preet Vihar, Delhi' 'Chembur East, Mumbai' 'Jakkur, Bangalore'\n",
            " 'Vanasthalipuram, Hyderabad' 'Mandaveli, Chennai'\n",
            " 'Kumara Park West, Bangalore' 'Domlur, Bangalore'\n",
            " 'Jeevanbhimanagar, Bangalore' 'Santacruz West, Mumbai'\n",
            " 'Shankar Vihar, Delhi' 'Jogeshwari East, Mumbai'\n",
            " 'Kasavanahalli, Bangalore' 'Ambalamukku, Thiruvananthapuram'\n",
            " 'Jhilmil Colony, Delhi' 'Dwarka Sector 7, Delhi' 'Tatabad, Coimbatore'\n",
            " 'Marine Lines, Mumbai' 'Tolichowki, Hyderabad' 'Sundarapuram, Coimbatore'\n",
            " 'Kothanur, Bangalore' 'Chinmaya Nagar, Chennai' 'Vasant Vihar, Delhi'\n",
            " 'Mehdipatnam, Hyderabad' 'Kadugodi, Bangalore' 'Ganapathy, Coimbatore'\n",
            " 'SR Nagar, Hyderabad' 'Perambur, Chennai' 'Opera House, Mumbai'\n",
            " 'Selvapuram, Coimbatore' 'Karkardooma, Delhi' 'Alwarthirunagar, Chennai'\n",
            " 'KR Puram, Bangalore' 'Ramesh Nagar, Delhi' 'Malakpet, Hyderabad'\n",
            " 'Tondiarpet, Chennai' 'Vikrampuri Colony, Hyderabad'\n",
            " 'Besant Nagar, Chennai' 'Vasant Kunj, Delhi' 'Banaswadi, Bangalore'\n",
            " 'BTM Layout, Bangalore' 'Medavakkam, Chennai' 'Vileparle West, Mumbai'\n",
            " 'Sahakaranagar, Bangalore' 'LB Nagar, Hyderabad' 'Punjagutta, Hyderabad'\n",
            " 'Yamuna Vihar, Delhi' 'Marathahalli, Bangalore'\n",
            " 'JP Nagar 2 Phase, Bangalore' 'Rani Bagh, Delhi' 'Jayamahal, Bangalore'\n",
            " 'Nagpada, Mumbai' 'Kundalahalli, Bangalore' 'Kailash Colony, Delhi'\n",
            " 'Pandav Nagar, Delhi' 'Karkhana, Hyderabad' 'West Mambalam, Chennai'\n",
            " 'Aminjikarai, Chennai' 'Madipakkam, Chennai' 'Charkop, Mumbai'\n",
            " 'Adarsh Nagar, Delhi' 'Dadar, Mumbai' 'Kaggadasapura, Bangalore'\n",
            " 'Matunga, Mumbai' 'Sun city, Hyderabad' 'Mahadevapura, Bangalore'\n",
            " 'Kalady, Ernakulam' 'Anna Nagar West, Chennai' 'Mayur Vihar Ph-II, Delhi'\n",
            " 'Tis Hazari, Delhi' 'Vennala, Ernakulam' 'Mira Road, Mumbai'\n",
            " 'Alwal, Hyderabad' 'Trimulgherry, Hyderabad'\n",
            " 'Raja Annamalai Puram, Chennai' 'JP Nagar 7 Phase, Bangalore'\n",
            " 'Old Bowenpally, Hyderabad' 'Santosh Nagar, Hyderabad'\n",
            " 'Hope College, Coimbatore' 'Mulund East, Mumbai' 'Mount Road, Chennai'\n",
            " 'Patel Nagar West, Delhi' 'Jayanagar 4 Block, Bangalore'\n",
            " 'West Marredpally, Hyderabad' 'Jagriti Enclave, Delhi'\n",
            " 'Sarita Vihar, Delhi' 'Rajendra Nagar, Hyderabad'\n",
            " 'Thudiyalur, Coimbatore' 'Bhayandar East, Mumbai'\n",
            " 'Narayanguda, Hyderabad' 'Kothapet, Hyderabad' 'KK Nagar, Chennai'\n",
            " 'Tripunithura, Ernakulam' 'Model Town, Delhi'\n",
            " 'Suchitra Circle, Hyderabad' 'Pusa Road, Delhi'\n",
            " 'Vijaynagar Colony, Hyderabad' 'Alandur, Chennai' 'Cuffe Parade, Mumbai'\n",
            " 'Kalkaji, Delhi' 'Saibaba Colony, Coimbatore'\n",
            " 'Kattakada, Thiruvananthapuram' 'Jogeshwari West, Mumbai'\n",
            " 'Erragadda, Hyderabad' 'Tilak Nagar, Hyderabad' 'Edapally, Ernakulam'\n",
            " 'Patparganj, Delhi' 'Sainikpuri, Hyderabad' 'Nanjundapuram, Coimbatore'\n",
            " 'Nizampet, Hyderabad' 'Kolathur, Chennai' 'Chamarajpet, Bangalore'\n",
            " 'Kala Ghoda, Mumbai' 'Padmarao Nagar, Hyderabad' 'Uppal, Hyderabad'\n",
            " 'Guduvanchery, Chennai' 'Satya Niketan, Delhi' 'Chanda Nagar, Hyderabad'\n",
            " 'Sowripalayam, Coimbatore' 'Vikhroli West, Mumbai'\n",
            " 'Rajouri Garden, Delhi' 'Alaknanda, Delhi' 'Millers Road, Bangalore'\n",
            " 'Kandanchavadi, Chennai' 'Vigyan Vihar, Delhi' 'Bandra East, Mumbai'\n",
            " 'Vilankurichi, Coimbatore' 'Malad East, Mumbai' 'Prabhadevi, Mumbai'\n",
            " 'Ulloor, Thiruvananthapuram' 'Rajakilpakkam, Chennai'\n",
            " 'Greater Kailash, Delhi' 'Madinaguda, Hyderabad' 'Borivali East, Mumbai'\n",
            " 'Juhu, Mumbai' 'Mugalivakkam, Chennai' 'Hebbal, Bangalore'\n",
            " 'Kirti Nagar, Delhi' 'Balaramapuram, Thiruvananthapuram'\n",
            " 'Bhandup East, Mumbai' 'VV Puram, Bangalore' 'Kilpauk, Chennai'\n",
            " 'Jacob Circle, Mumbai' 'Singasandra, Bangalore' 'Khairatabad, Hyderabad'\n",
            " 'Coimbatore Aerodrome, Coimbatore' 'J.C Nagar, Bangalore'\n",
            " 'Naraina Vihar, Delhi' 'Virugambakkam, Chennai' 'RK Puram, Delhi'\n",
            " 'Banashankari 1st Stage, Bangalore' 'Lajpat Nagar 4, Delhi'\n",
            " 'Jayanagar 5 Block, Bangalore' 'Kalyanpuri, Hyderabad'\n",
            " 'Tambaram, Chennai' 'Laxmi Nagar, Delhi' 'Anand Vihar, Delhi'\n",
            " 'Charni Road, Mumbai' 'Patel Nagar East, Delhi'\n",
            " 'Jayanagar 9 Block, Bangalore' 'Ecil, Hyderabad'\n",
            " 'Ramamurthy Nagar, Bangalore' 'Raj Nagar - 2, Delhi'\n",
            " 'Chunabhatti, Mumbai' 'Vikhroli East, Mumbai' 'Shakarpur, Delhi'\n",
            " 'Shahdara, Delhi' 'Govandi, Mumbai' 'Mira Bhayandar, Mumbai'\n",
            " 'Doddanekundi, Bangalore' 'Madhu Vihar, Delhi' 'Guindy, Chennai'\n",
            " 'Palarivattom, Ernakulam' 'Charminar, Hyderabad'\n",
            " 'Old Airport Road, Bangalore' 'Sarjapur Road, Bangalore' 'Okhla, Delhi'\n",
            " 'Baghlingampally, Hyderabad' 'Trombay, Mumbai' 'HRBR Layout, Bangalore'\n",
            " 'Fort, Mumbai' 'Shastri Nagar, Delhi' 'Red Hills, Chennai'\n",
            " 'New BEL Road, Bangalore' 'Park Town, Chennai' 'Frazer Town, Bangalore'\n",
            " 'Falaknuma, Hyderabad' 'Rohini Sector 7, Delhi' 'East Of Kailash, Delhi'\n",
            " 'Chintadripet, Chennai' 'Tagore Garden, Delhi' 'Tri Nagar, Delhi'\n",
            " 'Muttada, Thiruvananthapuram' 'Munnekollal, Bangalore'\n",
            " 'TV Museum, Thiruvananthapuram' 'Shivalik, Delhi' 'Neb Sarai, Delhi'\n",
            " 'Mahalakshmi Layout, Bangalore' 'Mankhurd, Mumbai' 'Kamla Nagar, Delhi'\n",
            " 'Saravanampatti, Coimbatore' 'Selaiyur, Chennai' 'Saligramam, Chennai'\n",
            " 'Thirumullaivoyal, Chennai' 'Teynampet, Chennai' 'Kochi, Ernakulam'\n",
            " 'Vidyaranyapura, Bangalore' 'Mogappair, Chennai' 'Mazgaon, Mumbai'\n",
            " 'Shivaji Nagar, Bangalore' 'Jangpura, Delhi'\n",
            " 'Kaudiar Square, Thiruvananthapuram' 'Arumbakkam, Chennai'\n",
            " 'Cherai, Ernakulam' 'Mira-Bhayandar Road, Mumbai' 'Ram Nagar, Delhi'\n",
            " 'Parel, Mumbai' 'Thanisandra, Bangalore' 'Pragathi Nagar, Hyderabad'\n",
            " 'Karamana, Thiruvananthapuram' 'AECS Layout, Bangalore'\n",
            " 'Nizamuddin East, Delhi' 'Ramanathapuram, Coimbatore'\n",
            " 'Anna Nagar, Chennai' 'Shenoy Nagar, Chennai' 'Siddhapudur, Coimbatore'\n",
            " 'Keshav Puram, Delhi' 'Edakochi, Ernakulam' 'Nagawara, Bangalore'\n",
            " 'Chintal, Hyderabad' 'Malviya Nagar, Delhi' 'Karwan, Hyderabad'\n",
            " 'Vazhakulam, Ernakulam' 'PMG Jn, Thiruvananthapuram'\n",
            " 'Dwarka Sector 6, Delhi' 'Viveknagar, Bangalore' 'Balapur, Hyderabad'\n",
            " 'Banashankari 2nd Stage, Bangalore' 'Azadpur, Delhi' 'Moti Nagar, Delhi'\n",
            " 'Sakinaka, Mumbai' 'Thoppumpady, Ernakulam' 'Sanath Nagar, Hyderabad'\n",
            " 'Royapettah, Chennai' 'Koramangala 5 Block, Bangalore'\n",
            " 'Kanjurmarg, Mumbai' 'Ernakulam College, Ernakulam' 'Urapakkam, Chennai'\n",
            " 'Coimbatore Ukkadam, Coimbatore' 'Sreekaryam, Thiruvananthapuram'\n",
            " 'Ernakulam North, Ernakulam' 'Sultanpur, Delhi' 'Banerji Road, Ernakulam'\n",
            " 'Balkampet, Hyderabad' 'Kavundampalayam, Coimbatore'\n",
            " 'Kanchanbagh, Hyderabad' 'Patel Nagar, Delhi' 'Kilokri, Delhi'\n",
            " 'Hoodi, Bangalore' 'New Seemapuri, Delhi' 'Seshadripuram, Bangalore'\n",
            " 'Vijaynagar, Delhi' 'Bowenpally, Hyderabad' 'Ondipudur, Coimbatore'\n",
            " 'Triplicane, Chennai' 'Richmond Town, Bangalore'\n",
            " 'New Rajendra Nagar, Delhi' 'Jahangirpuri, Delhi' 'Vivek Vihar, Delhi'\n",
            " 'Malleshpalya, Bangalore' 'Pezhakkappilly, Ernakulam'\n",
            " 'Lingampally, Hyderabad' 'Jamia Nagar, Delhi' 'Begum Bazar, Hyderabad'\n",
            " 'Lower Parel, Mumbai' 'ECR Road, Chennai' 'Nangloi, Delhi'\n",
            " 'Chintalmet, Hyderabad' 'West Of Chord Road, Bangalore' 'SV Road, Mumbai'\n",
            " 'JP Nagar 5 Phase, Bangalore' 'Sanjay Nagar, Bangalore'\n",
            " 'Panampilly Nagar, Ernakulam' 'Dharavi, Mumbai' 'Abbigere, Bangalore'\n",
            " 'Manacaud, Thiruvananthapuram' 'Poonamalle, Chennai' 'Najafgarh, Delhi'\n",
            " 'Uttarahalli, Bangalore' 'Sembakkam, Chennai' 'Tarnaka, Hyderabad'\n",
            " 'Nandanam, Chennai' 'Saidapet, Chennai' 'Choolaimedu, Chennai'\n",
            " 'Perungalathur, Chennai' 'Gulabi Bagh, Delhi' 'Jasola, Delhi'\n",
            " 'JP Nagar 3 Phase, Bangalore' 'Uppilipalayam, Coimbatore'\n",
            " 'Sadashivanagar, Bangalore' 'Rohini Sector 24, Delhi'\n",
            " 'Muvattupuzha, Ernakulam' 'Khan Market, Delhi' 'Abids, Hyderabad'\n",
            " 'Geeta Colony, Delhi' 'Madandapuram, Chennai' 'Dwarka Sector 22, Delhi'\n",
            " 'Grant Road, Mumbai' 'Jeedimetla, Hyderabad' 'Tambaram East, Chennai'\n",
            " 'Kothaguda, Hyderabad' 'Hauz Khas, Delhi' 'Habsiguda, Hyderabad'\n",
            " 'Breach Candy, Mumbai' 'Vidyanagar, Bangalore' 'Begur, Bangalore'\n",
            " 'Dahisar, Mumbai' 'Pachalam, Ernakulam' 'Perumbavoor, Ernakulam'\n",
            " 'Avadi, Chennai' 'Coimbatore Central, Coimbatore' 'Lokhandwala, Mumbai'\n",
            " 'Tiruvottiyur, Chennai' 'Ullal Upanagara, Bangalore'\n",
            " 'Perurkada, Thiruvananthapuram' 'Ashok Vihar Phase 3, Delhi'\n",
            " 'Walkeshwar, Mumbai' 'Saidabad, Hyderabad'\n",
            " 'Koramangala 6 Block, Bangalore' 'New Ashok Nagar, Delhi'\n",
            " 'Peddar Road, Mumbai' 'Aya Nagar, Delhi' 'JP Nagar, Bangalore'\n",
            " 'Sasthamangalam, Thiruvananthapuram' 'Yakutpura, Hyderabad'\n",
            " 'Sampangiramnagar, Bangalore' 'Kasturi nagar, Bangalore'\n",
            " 'Pallavaram, Chennai' 'Moti Bagh, Delhi' 'Mukherjee Nagar, Delhi'\n",
            " 'Byculla, Mumbai' 'Peeragarhi, Delhi' 'Amberpet, Hyderabad'\n",
            " 'JP Nagar 6 Phase, Bangalore' 'Sholinganallur, Chennai'\n",
            " 'Langford Road, Bangalore' 'Cumballa Hill, Mumbai' 'Colaba, Mumbai'\n",
            " 'Qutab Institutional Area, Delhi' 'Dommasandra, Bangalore'\n",
            " 'Malabar Hill, Mumbai' 'Koramangala 8 Block, Bangalore'\n",
            " 'Rohini Sector 22, Delhi' 'Lothkunta, Hyderabad'\n",
            " 'HAL 2nd Stage, Bangalore' 'Jayanagar 7 Block, Bangalore'\n",
            " 'Vadasserikonam, Thiruvananthapuram' 'East Marredpally, Hyderabad'\n",
            " 'Kelambakkam, Chennai' 'Chinchpokli, Mumbai' 'Delhi Cantt, Delhi'\n",
            " 'Padmanabhanagar, Bangalore' 'Sheikh Sarai, Delhi'\n",
            " 'Washermenpet, Chennai' 'Konanakunte, Bangalore'\n",
            " 'Ashok Vihar Phase 1, Delhi' 'Thirumala, Thiruvananthapuram'\n",
            " 'Sarjapura, Bangalore' 'JP Nagar 1 Phase, Bangalore' 'JB Nagar, Mumbai'\n",
            " 'Paruthippara, Thiruvananthapuram' 'Vikhroli, Mumbai'\n",
            " 'JP Nagar 8 Phase, Bangalore' 'GTB Nagar, Delhi' 'Vidyanagar, Hyderabad'\n",
            " 'Masab Tank, Hyderabad' 'Hafeezpet, Hyderabad' 'Jeevan Park, Delhi'\n",
            " 'Dwarka Sector 5, Delhi' 'Civil Lines, Delhi' 'Anand Niketan, Delhi'\n",
            " 'Pappanaickenpalayam, Coimbatore' 'Koovappady, Ernakulam'\n",
            " 'Dwarka, Sector 5, Delhi' 'Srirampuram, Bangalore' 'Korattur, Chennai'\n",
            " 'Pappanaickenpudur, Coimbatore' 'Gandhi Nagar, Delhi'\n",
            " 'Vignan Nagar, Bangalore' 'Ganganagar, Bangalore' 'Elamakkara, Ernakulam'\n",
            " 'Boduppal, Hyderabad' 'Tilak Nagar, Mumbai' 'Khetwadi, Mumbai'\n",
            " 'Kengeri, Bangalore' 'Sion East, Mumbai' 'Rohini Sector 6, Delhi'\n",
            " 'Kazhakuttam, Thiruvananthapuram' 'Goregaon, Mumbai'\n",
            " 'Peroor, Thiruvananthapuram' 'New Thippasandra, Bangalore'\n",
            " 'Jalahalli, Bangalore' 'King Koti, Hyderabad'\n",
            " 'Kallambalam, Thiruvananthapuram' 'Dwarka Sector 13, Delhi'\n",
            " 'Residency Road, Bangalore' 'Radhakrishnan Salai, Chennai'\n",
            " 'Hulimavu, Bangalore' 'Dasarahalli, Bangalore' 'Vileparle, Mumbai'\n",
            " 'Delhi, Delhi' 'Kachiguda, Hyderabad' 'Venkitapuram, Coimbatore'\n",
            " 'Kuniamuthur, Coimbatore' 'TV Chalai, Thiruvananthapuram'\n",
            " 'Serilingampally, Hyderabad' 'RMV 2nd Stage, Bangalore'\n",
            " 'Champapet, Hyderabad' 'Surya Niketan, Delhi' 'Kovilpalayam, Coimbatore'\n",
            " 'Nampally, Hyderabad' 'Siddapura, Bangalore' 'Neredmet, Hyderabad'\n",
            " 'Vellakinar, Coimbatore' 'Egmore, Chennai' 'Katwaria Sarai, Delhi'\n",
            " 'Navalur, Chennai' 'Mehrauli, Delhi' 'HBR Layout, Bangalore'\n",
            " 'Subhash Nagar, Delhi' 'Mallepally, Hyderabad' 'Eroor South, Ernakulam'\n",
            " 'Lajpat Nagar III, Delhi' 'Kodungaiyur, Chennai'\n",
            " 'Kuppakonanpudur, Coimbatore' 'Paradise, Hyderabad'\n",
            " 'Rohini Sector 4, Delhi' 'Koramangala 4 Block, Bangalore'\n",
            " 'Dwarka Sector 3, Delhi' 'Durga Puri, Delhi' 'Kalamassery, Ernakulam'\n",
            " 'Gulmohar Park, Delhi' 'Adugodi, Bangalore' 'Moti Nagar, Hyderabad'\n",
            " 'Nallagandla, Hyderabad' 'Gowrivakkam, Chennai' 'Periyar Nagar, Chennai'\n",
            " 'Austin Town, Bangalore' 'Afzalgunj, Hyderabad'\n",
            " 'Cotton Hill, Thiruvananthapuram' 'Goldwins, Coimbatore'\n",
            " 'Kuravankonam, Thiruvananthapuram' 'Rohini Sector 3, Delhi'\n",
            " 'Lado Sarai, Delhi' 'Koramangala 2 Block, Bangalore' 'Madangir, Delhi'\n",
            " 'Marine Drive, Mumbai' 'Marine Drive, Ernakulam' 'Angamaly, Ernakulam'\n",
            " 'Neelankarai, Chennai' 'Churchgate, Mumbai' 'Kalapatti, Coimbatore'\n",
            " 'Nand Nagri, Delhi' 'Kandivali, Mumbai' 'Madanpura, Mumbai'\n",
            " 'Hegde Nagar, Bangalore' 'Domalguda, Hyderabad' 'Mumbai Central, Mumbai'\n",
            " 'Vasanthnagar, Bangalore' 'Kapashera, Delhi' 'August Kranti Marg, Delhi'\n",
            " 'Krishna Nagar, Hyderabad' 'Lal baug, Mumbai'\n",
            " 'Perumathura, Thiruvananthapuram' 'Molarband, Delhi' 'Piravom, Ernakulam'\n",
            " 'Neeti Bagh, Delhi' 'Kishanbagh, Hyderabad' 'Shantinagar, Bangalore'\n",
            " 'Poojapura, Thiruvananthapuram' 'Rathinapuri, Coimbatore'\n",
            " 'Model Town 1, Delhi' 'Koothattukulam, Ernakulam' 'Anand Lok, Delhi'\n",
            " 'Pappanaickenpalayam West, Coimbatore' 'Subzi Mandi, Delhi'\n",
            " 'Sion, Mumbai' 'Nagole, Hyderabad' 'TVM Pettah, Thiruvananthapuram'\n",
            " 'Changampuzha Nagar, Ernakulam' 'Puzhal, Chennai'\n",
            " 'Vanchiyur, Thiruvananthapuram' 'Sukh Vihar, Delhi'\n",
            " 'Kovalam, Thiruvananthapuram' 'Swasthya Vihar, Delhi' 'Tardeo, Mumbai'\n",
            " 'Vishnu Garden, Delhi' 'Jayanagar 1 Block, Bangalore'\n",
            " 'Sion Koliwada, Mumbai' 'Marol, Mumbai' 'Kalkere, Bangalore'\n",
            " 'Sindhi Colony, Hyderabad' 'Silampur, Delhi' 'Varthur, Bangalore'\n",
            " 'Model Town 2, Delhi' 'Surajmal Vihar, Delhi' 'Chandni Chowk, Delhi'\n",
            " 'Veerakeralam, Coimbatore' 'T Dasarahalli, Bangalore'\n",
            " 'Kaggalipura, Bangalore' 'Thonnakkal, Thiruvananthapuram'\n",
            " 'Manjapra, Ernakulam' 'Yellareddyguda, Hyderabad'\n",
            " 'Kovilambakkam, Chennai' 'Broadway, Chennai' 'Podanur, Coimbatore'\n",
            " 'Kompally, Hyderabad' 'Kottivakkam, Chennai' 'Mansarover Garden, Delhi'\n",
            " 'Mandapeshwar, Mumbai' 'Rohini Sector 15, Delhi' 'Vaduthala, Ernakulam'\n",
            " 'Hebbal Kempapura, Bangalore' 'Sithalapakkam, Chennai'\n",
            " 'MKB Nagar, Chennai' 'MG Road, Hyderabad' 'Darya Ganj, Delhi'\n",
            " 'Venjaramoodu, Thiruvananthapuram' 'Kotturpuram, Chennai'\n",
            " 'Ramapuram, Chennai' 'Karmanghat, Hyderabad' 'Moula Ali, Hyderabad'\n",
            " 'Netaji Nagar, Delhi' 'Chandra Layout, Bangalore'\n",
            " 'Akshaya nagar, Bangalore' 'Nirman Vihar, Delhi' 'Vasant Enclave, Delhi'\n",
            " 'St Thomas Mount, Chennai' 'Royapuram, Chennai' 'Abhiramapuram, Chennai'\n",
            " 'Inder Puri, Delhi' 'Edayarpalayam, Coimbatore' 'Deoli, Delhi'\n",
            " 'Mulanthuruthy, Ernakulam' 'Sukhdev Vihar, Delhi' 'e'\n",
            " 'Kothamangalam, Ernakulam' 'Harlur, Bangalore' 'Bolarum, Hyderabad'\n",
            " 'Richards Town, Bangalore' 'Narela, Delhi' 'Nehru Place, Delhi'\n",
            " 'Ramanthapur, Hyderabad' 'Bali Nagar, Delhi' 'Palavakkam, Chennai'\n",
            " 'Balanagar, Hyderabad' 'Hyderguda, Hyderabad' 'Cherannagar, Coimbatore'\n",
            " 'Rohini Sector 11, Delhi' 'Dwarka Sector 4, Delhi'\n",
            " 'Palluruthy, Ernakulam' 'Vizhinjam, Thiruvananthapuram'\n",
            " 'Santacruz, Mumbai' 'Ganesh Nagar, Delhi' 'Vengal Rao Nagar, Hyderabad'\n",
            " 'Deonar, Mumbai' 'Edapally North, Ernakulam' 'Red Hills, Hyderabad'\n",
            " 'IDA Jeedimetla, Hyderabad' 'Mettupalayam, Coimbatore'\n",
            " 'Hayathnagar, Hyderabad' 'Kakkanad West, Ernakulam'\n",
            " 'Khajaguda, Hyderabad' 'Rohini Sector 5, Delhi' 'Saraswati Vihar, Delhi'\n",
            " 'Kingsway Camp, Delhi' 'Ramamangalam, Ernakulam' 'Indirapuram, Delhi'\n",
            " 'Parassala, Thiruvananthapuram' 'Connaught Place, Delhi'\n",
            " 'Gottigerre, Bangalore' 'Shivrampally, Hyderabad' 'Vyasarpadi, Chennai'\n",
            " 'Kovaipudur, Coimbatore' 'Vallakkadavoo, Thiruvananthapuram'\n",
            " 'Kattupakkam, Chennai' 'Nellimoodu, Thiruvananthapuram'\n",
            " 'Pondy Bazaar, Chennai' 'Prashant Vihar, Delhi' 'Chullickal, Ernakulam'\n",
            " 'Murugeshpalya, Bangalore' 'Khanpur, Delhi' 'Madiwala, Bangalore'\n",
            " 'Dwarka Sector 23, Delhi' 'Badarpur, Delhi' 'Peyad, Thiruvananthapuram'\n",
            " 'Gandhi Nagar, Chennai' 'Uday Park, Delhi' 'Bandlaguda, Hyderabad'\n",
            " 'Karukappilli, Ernakulam' 'Rana Pratap Bagh, Delhi'\n",
            " 'Kochi M.G.Road, Ernakulam' 'Gopalapuram, Chennai'\n",
            " 'Puthenvelikkara, Ernakulam' 'Sowcarpet, Chennai' 'Chitlapakkam, Chennai'\n",
            " 'Malumichampatti, Coimbatore' 'Rohini Sector 8, Delhi'\n",
            " 'Rohini Sector 2, Delhi' 'Ram Nagar, Hyderabad' 'Dwarka Sector 10, Delhi'\n",
            " 'Agaram, Chennai' 'Poovachal, Thiruvananthapuram' 'Shanti Niketan, Delhi'\n",
            " 'Pothencode, Thiruvananthapuram' 'Dickenson Road, Bangalore'\n",
            " 'RTC X Road, Hyderabad' 'Film Nagar, Hyderabad' 'Lodhi Colony, Delhi'\n",
            " 'SG Palya (Kormangla), Bangalore' 'Palkulangara, Thiruvananthapuram'\n",
            " 'Mahalingapuram, Chennai' 'Matunga West, Mumbai' 'Nettoor, Ernakulam'\n",
            " 'Rani Khera, Delhi' 'Beeramguda, Hyderabad' 'Ramachandrapuram, Hyderabad'\n",
            " 'Neyyattinkara Town, Thiruvananthapuram' 'Gorai, Mumbai'\n",
            " 'Jayanagar 3 Block, Bangalore' 'Shakti Nagar, Delhi'\n",
            " 'Sangam Vihar, Delhi' 'Shakurpur, Delhi' 'Chaitanyapuri, Hyderabad'\n",
            " 'TVM Fort, Thiruvananthapuram' 'JP Nagar 4 Phase, Bangalore'\n",
            " 'Nayandahalli, Bangalore' 'Valiathura, Thiruvananthapuram'\n",
            " 'Kowdiar, Thiruvananthapuram' 'Cunningham Road, Bangalore'\n",
            " 'Hennur, Bangalore' 'Peenya, Bangalore' 'Pattimattam, Ernakulam'\n",
            " 'HAL, Bangalore']\n",
            "HSR Layout, Bangalore               100\n",
            "Andheri West, Mumbai                 70\n",
            "Dwarka, Delhi                        67\n",
            "Banjara Hills, Hyderabad             64\n",
            "Mulund West, Mumbai                  54\n",
            "                                   ... \n",
            "Shankar Vihar, Delhi                  1\n",
            "Chitlapakkam, Chennai                 1\n",
            "Hebbal Kempapura, Bangalore           1\n",
            "Neb Sarai, Delhi                      1\n",
            "Pappanamcode, Thiruvananthapuram      1\n",
            "Name: Place, Length: 877, dtype: int64\n",
            "********************************************************************\n",
            "\n",
            "\n",
            "Profile:['Homeopath' 'Ayurveda' 'ENT Specialist' 'Dentist' 'General Medicine'\n",
            " 'Dermatologists']\n",
            "Dentist             1397\n",
            "General Medicine    1173\n",
            "Dermatologists      1034\n",
            "Homeopath            843\n",
            "Ayurveda             786\n",
            "ENT Specialist       728\n",
            "Name: Profile, dtype: int64\n",
            "********************************************************************\n",
            "\n",
            "\n"
          ],
          "name": "stdout"
        }
      ]
    },
    {
      "cell_type": "markdown",
      "metadata": {
        "id": "qVteej8ns_GR"
      },
      "source": [
        "## **Exploratory Data Analysis**"
      ]
    },
    {
      "cell_type": "code",
      "metadata": {
        "colab": {
          "base_uri": "https://localhost:8080/",
          "height": 279
        },
        "id": "tB32i5HQuUfy",
        "outputId": "d1e17c87-1684-44cb-ef1a-16e8c6b35756"
      },
      "source": [
        "#Checking the mean price.\r\n",
        "\r\n",
        "price = Train_data['Fees'].hist(bins=60)\r\n",
        "mean_val = np.mean(Train_data['Fees'])\r\n",
        "plt.axvline(mean_val,linewidth=4, color='red', label='mean fees')\r\n",
        "plt.xlabel('Fees')\r\n",
        "plt.ylabel('Count')\r\n",
        "plt.legend()\r\n",
        "plt.show()"
      ],
      "execution_count": 20,
      "outputs": [
        {
          "output_type": "display_data",
          "data": {
            "image/png": "[encoded data removed]",
            "text/plain": [
              "<Figure size 432x288 with 1 Axes>"
            ]
          },
          "metadata": {
            "tags": [],
            "needs_background": "light"
          }
        }
      ]
    },
    {
      "cell_type": "code",
      "metadata": {
        "colab": {
          "base_uri": "https://localhost:8080/"
        },
        "id": "s8mdF6NnxIQe",
        "outputId": "bf6160e7-04cb-48b5-c60c-4a2fb2746c98"
      },
      "source": [
        "#checking the unique value in the Qualification data column.\r\n",
        "Train_data['Qualification'].unique()"
      ],
      "execution_count": 21,
      "outputs": [
        {
          "output_type": "execute_result",
          "data": {
            "text/plain": [
              "array(['BHMS, MD - Homeopathy', 'BAMS, MD - Ayurveda Medicine',\n",
              "       'MBBS, MS - Otorhinolaryngology', ...,\n",
              "       'MD - Dermatology , Venereology & Leprosy, MBBS, Fellowship In Dermatosurgery',\n",
              "       'BDS, certification in smile designing',\n",
              "       'MD - Homeopathy, Post Graduate Diploma in Healthcare Management(PGDHM), DHMS (Diploma in Homeopathic Medicine and Surgery)'],\n",
              "      dtype=object)"
            ]
          },
          "metadata": {
            "tags": []
          },
          "execution_count": 21
        }
      ]
    },
    {
      "cell_type": "markdown",
      "metadata": {
        "id": "_Qeubh9-MJqh"
      },
      "source": [
        "Observations:\r\n",
        "\r\n",
        "1- We observe that qualifications are not sorted due to leading whitespace.\r\n",
        "\r\n",
        "2- We also need to remove other inconsistensies in the data like\r\n",
        "replace comma inside bracket by hyphen.\r\n",
        "\r\n",
        "3- lowercase all the words.\r\n",
        "\r\n",
        "4-remove spaces within qualification.\r\n",
        "\r\n",
        "Lets work on them and sort the variables character wise."
      ]
    },
    {
      "cell_type": "markdown",
      "metadata": {
        "id": "MG7pY_q438D1"
      },
      "source": [
        "**We have to create separate columns for Qualification for analyzing.**"
      ]
    },
    {
      "cell_type": "code",
      "metadata": {
        "colab": {
          "base_uri": "https://localhost:8080/"
        },
        "id": "4OxRYAz9NH9m",
        "outputId": "2f2b76e2-25aa-44da-cda7-2bd6c047eb84"
      },
      "source": [
        "Train_data['Qualification_count'] = Train_data['Qualification'].apply(lambda x: len(x.split(\",\")))\r\n",
        "\r\n",
        "Train_data['Qualification_count'].value_counts()"
      ],
      "execution_count": 22,
      "outputs": [
        {
          "output_type": "execute_result",
          "data": {
            "text/plain": [
              "2     2628\n",
              "1     1962\n",
              "3      995\n",
              "4      257\n",
              "5       84\n",
              "6       23\n",
              "7        6\n",
              "9        3\n",
              "8        2\n",
              "10       1\n",
              "Name: Qualification_count, dtype: int64"
            ]
          },
          "metadata": {
            "tags": []
          },
          "execution_count": 22
        }
      ]
    },
    {
      "cell_type": "code",
      "metadata": {
        "colab": {
          "base_uri": "https://localhost:8080/"
        },
        "id": "dRMF7FlQNXT9",
        "outputId": "026e68ac-f44b-4cb4-dd72-52d557535d9d"
      },
      "source": [
        "Train_data['Qualification'].unique()"
      ],
      "execution_count": 23,
      "outputs": [
        {
          "output_type": "execute_result",
          "data": {
            "text/plain": [
              "array(['BHMS, MD - Homeopathy', 'BAMS, MD - Ayurveda Medicine',\n",
              "       'MBBS, MS - Otorhinolaryngology', ...,\n",
              "       'MD - Dermatology , Venereology & Leprosy, MBBS, Fellowship In Dermatosurgery',\n",
              "       'BDS, certification in smile designing',\n",
              "       'MD - Homeopathy, Post Graduate Diploma in Healthcare Management(PGDHM), DHMS (Diploma in Homeopathic Medicine and Surgery)'],\n",
              "      dtype=object)"
            ]
          },
          "metadata": {
            "tags": []
          },
          "execution_count": 23
        }
      ]
    },
    {
      "cell_type": "code",
      "metadata": {
        "id": "NWavZwn2hRLu"
      },
      "source": [
        "# Extract relevant qualification\r\n",
        "# DICT of qualification with there counts\r\n",
        "Train_data[\"Qualification\"]=Train_data[\"Qualification\"].str.split(\",\")\r\n",
        "Qualification ={}\r\n",
        "for x in Train_data[\"Qualification\"].values:\r\n",
        "    for each in x:\r\n",
        "        each = each.strip()\r\n",
        "        if each in Qualification:\r\n",
        "            Qualification[each]+=1\r\n",
        "        else:\r\n",
        "            Qualification[each]=1"
      ],
      "execution_count": 24,
      "outputs": []
    },
    {
      "cell_type": "code",
      "metadata": {
        "colab": {
          "base_uri": "https://localhost:8080/"
        },
        "id": "LrZj-K9dis76",
        "outputId": "198285b9-25d5-4a13-e9aa-93ef7c76bf62"
      },
      "source": [
        "#Extract top 10 qual\r\n",
        "most_qual = sorted(Qualification.items(),key=lambda x:x[1],reverse=True)[:10]\r\n",
        "final_qual = []\r\n",
        "for qual in most_qual:\r\n",
        "    final_qual.append(qual[0])\r\n",
        "    \r\n",
        "print(final_qual)"
      ],
      "execution_count": 25,
      "outputs": [
        {
          "output_type": "stream",
          "text": [
            "['MBBS', 'BDS', 'BAMS', 'BHMS', 'MD - Dermatology', 'MS - ENT', 'Venereology & Leprosy', 'MD - General Medicine', 'Diploma in Otorhinolaryngology (DLO)', 'MD - Homeopathy']\n"
          ],
          "name": "stdout"
        }
      ]
    },
    {
      "cell_type": "code",
      "metadata": {
        "id": "Qu86_CrZjYXt"
      },
      "source": [
        "#Encode extracted top 10 qualification into train dataset as new column.\r\n",
        "for qual in final_qual:\r\n",
        "    Train_data[qual] = 0\r\n",
        "\r\n",
        "for x,y in zip(Train_data['Qualification'].values, np.array([i for i in range(len(Train_data))])):\r\n",
        "    for c in x:\r\n",
        "        c = c.strip()\r\n",
        "        if c in final_qual:\r\n",
        "            Train_data[c][y] = 1"
      ],
      "execution_count": 26,
      "outputs": []
    },
    {
      "cell_type": "code",
      "metadata": {
        "id": "qlRluAwFjxUY"
      },
      "source": [
        "# Now we can drop the extra qualification which we added \r\n",
        "Train_data.drop(['Qualification','Qualification_count'],axis=1,inplace=True)"
      ],
      "execution_count": 27,
      "outputs": []
    },
    {
      "cell_type": "code",
      "metadata": {
        "colab": {
          "base_uri": "https://localhost:8080/",
          "height": 323
        },
        "id": "xhFTgGpJkH0N",
        "outputId": "af5d6c5f-a92f-4e81-d23b-69cab60a8fb0"
      },
      "source": [
        "Train_data.head()"
      ],
      "execution_count": 28,
      "outputs": [
        {
          "output_type": "execute_result",
          "data": {
            "text/html": [
              "<div>\n",
              "<style scoped>\n",
              "    .dataframe tbody tr th:only-of-type {\n",
              "        vertical-align: middle;\n",
              "    }\n",
              "\n",
              "    .dataframe tbody tr th {\n",
              "        vertical-align: top;\n",
              "    }\n",
              "\n",
              "    .dataframe thead th {\n",
              "        text-align: right;\n",
              "    }\n",
              "</style>\n",
              "<table border=\"1\" class=\"dataframe\">\n",
              "  <thead>\n",
              "    <tr style=\"text-align: right;\">\n",
              "      <th></th>\n",
              "      <th>Experience</th>\n",
              "      <th>Rating</th>\n",
              "      <th>Place</th>\n",
              "      <th>Profile</th>\n",
              "      <th>Fees</th>\n",
              "      <th>MBBS</th>\n",
              "      <th>BDS</th>\n",
              "      <th>BAMS</th>\n",
              "      <th>BHMS</th>\n",
              "      <th>MD - Dermatology</th>\n",
              "      <th>MS - ENT</th>\n",
              "      <th>Venereology &amp; Leprosy</th>\n",
              "      <th>MD - General Medicine</th>\n",
              "      <th>Diploma in Otorhinolaryngology (DLO)</th>\n",
              "      <th>MD - Homeopathy</th>\n",
              "    </tr>\n",
              "  </thead>\n",
              "  <tbody>\n",
              "    <tr>\n",
              "      <th>0</th>\n",
              "      <td>24 years experience</td>\n",
              "      <td>100%</td>\n",
              "      <td>Kakkanad, Ernakulam</td>\n",
              "      <td>Homeopath</td>\n",
              "      <td>100</td>\n",
              "      <td>0</td>\n",
              "      <td>0</td>\n",
              "      <td>0</td>\n",
              "      <td>1</td>\n",
              "      <td>0</td>\n",
              "      <td>0</td>\n",
              "      <td>0</td>\n",
              "      <td>0</td>\n",
              "      <td>0</td>\n",
              "      <td>1</td>\n",
              "    </tr>\n",
              "    <tr>\n",
              "      <th>1</th>\n",
              "      <td>12 years experience</td>\n",
              "      <td>98%</td>\n",
              "      <td>Whitefield, Bangalore</td>\n",
              "      <td>Ayurveda</td>\n",
              "      <td>350</td>\n",
              "      <td>0</td>\n",
              "      <td>0</td>\n",
              "      <td>1</td>\n",
              "      <td>0</td>\n",
              "      <td>0</td>\n",
              "      <td>0</td>\n",
              "      <td>0</td>\n",
              "      <td>0</td>\n",
              "      <td>0</td>\n",
              "      <td>0</td>\n",
              "    </tr>\n",
              "    <tr>\n",
              "      <th>2</th>\n",
              "      <td>9 years experience</td>\n",
              "      <td>100%</td>\n",
              "      <td>Mathikere - BEL, Bangalore</td>\n",
              "      <td>ENT Specialist</td>\n",
              "      <td>300</td>\n",
              "      <td>1</td>\n",
              "      <td>0</td>\n",
              "      <td>0</td>\n",
              "      <td>0</td>\n",
              "      <td>0</td>\n",
              "      <td>0</td>\n",
              "      <td>0</td>\n",
              "      <td>0</td>\n",
              "      <td>0</td>\n",
              "      <td>0</td>\n",
              "    </tr>\n",
              "    <tr>\n",
              "      <th>3</th>\n",
              "      <td>12 years experience</td>\n",
              "      <td>100%</td>\n",
              "      <td>Bannerghatta Road, Bangalore</td>\n",
              "      <td>Ayurveda</td>\n",
              "      <td>250</td>\n",
              "      <td>0</td>\n",
              "      <td>0</td>\n",
              "      <td>1</td>\n",
              "      <td>0</td>\n",
              "      <td>0</td>\n",
              "      <td>0</td>\n",
              "      <td>0</td>\n",
              "      <td>0</td>\n",
              "      <td>0</td>\n",
              "      <td>0</td>\n",
              "    </tr>\n",
              "    <tr>\n",
              "      <th>4</th>\n",
              "      <td>20 years experience</td>\n",
              "      <td>100%</td>\n",
              "      <td>Keelkattalai, Chennai</td>\n",
              "      <td>Ayurveda</td>\n",
              "      <td>250</td>\n",
              "      <td>0</td>\n",
              "      <td>0</td>\n",
              "      <td>1</td>\n",
              "      <td>0</td>\n",
              "      <td>0</td>\n",
              "      <td>0</td>\n",
              "      <td>0</td>\n",
              "      <td>0</td>\n",
              "      <td>0</td>\n",
              "      <td>0</td>\n",
              "    </tr>\n",
              "  </tbody>\n",
              "</table>\n",
              "</div>"
            ],
            "text/plain": [
              "            Experience  ... MD - Homeopathy\n",
              "0  24 years experience  ...               1\n",
              "1  12 years experience  ...               0\n",
              "2   9 years experience  ...               0\n",
              "3  12 years experience  ...               0\n",
              "4  20 years experience  ...               0\n",
              "\n",
              "[5 rows x 15 columns]"
            ]
          },
          "metadata": {
            "tags": []
          },
          "execution_count": 28
        }
      ]
    },
    {
      "cell_type": "markdown",
      "metadata": {
        "id": "ZXjwkmIOkJaX"
      },
      "source": [
        "**Convert Experience into integer value.**"
      ]
    },
    {
      "cell_type": "code",
      "metadata": {
        "id": "Kf3T0M8HkhM0"
      },
      "source": [
        "# Experience\r\n",
        "Train_data['years_exp'] = Train_data['Experience'].str.slice(stop=2).astype(int)"
      ],
      "execution_count": 29,
      "outputs": []
    },
    {
      "cell_type": "code",
      "metadata": {
        "colab": {
          "base_uri": "https://localhost:8080/",
          "height": 357
        },
        "id": "NZw-531bkp1s",
        "outputId": "dec16088-eb9e-4f52-8258-cc4712a306ca"
      },
      "source": [
        "Train_data.head()"
      ],
      "execution_count": 30,
      "outputs": [
        {
          "output_type": "execute_result",
          "data": {
            "text/html": [
              "<div>\n",
              "<style scoped>\n",
              "    .dataframe tbody tr th:only-of-type {\n",
              "        vertical-align: middle;\n",
              "    }\n",
              "\n",
              "    .dataframe tbody tr th {\n",
              "        vertical-align: top;\n",
              "    }\n",
              "\n",
              "    .dataframe thead th {\n",
              "        text-align: right;\n",
              "    }\n",
              "</style>\n",
              "<table border=\"1\" class=\"dataframe\">\n",
              "  <thead>\n",
              "    <tr style=\"text-align: right;\">\n",
              "      <th></th>\n",
              "      <th>Experience</th>\n",
              "      <th>Rating</th>\n",
              "      <th>Place</th>\n",
              "      <th>Profile</th>\n",
              "      <th>Fees</th>\n",
              "      <th>MBBS</th>\n",
              "      <th>BDS</th>\n",
              "      <th>BAMS</th>\n",
              "      <th>BHMS</th>\n",
              "      <th>MD - Dermatology</th>\n",
              "      <th>MS - ENT</th>\n",
              "      <th>Venereology &amp; Leprosy</th>\n",
              "      <th>MD - General Medicine</th>\n",
              "      <th>Diploma in Otorhinolaryngology (DLO)</th>\n",
              "      <th>MD - Homeopathy</th>\n",
              "      <th>years_exp</th>\n",
              "    </tr>\n",
              "  </thead>\n",
              "  <tbody>\n",
              "    <tr>\n",
              "      <th>0</th>\n",
              "      <td>24 years experience</td>\n",
              "      <td>100%</td>\n",
              "      <td>Kakkanad, Ernakulam</td>\n",
              "      <td>Homeopath</td>\n",
              "      <td>100</td>\n",
              "      <td>0</td>\n",
              "      <td>0</td>\n",
              "      <td>0</td>\n",
              "      <td>1</td>\n",
              "      <td>0</td>\n",
              "      <td>0</td>\n",
              "      <td>0</td>\n",
              "      <td>0</td>\n",
              "      <td>0</td>\n",
              "      <td>1</td>\n",
              "      <td>24</td>\n",
              "    </tr>\n",
              "    <tr>\n",
              "      <th>1</th>\n",
              "      <td>12 years experience</td>\n",
              "      <td>98%</td>\n",
              "      <td>Whitefield, Bangalore</td>\n",
              "      <td>Ayurveda</td>\n",
              "      <td>350</td>\n",
              "      <td>0</td>\n",
              "      <td>0</td>\n",
              "      <td>1</td>\n",
              "      <td>0</td>\n",
              "      <td>0</td>\n",
              "      <td>0</td>\n",
              "      <td>0</td>\n",
              "      <td>0</td>\n",
              "      <td>0</td>\n",
              "      <td>0</td>\n",
              "      <td>12</td>\n",
              "    </tr>\n",
              "    <tr>\n",
              "      <th>2</th>\n",
              "      <td>9 years experience</td>\n",
              "      <td>100%</td>\n",
              "      <td>Mathikere - BEL, Bangalore</td>\n",
              "      <td>ENT Specialist</td>\n",
              "      <td>300</td>\n",
              "      <td>1</td>\n",
              "      <td>0</td>\n",
              "      <td>0</td>\n",
              "      <td>0</td>\n",
              "      <td>0</td>\n",
              "      <td>0</td>\n",
              "      <td>0</td>\n",
              "      <td>0</td>\n",
              "      <td>0</td>\n",
              "      <td>0</td>\n",
              "      <td>9</td>\n",
              "    </tr>\n",
              "    <tr>\n",
              "      <th>3</th>\n",
              "      <td>12 years experience</td>\n",
              "      <td>100%</td>\n",
              "      <td>Bannerghatta Road, Bangalore</td>\n",
              "      <td>Ayurveda</td>\n",
              "      <td>250</td>\n",
              "      <td>0</td>\n",
              "      <td>0</td>\n",
              "      <td>1</td>\n",
              "      <td>0</td>\n",
              "      <td>0</td>\n",
              "      <td>0</td>\n",
              "      <td>0</td>\n",
              "      <td>0</td>\n",
              "      <td>0</td>\n",
              "      <td>0</td>\n",
              "      <td>12</td>\n",
              "    </tr>\n",
              "    <tr>\n",
              "      <th>4</th>\n",
              "      <td>20 years experience</td>\n",
              "      <td>100%</td>\n",
              "      <td>Keelkattalai, Chennai</td>\n",
              "      <td>Ayurveda</td>\n",
              "      <td>250</td>\n",
              "      <td>0</td>\n",
              "      <td>0</td>\n",
              "      <td>1</td>\n",
              "      <td>0</td>\n",
              "      <td>0</td>\n",
              "      <td>0</td>\n",
              "      <td>0</td>\n",
              "      <td>0</td>\n",
              "      <td>0</td>\n",
              "      <td>0</td>\n",
              "      <td>20</td>\n",
              "    </tr>\n",
              "  </tbody>\n",
              "</table>\n",
              "</div>"
            ],
            "text/plain": [
              "            Experience Rating  ... MD - Homeopathy years_exp\n",
              "0  24 years experience   100%  ...               1        24\n",
              "1  12 years experience    98%  ...               0        12\n",
              "2   9 years experience   100%  ...               0         9\n",
              "3  12 years experience   100%  ...               0        12\n",
              "4  20 years experience   100%  ...               0        20\n",
              "\n",
              "[5 rows x 16 columns]"
            ]
          },
          "metadata": {
            "tags": []
          },
          "execution_count": 30
        }
      ]
    },
    {
      "cell_type": "code",
      "metadata": {
        "id": "pKtPoafsoDsq"
      },
      "source": [
        "#Dropping Experience column as we already assign a new cloumn for experience i.e. years_exp\r\n",
        "Train_data.drop('Experience',axis=1,inplace=True)"
      ],
      "execution_count": 31,
      "outputs": []
    },
    {
      "cell_type": "code",
      "metadata": {
        "colab": {
          "base_uri": "https://localhost:8080/",
          "height": 323
        },
        "id": "Q7V02RGwpA3n",
        "outputId": "bf8d3847-b887-4c9b-ef70-5a0eab3b8d11"
      },
      "source": [
        "Train_data.head()"
      ],
      "execution_count": 32,
      "outputs": [
        {
          "output_type": "execute_result",
          "data": {
            "text/html": [
              "<div>\n",
              "<style scoped>\n",
              "    .dataframe tbody tr th:only-of-type {\n",
              "        vertical-align: middle;\n",
              "    }\n",
              "\n",
              "    .dataframe tbody tr th {\n",
              "        vertical-align: top;\n",
              "    }\n",
              "\n",
              "    .dataframe thead th {\n",
              "        text-align: right;\n",
              "    }\n",
              "</style>\n",
              "<table border=\"1\" class=\"dataframe\">\n",
              "  <thead>\n",
              "    <tr style=\"text-align: right;\">\n",
              "      <th></th>\n",
              "      <th>Rating</th>\n",
              "      <th>Place</th>\n",
              "      <th>Profile</th>\n",
              "      <th>Fees</th>\n",
              "      <th>MBBS</th>\n",
              "      <th>BDS</th>\n",
              "      <th>BAMS</th>\n",
              "      <th>BHMS</th>\n",
              "      <th>MD - Dermatology</th>\n",
              "      <th>MS - ENT</th>\n",
              "      <th>Venereology &amp; Leprosy</th>\n",
              "      <th>MD - General Medicine</th>\n",
              "      <th>Diploma in Otorhinolaryngology (DLO)</th>\n",
              "      <th>MD - Homeopathy</th>\n",
              "      <th>years_exp</th>\n",
              "    </tr>\n",
              "  </thead>\n",
              "  <tbody>\n",
              "    <tr>\n",
              "      <th>0</th>\n",
              "      <td>100%</td>\n",
              "      <td>Kakkanad, Ernakulam</td>\n",
              "      <td>Homeopath</td>\n",
              "      <td>100</td>\n",
              "      <td>0</td>\n",
              "      <td>0</td>\n",
              "      <td>0</td>\n",
              "      <td>1</td>\n",
              "      <td>0</td>\n",
              "      <td>0</td>\n",
              "      <td>0</td>\n",
              "      <td>0</td>\n",
              "      <td>0</td>\n",
              "      <td>1</td>\n",
              "      <td>24</td>\n",
              "    </tr>\n",
              "    <tr>\n",
              "      <th>1</th>\n",
              "      <td>98%</td>\n",
              "      <td>Whitefield, Bangalore</td>\n",
              "      <td>Ayurveda</td>\n",
              "      <td>350</td>\n",
              "      <td>0</td>\n",
              "      <td>0</td>\n",
              "      <td>1</td>\n",
              "      <td>0</td>\n",
              "      <td>0</td>\n",
              "      <td>0</td>\n",
              "      <td>0</td>\n",
              "      <td>0</td>\n",
              "      <td>0</td>\n",
              "      <td>0</td>\n",
              "      <td>12</td>\n",
              "    </tr>\n",
              "    <tr>\n",
              "      <th>2</th>\n",
              "      <td>100%</td>\n",
              "      <td>Mathikere - BEL, Bangalore</td>\n",
              "      <td>ENT Specialist</td>\n",
              "      <td>300</td>\n",
              "      <td>1</td>\n",
              "      <td>0</td>\n",
              "      <td>0</td>\n",
              "      <td>0</td>\n",
              "      <td>0</td>\n",
              "      <td>0</td>\n",
              "      <td>0</td>\n",
              "      <td>0</td>\n",
              "      <td>0</td>\n",
              "      <td>0</td>\n",
              "      <td>9</td>\n",
              "    </tr>\n",
              "    <tr>\n",
              "      <th>3</th>\n",
              "      <td>100%</td>\n",
              "      <td>Bannerghatta Road, Bangalore</td>\n",
              "      <td>Ayurveda</td>\n",
              "      <td>250</td>\n",
              "      <td>0</td>\n",
              "      <td>0</td>\n",
              "      <td>1</td>\n",
              "      <td>0</td>\n",
              "      <td>0</td>\n",
              "      <td>0</td>\n",
              "      <td>0</td>\n",
              "      <td>0</td>\n",
              "      <td>0</td>\n",
              "      <td>0</td>\n",
              "      <td>12</td>\n",
              "    </tr>\n",
              "    <tr>\n",
              "      <th>4</th>\n",
              "      <td>100%</td>\n",
              "      <td>Keelkattalai, Chennai</td>\n",
              "      <td>Ayurveda</td>\n",
              "      <td>250</td>\n",
              "      <td>0</td>\n",
              "      <td>0</td>\n",
              "      <td>1</td>\n",
              "      <td>0</td>\n",
              "      <td>0</td>\n",
              "      <td>0</td>\n",
              "      <td>0</td>\n",
              "      <td>0</td>\n",
              "      <td>0</td>\n",
              "      <td>0</td>\n",
              "      <td>20</td>\n",
              "    </tr>\n",
              "  </tbody>\n",
              "</table>\n",
              "</div>"
            ],
            "text/plain": [
              "  Rating                         Place  ... MD - Homeopathy  years_exp\n",
              "0   100%           Kakkanad, Ernakulam  ...               1         24\n",
              "1    98%         Whitefield, Bangalore  ...               0         12\n",
              "2   100%    Mathikere - BEL, Bangalore  ...               0          9\n",
              "3   100%  Bannerghatta Road, Bangalore  ...               0         12\n",
              "4   100%         Keelkattalai, Chennai  ...               0         20\n",
              "\n",
              "[5 rows x 15 columns]"
            ]
          },
          "metadata": {
            "tags": []
          },
          "execution_count": 32
        }
      ]
    },
    {
      "cell_type": "code",
      "metadata": {
        "colab": {
          "base_uri": "https://localhost:8080/",
          "height": 323
        },
        "id": "joFzxSqKqXnF",
        "outputId": "46ba7b7c-5c3e-46ed-f51d-9904ba7a671d"
      },
      "source": [
        "#convert Rating column from string tpe to int type\r\n",
        "Train_data['Rating'] = Train_data['Rating'].str.slice(stop=-1).astype(int)\r\n",
        "Train_data.head()"
      ],
      "execution_count": 33,
      "outputs": [
        {
          "output_type": "execute_result",
          "data": {
            "text/html": [
              "<div>\n",
              "<style scoped>\n",
              "    .dataframe tbody tr th:only-of-type {\n",
              "        vertical-align: middle;\n",
              "    }\n",
              "\n",
              "    .dataframe tbody tr th {\n",
              "        vertical-align: top;\n",
              "    }\n",
              "\n",
              "    .dataframe thead th {\n",
              "        text-align: right;\n",
              "    }\n",
              "</style>\n",
              "<table border=\"1\" class=\"dataframe\">\n",
              "  <thead>\n",
              "    <tr style=\"text-align: right;\">\n",
              "      <th></th>\n",
              "      <th>Rating</th>\n",
              "      <th>Place</th>\n",
              "      <th>Profile</th>\n",
              "      <th>Fees</th>\n",
              "      <th>MBBS</th>\n",
              "      <th>BDS</th>\n",
              "      <th>BAMS</th>\n",
              "      <th>BHMS</th>\n",
              "      <th>MD - Dermatology</th>\n",
              "      <th>MS - ENT</th>\n",
              "      <th>Venereology &amp; Leprosy</th>\n",
              "      <th>MD - General Medicine</th>\n",
              "      <th>Diploma in Otorhinolaryngology (DLO)</th>\n",
              "      <th>MD - Homeopathy</th>\n",
              "      <th>years_exp</th>\n",
              "    </tr>\n",
              "  </thead>\n",
              "  <tbody>\n",
              "    <tr>\n",
              "      <th>0</th>\n",
              "      <td>100</td>\n",
              "      <td>Kakkanad, Ernakulam</td>\n",
              "      <td>Homeopath</td>\n",
              "      <td>100</td>\n",
              "      <td>0</td>\n",
              "      <td>0</td>\n",
              "      <td>0</td>\n",
              "      <td>1</td>\n",
              "      <td>0</td>\n",
              "      <td>0</td>\n",
              "      <td>0</td>\n",
              "      <td>0</td>\n",
              "      <td>0</td>\n",
              "      <td>1</td>\n",
              "      <td>24</td>\n",
              "    </tr>\n",
              "    <tr>\n",
              "      <th>1</th>\n",
              "      <td>98</td>\n",
              "      <td>Whitefield, Bangalore</td>\n",
              "      <td>Ayurveda</td>\n",
              "      <td>350</td>\n",
              "      <td>0</td>\n",
              "      <td>0</td>\n",
              "      <td>1</td>\n",
              "      <td>0</td>\n",
              "      <td>0</td>\n",
              "      <td>0</td>\n",
              "      <td>0</td>\n",
              "      <td>0</td>\n",
              "      <td>0</td>\n",
              "      <td>0</td>\n",
              "      <td>12</td>\n",
              "    </tr>\n",
              "    <tr>\n",
              "      <th>2</th>\n",
              "      <td>100</td>\n",
              "      <td>Mathikere - BEL, Bangalore</td>\n",
              "      <td>ENT Specialist</td>\n",
              "      <td>300</td>\n",
              "      <td>1</td>\n",
              "      <td>0</td>\n",
              "      <td>0</td>\n",
              "      <td>0</td>\n",
              "      <td>0</td>\n",
              "      <td>0</td>\n",
              "      <td>0</td>\n",
              "      <td>0</td>\n",
              "      <td>0</td>\n",
              "      <td>0</td>\n",
              "      <td>9</td>\n",
              "    </tr>\n",
              "    <tr>\n",
              "      <th>3</th>\n",
              "      <td>100</td>\n",
              "      <td>Bannerghatta Road, Bangalore</td>\n",
              "      <td>Ayurveda</td>\n",
              "      <td>250</td>\n",
              "      <td>0</td>\n",
              "      <td>0</td>\n",
              "      <td>1</td>\n",
              "      <td>0</td>\n",
              "      <td>0</td>\n",
              "      <td>0</td>\n",
              "      <td>0</td>\n",
              "      <td>0</td>\n",
              "      <td>0</td>\n",
              "      <td>0</td>\n",
              "      <td>12</td>\n",
              "    </tr>\n",
              "    <tr>\n",
              "      <th>4</th>\n",
              "      <td>100</td>\n",
              "      <td>Keelkattalai, Chennai</td>\n",
              "      <td>Ayurveda</td>\n",
              "      <td>250</td>\n",
              "      <td>0</td>\n",
              "      <td>0</td>\n",
              "      <td>1</td>\n",
              "      <td>0</td>\n",
              "      <td>0</td>\n",
              "      <td>0</td>\n",
              "      <td>0</td>\n",
              "      <td>0</td>\n",
              "      <td>0</td>\n",
              "      <td>0</td>\n",
              "      <td>20</td>\n",
              "    </tr>\n",
              "  </tbody>\n",
              "</table>\n",
              "</div>"
            ],
            "text/plain": [
              "   Rating                         Place  ... MD - Homeopathy  years_exp\n",
              "0     100           Kakkanad, Ernakulam  ...               1         24\n",
              "1      98         Whitefield, Bangalore  ...               0         12\n",
              "2     100    Mathikere - BEL, Bangalore  ...               0          9\n",
              "3     100  Bannerghatta Road, Bangalore  ...               0         12\n",
              "4     100         Keelkattalai, Chennai  ...               0         20\n",
              "\n",
              "[5 rows x 15 columns]"
            ]
          },
          "metadata": {
            "tags": []
          },
          "execution_count": 33
        }
      ]
    },
    {
      "cell_type": "code",
      "metadata": {
        "id": "3LO3Qt-jkqBQ"
      },
      "source": [
        "#Separate City and Locality in Place column\r\n",
        "\r\n",
        "Train_data['City'] = Train_data['Place'].str.split(',').str[1]\r\n",
        "Train_data['Locality'] = Train_data['Place'].str.split(',').str[0]"
      ],
      "execution_count": 34,
      "outputs": []
    },
    {
      "cell_type": "code",
      "metadata": {
        "colab": {
          "base_uri": "https://localhost:8080/",
          "height": 377
        },
        "id": "CbgcoXpHriRg",
        "outputId": "579f954e-943d-4587-f1f4-ac7abc6fbcf8"
      },
      "source": [
        "Train_data.head()"
      ],
      "execution_count": 35,
      "outputs": [
        {
          "output_type": "execute_result",
          "data": {
            "text/html": [
              "<div>\n",
              "<style scoped>\n",
              "    .dataframe tbody tr th:only-of-type {\n",
              "        vertical-align: middle;\n",
              "    }\n",
              "\n",
              "    .dataframe tbody tr th {\n",
              "        vertical-align: top;\n",
              "    }\n",
              "\n",
              "    .dataframe thead th {\n",
              "        text-align: right;\n",
              "    }\n",
              "</style>\n",
              "<table border=\"1\" class=\"dataframe\">\n",
              "  <thead>\n",
              "    <tr style=\"text-align: right;\">\n",
              "      <th></th>\n",
              "      <th>Rating</th>\n",
              "      <th>Place</th>\n",
              "      <th>Profile</th>\n",
              "      <th>Fees</th>\n",
              "      <th>MBBS</th>\n",
              "      <th>BDS</th>\n",
              "      <th>BAMS</th>\n",
              "      <th>BHMS</th>\n",
              "      <th>MD - Dermatology</th>\n",
              "      <th>MS - ENT</th>\n",
              "      <th>Venereology &amp; Leprosy</th>\n",
              "      <th>MD - General Medicine</th>\n",
              "      <th>Diploma in Otorhinolaryngology (DLO)</th>\n",
              "      <th>MD - Homeopathy</th>\n",
              "      <th>years_exp</th>\n",
              "      <th>City</th>\n",
              "      <th>Locality</th>\n",
              "    </tr>\n",
              "  </thead>\n",
              "  <tbody>\n",
              "    <tr>\n",
              "      <th>0</th>\n",
              "      <td>100</td>\n",
              "      <td>Kakkanad, Ernakulam</td>\n",
              "      <td>Homeopath</td>\n",
              "      <td>100</td>\n",
              "      <td>0</td>\n",
              "      <td>0</td>\n",
              "      <td>0</td>\n",
              "      <td>1</td>\n",
              "      <td>0</td>\n",
              "      <td>0</td>\n",
              "      <td>0</td>\n",
              "      <td>0</td>\n",
              "      <td>0</td>\n",
              "      <td>1</td>\n",
              "      <td>24</td>\n",
              "      <td>Ernakulam</td>\n",
              "      <td>Kakkanad</td>\n",
              "    </tr>\n",
              "    <tr>\n",
              "      <th>1</th>\n",
              "      <td>98</td>\n",
              "      <td>Whitefield, Bangalore</td>\n",
              "      <td>Ayurveda</td>\n",
              "      <td>350</td>\n",
              "      <td>0</td>\n",
              "      <td>0</td>\n",
              "      <td>1</td>\n",
              "      <td>0</td>\n",
              "      <td>0</td>\n",
              "      <td>0</td>\n",
              "      <td>0</td>\n",
              "      <td>0</td>\n",
              "      <td>0</td>\n",
              "      <td>0</td>\n",
              "      <td>12</td>\n",
              "      <td>Bangalore</td>\n",
              "      <td>Whitefield</td>\n",
              "    </tr>\n",
              "    <tr>\n",
              "      <th>2</th>\n",
              "      <td>100</td>\n",
              "      <td>Mathikere - BEL, Bangalore</td>\n",
              "      <td>ENT Specialist</td>\n",
              "      <td>300</td>\n",
              "      <td>1</td>\n",
              "      <td>0</td>\n",
              "      <td>0</td>\n",
              "      <td>0</td>\n",
              "      <td>0</td>\n",
              "      <td>0</td>\n",
              "      <td>0</td>\n",
              "      <td>0</td>\n",
              "      <td>0</td>\n",
              "      <td>0</td>\n",
              "      <td>9</td>\n",
              "      <td>Bangalore</td>\n",
              "      <td>Mathikere - BEL</td>\n",
              "    </tr>\n",
              "    <tr>\n",
              "      <th>3</th>\n",
              "      <td>100</td>\n",
              "      <td>Bannerghatta Road, Bangalore</td>\n",
              "      <td>Ayurveda</td>\n",
              "      <td>250</td>\n",
              "      <td>0</td>\n",
              "      <td>0</td>\n",
              "      <td>1</td>\n",
              "      <td>0</td>\n",
              "      <td>0</td>\n",
              "      <td>0</td>\n",
              "      <td>0</td>\n",
              "      <td>0</td>\n",
              "      <td>0</td>\n",
              "      <td>0</td>\n",
              "      <td>12</td>\n",
              "      <td>Bangalore</td>\n",
              "      <td>Bannerghatta Road</td>\n",
              "    </tr>\n",
              "    <tr>\n",
              "      <th>4</th>\n",
              "      <td>100</td>\n",
              "      <td>Keelkattalai, Chennai</td>\n",
              "      <td>Ayurveda</td>\n",
              "      <td>250</td>\n",
              "      <td>0</td>\n",
              "      <td>0</td>\n",
              "      <td>1</td>\n",
              "      <td>0</td>\n",
              "      <td>0</td>\n",
              "      <td>0</td>\n",
              "      <td>0</td>\n",
              "      <td>0</td>\n",
              "      <td>0</td>\n",
              "      <td>0</td>\n",
              "      <td>20</td>\n",
              "      <td>Chennai</td>\n",
              "      <td>Keelkattalai</td>\n",
              "    </tr>\n",
              "  </tbody>\n",
              "</table>\n",
              "</div>"
            ],
            "text/plain": [
              "   Rating                         Place  ...        City           Locality\n",
              "0     100           Kakkanad, Ernakulam  ...   Ernakulam           Kakkanad\n",
              "1      98         Whitefield, Bangalore  ...   Bangalore         Whitefield\n",
              "2     100    Mathikere - BEL, Bangalore  ...   Bangalore    Mathikere - BEL\n",
              "3     100  Bannerghatta Road, Bangalore  ...   Bangalore  Bannerghatta Road\n",
              "4     100         Keelkattalai, Chennai  ...     Chennai       Keelkattalai\n",
              "\n",
              "[5 rows x 17 columns]"
            ]
          },
          "metadata": {
            "tags": []
          },
          "execution_count": 35
        }
      ]
    },
    {
      "cell_type": "code",
      "metadata": {
        "id": "llT3WuxckxTc"
      },
      "source": [
        "#Now we can drop the place variable\r\n",
        "Train_data.drop('Place',axis=1,inplace=True)"
      ],
      "execution_count": 36,
      "outputs": []
    },
    {
      "cell_type": "code",
      "metadata": {
        "colab": {
          "base_uri": "https://localhost:8080/",
          "height": 272
        },
        "id": "MHKxULs8kxXp",
        "outputId": "9218c95b-2e4b-4295-eb60-c8376526d078"
      },
      "source": [
        "Train_data.head()"
      ],
      "execution_count": 37,
      "outputs": [
        {
          "output_type": "execute_result",
          "data": {
            "text/html": [
              "<div>\n",
              "<style scoped>\n",
              "    .dataframe tbody tr th:only-of-type {\n",
              "        vertical-align: middle;\n",
              "    }\n",
              "\n",
              "    .dataframe tbody tr th {\n",
              "        vertical-align: top;\n",
              "    }\n",
              "\n",
              "    .dataframe thead th {\n",
              "        text-align: right;\n",
              "    }\n",
              "</style>\n",
              "<table border=\"1\" class=\"dataframe\">\n",
              "  <thead>\n",
              "    <tr style=\"text-align: right;\">\n",
              "      <th></th>\n",
              "      <th>Rating</th>\n",
              "      <th>Profile</th>\n",
              "      <th>Fees</th>\n",
              "      <th>MBBS</th>\n",
              "      <th>BDS</th>\n",
              "      <th>BAMS</th>\n",
              "      <th>BHMS</th>\n",
              "      <th>MD - Dermatology</th>\n",
              "      <th>MS - ENT</th>\n",
              "      <th>Venereology &amp; Leprosy</th>\n",
              "      <th>MD - General Medicine</th>\n",
              "      <th>Diploma in Otorhinolaryngology (DLO)</th>\n",
              "      <th>MD - Homeopathy</th>\n",
              "      <th>years_exp</th>\n",
              "      <th>City</th>\n",
              "      <th>Locality</th>\n",
              "    </tr>\n",
              "  </thead>\n",
              "  <tbody>\n",
              "    <tr>\n",
              "      <th>0</th>\n",
              "      <td>100</td>\n",
              "      <td>Homeopath</td>\n",
              "      <td>100</td>\n",
              "      <td>0</td>\n",
              "      <td>0</td>\n",
              "      <td>0</td>\n",
              "      <td>1</td>\n",
              "      <td>0</td>\n",
              "      <td>0</td>\n",
              "      <td>0</td>\n",
              "      <td>0</td>\n",
              "      <td>0</td>\n",
              "      <td>1</td>\n",
              "      <td>24</td>\n",
              "      <td>Ernakulam</td>\n",
              "      <td>Kakkanad</td>\n",
              "    </tr>\n",
              "    <tr>\n",
              "      <th>1</th>\n",
              "      <td>98</td>\n",
              "      <td>Ayurveda</td>\n",
              "      <td>350</td>\n",
              "      <td>0</td>\n",
              "      <td>0</td>\n",
              "      <td>1</td>\n",
              "      <td>0</td>\n",
              "      <td>0</td>\n",
              "      <td>0</td>\n",
              "      <td>0</td>\n",
              "      <td>0</td>\n",
              "      <td>0</td>\n",
              "      <td>0</td>\n",
              "      <td>12</td>\n",
              "      <td>Bangalore</td>\n",
              "      <td>Whitefield</td>\n",
              "    </tr>\n",
              "    <tr>\n",
              "      <th>2</th>\n",
              "      <td>100</td>\n",
              "      <td>ENT Specialist</td>\n",
              "      <td>300</td>\n",
              "      <td>1</td>\n",
              "      <td>0</td>\n",
              "      <td>0</td>\n",
              "      <td>0</td>\n",
              "      <td>0</td>\n",
              "      <td>0</td>\n",
              "      <td>0</td>\n",
              "      <td>0</td>\n",
              "      <td>0</td>\n",
              "      <td>0</td>\n",
              "      <td>9</td>\n",
              "      <td>Bangalore</td>\n",
              "      <td>Mathikere - BEL</td>\n",
              "    </tr>\n",
              "    <tr>\n",
              "      <th>3</th>\n",
              "      <td>100</td>\n",
              "      <td>Ayurveda</td>\n",
              "      <td>250</td>\n",
              "      <td>0</td>\n",
              "      <td>0</td>\n",
              "      <td>1</td>\n",
              "      <td>0</td>\n",
              "      <td>0</td>\n",
              "      <td>0</td>\n",
              "      <td>0</td>\n",
              "      <td>0</td>\n",
              "      <td>0</td>\n",
              "      <td>0</td>\n",
              "      <td>12</td>\n",
              "      <td>Bangalore</td>\n",
              "      <td>Bannerghatta Road</td>\n",
              "    </tr>\n",
              "    <tr>\n",
              "      <th>4</th>\n",
              "      <td>100</td>\n",
              "      <td>Ayurveda</td>\n",
              "      <td>250</td>\n",
              "      <td>0</td>\n",
              "      <td>0</td>\n",
              "      <td>1</td>\n",
              "      <td>0</td>\n",
              "      <td>0</td>\n",
              "      <td>0</td>\n",
              "      <td>0</td>\n",
              "      <td>0</td>\n",
              "      <td>0</td>\n",
              "      <td>0</td>\n",
              "      <td>20</td>\n",
              "      <td>Chennai</td>\n",
              "      <td>Keelkattalai</td>\n",
              "    </tr>\n",
              "  </tbody>\n",
              "</table>\n",
              "</div>"
            ],
            "text/plain": [
              "   Rating         Profile  Fees  ...  years_exp        City           Locality\n",
              "0     100       Homeopath   100  ...         24   Ernakulam           Kakkanad\n",
              "1      98        Ayurveda   350  ...         12   Bangalore         Whitefield\n",
              "2     100  ENT Specialist   300  ...          9   Bangalore    Mathikere - BEL\n",
              "3     100        Ayurveda   250  ...         12   Bangalore  Bannerghatta Road\n",
              "4     100        Ayurveda   250  ...         20     Chennai       Keelkattalai\n",
              "\n",
              "[5 rows x 16 columns]"
            ]
          },
          "metadata": {
            "tags": []
          },
          "execution_count": 37
        }
      ]
    },
    {
      "cell_type": "markdown",
      "metadata": {
        "id": "3CwqbBBIu3gY"
      },
      "source": [
        "**Rating vs Fees**"
      ]
    },
    {
      "cell_type": "code",
      "metadata": {
        "colab": {
          "base_uri": "https://localhost:8080/"
        },
        "id": "eXiIR-oxkxcv",
        "outputId": "68395fda-e5d5-45f7-821a-fe952c8fd0a9"
      },
      "source": [
        "print(Train_data['Rating'].value_counts())"
      ],
      "execution_count": 38,
      "outputs": [
        {
          "output_type": "stream",
          "text": [
            "100    3986\n",
            "98      290\n",
            "99      259\n",
            "97      241\n",
            "96      220\n",
            "95      178\n",
            "94      115\n",
            "93      109\n",
            "92       66\n",
            "90       66\n",
            "91       60\n",
            "89       42\n",
            "88       41\n",
            "85       27\n",
            "82       23\n",
            "83       21\n",
            "86       21\n",
            "80       19\n",
            "77       16\n",
            "87       14\n",
            "84       13\n",
            "79       13\n",
            "67       12\n",
            "81       12\n",
            "71        9\n",
            "76        9\n",
            "75        8\n",
            "73        8\n",
            "74        7\n",
            "60        7\n",
            "78        6\n",
            "56        5\n",
            "68        5\n",
            "69        4\n",
            "70        4\n",
            "57        3\n",
            "72        3\n",
            "33        2\n",
            "64        2\n",
            "62        2\n",
            "63        2\n",
            "55        2\n",
            "48        1\n",
            "40        1\n",
            "7         1\n",
            "65        1\n",
            "45        1\n",
            "53        1\n",
            "47        1\n",
            "58        1\n",
            "36        1\n",
            "Name: Rating, dtype: int64\n"
          ],
          "name": "stdout"
        }
      ]
    },
    {
      "cell_type": "code",
      "metadata": {
        "colab": {
          "base_uri": "https://localhost:8080/",
          "height": 535
        },
        "id": "qV9lGAHYkxhb",
        "outputId": "c1d404bc-1d9f-40da-8457-7ea5b04889f8"
      },
      "source": [
        "#Rating vs Fees\r\n",
        "plt.figure(figsize=(20,8))\r\n",
        "mean_Fees=np.mean(Train_data['Fees'])\r\n",
        "sns.boxplot(y='Fees',x='Rating' ,data=Train_data,palette=\"rainbow\")\r\n",
        "plt.axhline(mean_Fees,color='r',linestyle='dashed',linewidth=2)\r\n",
        "plt.title(\"Rating vs Fees\",fontsize=30)\r\n",
        "plt.xticks(rotation='vertical')\r\n",
        "plt.show()"
      ],
      "execution_count": 39,
      "outputs": [
        {
          "output_type": "display_data",
          "data": {
            "image/png": "[encoded data removed]",
            "text/plain": [
              "<Figure size 1440x576 with 1 Axes>"
            ]
          },
          "metadata": {
            "tags": [],
            "needs_background": "light"
          }
        }
      ]
    },
    {
      "cell_type": "code",
      "metadata": {
        "colab": {
          "base_uri": "https://localhost:8080/",
          "height": 396
        },
        "id": "sLSljsUIvTLa",
        "outputId": "93b9ace7-827a-4b4e-ebc6-9f1d238041cf"
      },
      "source": [
        "plt.figure(figsize=(20,6))\r\n",
        "sns.barplot(y='Fees',x='Rating' ,data=Train_data,palette=\"rainbow\")\r\n",
        "plt.xticks(rotation=30)\r\n",
        "plt.show()"
      ],
      "execution_count": 40,
      "outputs": [
        {
          "output_type": "display_data",
          "data": {
            "image/png": "[encoded data removed]",
            "text/plain": [
              "<Figure size 1440x432 with 1 Axes>"
            ]
          },
          "metadata": {
            "tags": [],
            "needs_background": "light"
          }
        }
      ]
    },
    {
      "cell_type": "markdown",
      "metadata": {
        "id": "5J9KNbuewDZu"
      },
      "source": [
        "Observation:\r\n",
        "\r\n",
        "From above graph we can say that Rating of 48% doctors  have the highest Fees .\r\n",
        "\r\n",
        "There are some outliers present in Ratings and price which needs to be removed."
      ]
    },
    {
      "cell_type": "markdown",
      "metadata": {
        "id": "JTRMNedpv1J2"
      },
      "source": [
        "**Profile vs Fees**"
      ]
    },
    {
      "cell_type": "code",
      "metadata": {
        "colab": {
          "base_uri": "https://localhost:8080/"
        },
        "id": "T_YCbaIDxDIu",
        "outputId": "4a0dbcc5-6243-4398-86bd-59311871c8dd"
      },
      "source": [
        "print(Train_data['Profile'].value_counts())"
      ],
      "execution_count": 41,
      "outputs": [
        {
          "output_type": "stream",
          "text": [
            "Dentist             1397\n",
            "General Medicine    1173\n",
            "Dermatologists      1034\n",
            "Homeopath            843\n",
            "Ayurveda             786\n",
            "ENT Specialist       728\n",
            "Name: Profile, dtype: int64\n"
          ],
          "name": "stdout"
        }
      ]
    },
    {
      "cell_type": "code",
      "metadata": {
        "colab": {
          "base_uri": "https://localhost:8080/",
          "height": 495
        },
        "id": "o243vEJ6xJaR",
        "outputId": "f09673fd-f69b-49f3-b120-031900d73fbf"
      },
      "source": [
        "#Profile vs Fees\r\n",
        "plt.figure(figsize=(10,6))\r\n",
        "mean_Fees=np.mean(Train_data['Fees'])\r\n",
        "sns.boxplot(y='Fees',x='Profile' ,data=Train_data,palette=\"rainbow\")\r\n",
        "plt.axhline(mean_Fees,color='r',linestyle='dashed',linewidth=2)\r\n",
        "plt.title(\"Profile vs Fees\",fontsize=30)\r\n",
        "plt.xticks(rotation='vertical')\r\n",
        "plt.show()"
      ],
      "execution_count": 42,
      "outputs": [
        {
          "output_type": "display_data",
          "data": {
            "image/png": "[encoded data removed]",
            "text/plain": [
              "<Figure size 720x432 with 1 Axes>"
            ]
          },
          "metadata": {
            "tags": [],
            "needs_background": "light"
          }
        }
      ]
    },
    {
      "cell_type": "code",
      "metadata": {
        "colab": {
          "base_uri": "https://localhost:8080/",
          "height": 430
        },
        "id": "aOdVqdzZxJfl",
        "outputId": "195cc2b7-d417-42f1-eebb-d6de0d92f3f8"
      },
      "source": [
        "plt.figure(figsize=(12,6))\r\n",
        "sns.barplot(y='Fees',x='Profile' ,data=Train_data,palette=\"rainbow\")\r\n",
        "plt.xticks(rotation=30)\r\n",
        "plt.show()"
      ],
      "execution_count": 43,
      "outputs": [
        {
          "output_type": "display_data",
          "data": {
            "image/png": "[encoded data removed]",
            "text/plain": [
              "<Figure size 864x432 with 1 Axes>"
            ]
          },
          "metadata": {
            "tags": [],
            "needs_background": "light"
          }
        }
      ]
    },
    {
      "cell_type": "markdown",
      "metadata": {
        "id": "IHlSSwEVxmwo"
      },
      "source": [
        "Observation:\r\n",
        "\r\n",
        "From above graph we can say that Dermatologists and ENT Specialist had the highest Fees .\r\n",
        "\r\n",
        "There are some outliers present  which needs to be removed."
      ]
    },
    {
      "cell_type": "markdown",
      "metadata": {
        "id": "hlh5E3Xjxevn"
      },
      "source": [
        "**years_exp Vs Fees**"
      ]
    },
    {
      "cell_type": "code",
      "metadata": {
        "colab": {
          "base_uri": "https://localhost:8080/"
        },
        "id": "PqSpzYVvy80j",
        "outputId": "1823d683-1404-4c5d-845a-52392c00a648"
      },
      "source": [
        "print(Train_data['years_exp'].value_counts())"
      ],
      "execution_count": 44,
      "outputs": [
        {
          "output_type": "stream",
          "text": [
            "9     323\n",
            "10    294\n",
            "11    288\n",
            "8     282\n",
            "12    279\n",
            "     ... \n",
            "64      1\n",
            "65      1\n",
            "58      1\n",
            "66      1\n",
            "61      1\n",
            "Name: years_exp, Length: 64, dtype: int64\n"
          ],
          "name": "stdout"
        }
      ]
    },
    {
      "cell_type": "code",
      "metadata": {
        "colab": {
          "base_uri": "https://localhost:8080/",
          "height": 477
        },
        "id": "Cs7ftHNWzCLe",
        "outputId": "2d869eaa-3c7e-4199-e51c-f0ca56aeaf5a"
      },
      "source": [
        "#years_exp vs Fees\r\n",
        "plt.figure(figsize=(24,8))\r\n",
        "mean_Fees=np.mean(Train_data['Fees'])\r\n",
        "sns.boxplot(y='Fees',x='years_exp' ,data=Train_data,palette=\"rainbow\")\r\n",
        "plt.axhline(mean_Fees,color='r',linestyle='dashed',linewidth=2)\r\n",
        "plt.title(\"years_exp vs Fees\",fontsize=30)\r\n",
        "plt.xticks(rotation=65)\r\n",
        "plt.show()"
      ],
      "execution_count": 45,
      "outputs": [
        {
          "output_type": "display_data",
          "data": {
            "image/png": "[encoded data removed]",
            "text/plain": [
              "<Figure size 1728x576 with 1 Axes>"
            ]
          },
          "metadata": {
            "tags": [],
            "needs_background": "light"
          }
        }
      ]
    },
    {
      "cell_type": "code",
      "metadata": {
        "colab": {
          "base_uri": "https://localhost:8080/",
          "height": 446
        },
        "id": "0LMCg8A0zCRy",
        "outputId": "ce449999-0742-4cb6-be99-da905ac65826"
      },
      "source": [
        "plt.figure(figsize=(24,8))\r\n",
        "sns.barplot(y='Fees',x='years_exp' ,data=Train_data,palette=\"rainbow\")\r\n",
        "plt.xticks(rotation=0)\r\n",
        "plt.show()"
      ],
      "execution_count": 46,
      "outputs": [
        {
          "output_type": "display_data",
          "data": {
            "image/png": "[encoded data removed]",
            "text/plain": [
              "<Figure size 1728x576 with 1 Axes>"
            ]
          },
          "metadata": {
            "tags": [],
            "needs_background": "light"
          }
        }
      ]
    },
    {
      "cell_type": "markdown",
      "metadata": {
        "id": "TQX6U030z9GV"
      },
      "source": [
        "Observation:\r\n",
        "\r\n",
        "From above graph we can say that the doctors which have 33 years of  have the highest Fees .\r\n",
        "\r\n",
        "There are some outliers present which needs to be removed."
      ]
    },
    {
      "cell_type": "markdown",
      "metadata": {
        "id": "E5lR_Y860gkC"
      },
      "source": [
        "**City vs Fees**"
      ]
    },
    {
      "cell_type": "code",
      "metadata": {
        "colab": {
          "base_uri": "https://localhost:8080/"
        },
        "id": "fBvr8GON0v8D",
        "outputId": "12dea12a-41dd-4ce5-c4c2-4f07f9553b6e"
      },
      "source": [
        "print(Train_data['City'].value_counts())"
      ],
      "execution_count": 47,
      "outputs": [
        {
          "output_type": "stream",
          "text": [
            " Bangalore             1283\n",
            " Mumbai                1219\n",
            " Delhi                 1184\n",
            " Hyderabad              951\n",
            " Chennai                855\n",
            " Coimbatore             228\n",
            " Ernakulam              153\n",
            " Thiruvananthapuram      86\n",
            " Sector 5                 1\n",
            "Name: City, dtype: int64\n"
          ],
          "name": "stdout"
        }
      ]
    },
    {
      "cell_type": "code",
      "metadata": {
        "colab": {
          "base_uri": "https://localhost:8080/",
          "height": 579
        },
        "id": "LoL4Grfz0wC_",
        "outputId": "ff7bdadc-1cf4-47d7-b74f-506496971c27"
      },
      "source": [
        "#City vs Fees\r\n",
        "plt.figure(figsize=(12,8))\r\n",
        "mean_Fees=np.mean(Train_data['Fees'])\r\n",
        "sns.boxplot(y='Fees',x='City' ,data=Train_data,palette=\"rainbow\")\r\n",
        "plt.axhline(mean_Fees,color='r',linestyle='dashed',linewidth=2)\r\n",
        "plt.title(\"City vs Fees\",fontsize=30)\r\n",
        "plt.xticks(rotation=30)\r\n",
        "plt.show()"
      ],
      "execution_count": 48,
      "outputs": [
        {
          "output_type": "display_data",
          "data": {
            "image/png": "[encoded data removed]",
            "text/plain": [
              "<Figure size 864x576 with 1 Axes>"
            ]
          },
          "metadata": {
            "tags": [],
            "needs_background": "light"
          }
        }
      ]
    },
    {
      "cell_type": "code",
      "metadata": {
        "colab": {
          "base_uri": "https://localhost:8080/",
          "height": 441
        },
        "id": "E4zObpGT0wn9",
        "outputId": "71e8733d-a5b5-49d2-9c3f-5c9e690b8eed"
      },
      "source": [
        "plt.figure(figsize=(12,6))\r\n",
        "sns.barplot(y='Fees',x='City' ,data=Train_data,palette=\"rainbow\")\r\n",
        "plt.xticks(rotation=30)\r\n",
        "plt.show()"
      ],
      "execution_count": 49,
      "outputs": [
        {
          "output_type": "display_data",
          "data": {
            "image/png": "[encoded data removed]",
            "text/plain": [
              "<Figure size 864x432 with 1 Axes>"
            ]
          },
          "metadata": {
            "tags": [],
            "needs_background": "light"
          }
        }
      ]
    },
    {
      "cell_type": "markdown",
      "metadata": {
        "id": "vR0R5C9_1l9D"
      },
      "source": [
        "Observation:\r\n",
        "\r\n",
        "From above graph we can say that, those  doctors which lives in Delhi have the highest Fees and those who lives in coimbatore have the lowest fees .\r\n",
        "\r\n",
        "There are some outliers present which needs to be removed."
      ]
    },
    {
      "cell_type": "markdown",
      "metadata": {
        "id": "kexTFCoH582o"
      },
      "source": [
        "**Handling Categorical Data**"
      ]
    },
    {
      "cell_type": "code",
      "metadata": {
        "colab": {
          "base_uri": "https://localhost:8080/",
          "height": 272
        },
        "id": "dpvwdfQI9Nw3",
        "outputId": "4587f0bd-0bb7-4821-f8e4-8f26fe6a7061"
      },
      "source": [
        "Train_data.head()"
      ],
      "execution_count": 50,
      "outputs": [
        {
          "output_type": "execute_result",
          "data": {
            "text/html": [
              "<div>\n",
              "<style scoped>\n",
              "    .dataframe tbody tr th:only-of-type {\n",
              "        vertical-align: middle;\n",
              "    }\n",
              "\n",
              "    .dataframe tbody tr th {\n",
              "        vertical-align: top;\n",
              "    }\n",
              "\n",
              "    .dataframe thead th {\n",
              "        text-align: right;\n",
              "    }\n",
              "</style>\n",
              "<table border=\"1\" class=\"dataframe\">\n",
              "  <thead>\n",
              "    <tr style=\"text-align: right;\">\n",
              "      <th></th>\n",
              "      <th>Rating</th>\n",
              "      <th>Profile</th>\n",
              "      <th>Fees</th>\n",
              "      <th>MBBS</th>\n",
              "      <th>BDS</th>\n",
              "      <th>BAMS</th>\n",
              "      <th>BHMS</th>\n",
              "      <th>MD - Dermatology</th>\n",
              "      <th>MS - ENT</th>\n",
              "      <th>Venereology &amp; Leprosy</th>\n",
              "      <th>MD - General Medicine</th>\n",
              "      <th>Diploma in Otorhinolaryngology (DLO)</th>\n",
              "      <th>MD - Homeopathy</th>\n",
              "      <th>years_exp</th>\n",
              "      <th>City</th>\n",
              "      <th>Locality</th>\n",
              "    </tr>\n",
              "  </thead>\n",
              "  <tbody>\n",
              "    <tr>\n",
              "      <th>0</th>\n",
              "      <td>100</td>\n",
              "      <td>Homeopath</td>\n",
              "      <td>100</td>\n",
              "      <td>0</td>\n",
              "      <td>0</td>\n",
              "      <td>0</td>\n",
              "      <td>1</td>\n",
              "      <td>0</td>\n",
              "      <td>0</td>\n",
              "      <td>0</td>\n",
              "      <td>0</td>\n",
              "      <td>0</td>\n",
              "      <td>1</td>\n",
              "      <td>24</td>\n",
              "      <td>Ernakulam</td>\n",
              "      <td>Kakkanad</td>\n",
              "    </tr>\n",
              "    <tr>\n",
              "      <th>1</th>\n",
              "      <td>98</td>\n",
              "      <td>Ayurveda</td>\n",
              "      <td>350</td>\n",
              "      <td>0</td>\n",
              "      <td>0</td>\n",
              "      <td>1</td>\n",
              "      <td>0</td>\n",
              "      <td>0</td>\n",
              "      <td>0</td>\n",
              "      <td>0</td>\n",
              "      <td>0</td>\n",
              "      <td>0</td>\n",
              "      <td>0</td>\n",
              "      <td>12</td>\n",
              "      <td>Bangalore</td>\n",
              "      <td>Whitefield</td>\n",
              "    </tr>\n",
              "    <tr>\n",
              "      <th>2</th>\n",
              "      <td>100</td>\n",
              "      <td>ENT Specialist</td>\n",
              "      <td>300</td>\n",
              "      <td>1</td>\n",
              "      <td>0</td>\n",
              "      <td>0</td>\n",
              "      <td>0</td>\n",
              "      <td>0</td>\n",
              "      <td>0</td>\n",
              "      <td>0</td>\n",
              "      <td>0</td>\n",
              "      <td>0</td>\n",
              "      <td>0</td>\n",
              "      <td>9</td>\n",
              "      <td>Bangalore</td>\n",
              "      <td>Mathikere - BEL</td>\n",
              "    </tr>\n",
              "    <tr>\n",
              "      <th>3</th>\n",
              "      <td>100</td>\n",
              "      <td>Ayurveda</td>\n",
              "      <td>250</td>\n",
              "      <td>0</td>\n",
              "      <td>0</td>\n",
              "      <td>1</td>\n",
              "      <td>0</td>\n",
              "      <td>0</td>\n",
              "      <td>0</td>\n",
              "      <td>0</td>\n",
              "      <td>0</td>\n",
              "      <td>0</td>\n",
              "      <td>0</td>\n",
              "      <td>12</td>\n",
              "      <td>Bangalore</td>\n",
              "      <td>Bannerghatta Road</td>\n",
              "    </tr>\n",
              "    <tr>\n",
              "      <th>4</th>\n",
              "      <td>100</td>\n",
              "      <td>Ayurveda</td>\n",
              "      <td>250</td>\n",
              "      <td>0</td>\n",
              "      <td>0</td>\n",
              "      <td>1</td>\n",
              "      <td>0</td>\n",
              "      <td>0</td>\n",
              "      <td>0</td>\n",
              "      <td>0</td>\n",
              "      <td>0</td>\n",
              "      <td>0</td>\n",
              "      <td>0</td>\n",
              "      <td>20</td>\n",
              "      <td>Chennai</td>\n",
              "      <td>Keelkattalai</td>\n",
              "    </tr>\n",
              "  </tbody>\n",
              "</table>\n",
              "</div>"
            ],
            "text/plain": [
              "   Rating         Profile  Fees  ...  years_exp        City           Locality\n",
              "0     100       Homeopath   100  ...         24   Ernakulam           Kakkanad\n",
              "1      98        Ayurveda   350  ...         12   Bangalore         Whitefield\n",
              "2     100  ENT Specialist   300  ...          9   Bangalore    Mathikere - BEL\n",
              "3     100        Ayurveda   250  ...         12   Bangalore  Bannerghatta Road\n",
              "4     100        Ayurveda   250  ...         20     Chennai       Keelkattalai\n",
              "\n",
              "[5 rows x 16 columns]"
            ]
          },
          "metadata": {
            "tags": []
          },
          "execution_count": 50
        }
      ]
    },
    {
      "cell_type": "code",
      "metadata": {
        "colab": {
          "base_uri": "https://localhost:8080/"
        },
        "id": "kWXZ1csq9jd_",
        "outputId": "6f5e6dd6-01a4-4245-f038-a9c862e7ebe9"
      },
      "source": [
        "Train_data.isnull().sum()"
      ],
      "execution_count": 51,
      "outputs": [
        {
          "output_type": "execute_result",
          "data": {
            "text/plain": [
              "Rating                                  0\n",
              "Profile                                 0\n",
              "Fees                                    0\n",
              "MBBS                                    0\n",
              "BDS                                     0\n",
              "BAMS                                    0\n",
              "BHMS                                    0\n",
              "MD - Dermatology                        0\n",
              "MS - ENT                                0\n",
              "Venereology & Leprosy                   0\n",
              "MD - General Medicine                   0\n",
              "Diploma in Otorhinolaryngology (DLO)    0\n",
              "MD - Homeopathy                         0\n",
              "years_exp                               0\n",
              "City                                    1\n",
              "Locality                                0\n",
              "dtype: int64"
            ]
          },
          "metadata": {
            "tags": []
          },
          "execution_count": 51
        }
      ]
    },
    {
      "cell_type": "code",
      "metadata": {
        "id": "GK7mkcvwBOIt"
      },
      "source": [
        "#Dropping the null values presnt in City column\r\n",
        "\r\n",
        "Train_data.dropna(inplace=True)"
      ],
      "execution_count": 52,
      "outputs": []
    },
    {
      "cell_type": "code",
      "metadata": {
        "colab": {
          "base_uri": "https://localhost:8080/"
        },
        "id": "1cOoamt8B5bt",
        "outputId": "9857d5b7-82c2-4db5-d6f1-94641e51e664"
      },
      "source": [
        "Train_data.isnull().sum()"
      ],
      "execution_count": 53,
      "outputs": [
        {
          "output_type": "execute_result",
          "data": {
            "text/plain": [
              "Rating                                  0\n",
              "Profile                                 0\n",
              "Fees                                    0\n",
              "MBBS                                    0\n",
              "BDS                                     0\n",
              "BAMS                                    0\n",
              "BHMS                                    0\n",
              "MD - Dermatology                        0\n",
              "MS - ENT                                0\n",
              "Venereology & Leprosy                   0\n",
              "MD - General Medicine                   0\n",
              "Diploma in Otorhinolaryngology (DLO)    0\n",
              "MD - Homeopathy                         0\n",
              "years_exp                               0\n",
              "City                                    0\n",
              "Locality                                0\n",
              "dtype: int64"
            ]
          },
          "metadata": {
            "tags": []
          },
          "execution_count": 53
        }
      ]
    },
    {
      "cell_type": "code",
      "metadata": {
        "colab": {
          "base_uri": "https://localhost:8080/",
          "height": 272
        },
        "id": "AFL96ahMB_HT",
        "outputId": "b74f98ab-057a-4c32-b17d-5ce80a01e282"
      },
      "source": [
        "#Now we have to convert Profile\r\n",
        "Train_data.replace({'Dentist':0, 'General Medicine':1, 'Dermatologists':2, 'Homeopath':3, 'Ayurveda':4, 'ENT Specialist':5},inplace=True)\r\n",
        "Train_data.head()"
      ],
      "execution_count": 54,
      "outputs": [
        {
          "output_type": "execute_result",
          "data": {
            "text/html": [
              "<div>\n",
              "<style scoped>\n",
              "    .dataframe tbody tr th:only-of-type {\n",
              "        vertical-align: middle;\n",
              "    }\n",
              "\n",
              "    .dataframe tbody tr th {\n",
              "        vertical-align: top;\n",
              "    }\n",
              "\n",
              "    .dataframe thead th {\n",
              "        text-align: right;\n",
              "    }\n",
              "</style>\n",
              "<table border=\"1\" class=\"dataframe\">\n",
              "  <thead>\n",
              "    <tr style=\"text-align: right;\">\n",
              "      <th></th>\n",
              "      <th>Rating</th>\n",
              "      <th>Profile</th>\n",
              "      <th>Fees</th>\n",
              "      <th>MBBS</th>\n",
              "      <th>BDS</th>\n",
              "      <th>BAMS</th>\n",
              "      <th>BHMS</th>\n",
              "      <th>MD - Dermatology</th>\n",
              "      <th>MS - ENT</th>\n",
              "      <th>Venereology &amp; Leprosy</th>\n",
              "      <th>MD - General Medicine</th>\n",
              "      <th>Diploma in Otorhinolaryngology (DLO)</th>\n",
              "      <th>MD - Homeopathy</th>\n",
              "      <th>years_exp</th>\n",
              "      <th>City</th>\n",
              "      <th>Locality</th>\n",
              "    </tr>\n",
              "  </thead>\n",
              "  <tbody>\n",
              "    <tr>\n",
              "      <th>0</th>\n",
              "      <td>100</td>\n",
              "      <td>3</td>\n",
              "      <td>100</td>\n",
              "      <td>0</td>\n",
              "      <td>0</td>\n",
              "      <td>0</td>\n",
              "      <td>1</td>\n",
              "      <td>0</td>\n",
              "      <td>0</td>\n",
              "      <td>0</td>\n",
              "      <td>0</td>\n",
              "      <td>0</td>\n",
              "      <td>1</td>\n",
              "      <td>24</td>\n",
              "      <td>Ernakulam</td>\n",
              "      <td>Kakkanad</td>\n",
              "    </tr>\n",
              "    <tr>\n",
              "      <th>1</th>\n",
              "      <td>98</td>\n",
              "      <td>4</td>\n",
              "      <td>350</td>\n",
              "      <td>0</td>\n",
              "      <td>0</td>\n",
              "      <td>1</td>\n",
              "      <td>0</td>\n",
              "      <td>0</td>\n",
              "      <td>0</td>\n",
              "      <td>0</td>\n",
              "      <td>0</td>\n",
              "      <td>0</td>\n",
              "      <td>0</td>\n",
              "      <td>12</td>\n",
              "      <td>Bangalore</td>\n",
              "      <td>Whitefield</td>\n",
              "    </tr>\n",
              "    <tr>\n",
              "      <th>2</th>\n",
              "      <td>100</td>\n",
              "      <td>5</td>\n",
              "      <td>300</td>\n",
              "      <td>1</td>\n",
              "      <td>0</td>\n",
              "      <td>0</td>\n",
              "      <td>0</td>\n",
              "      <td>0</td>\n",
              "      <td>0</td>\n",
              "      <td>0</td>\n",
              "      <td>0</td>\n",
              "      <td>0</td>\n",
              "      <td>0</td>\n",
              "      <td>9</td>\n",
              "      <td>Bangalore</td>\n",
              "      <td>Mathikere - BEL</td>\n",
              "    </tr>\n",
              "    <tr>\n",
              "      <th>3</th>\n",
              "      <td>100</td>\n",
              "      <td>4</td>\n",
              "      <td>250</td>\n",
              "      <td>0</td>\n",
              "      <td>0</td>\n",
              "      <td>1</td>\n",
              "      <td>0</td>\n",
              "      <td>0</td>\n",
              "      <td>0</td>\n",
              "      <td>0</td>\n",
              "      <td>0</td>\n",
              "      <td>0</td>\n",
              "      <td>0</td>\n",
              "      <td>12</td>\n",
              "      <td>Bangalore</td>\n",
              "      <td>Bannerghatta Road</td>\n",
              "    </tr>\n",
              "    <tr>\n",
              "      <th>4</th>\n",
              "      <td>100</td>\n",
              "      <td>4</td>\n",
              "      <td>250</td>\n",
              "      <td>0</td>\n",
              "      <td>0</td>\n",
              "      <td>1</td>\n",
              "      <td>0</td>\n",
              "      <td>0</td>\n",
              "      <td>0</td>\n",
              "      <td>0</td>\n",
              "      <td>0</td>\n",
              "      <td>0</td>\n",
              "      <td>0</td>\n",
              "      <td>20</td>\n",
              "      <td>Chennai</td>\n",
              "      <td>Keelkattalai</td>\n",
              "    </tr>\n",
              "  </tbody>\n",
              "</table>\n",
              "</div>"
            ],
            "text/plain": [
              "   Rating  Profile  Fees  ...  years_exp        City           Locality\n",
              "0     100        3   100  ...         24   Ernakulam           Kakkanad\n",
              "1      98        4   350  ...         12   Bangalore         Whitefield\n",
              "2     100        5   300  ...          9   Bangalore    Mathikere - BEL\n",
              "3     100        4   250  ...         12   Bangalore  Bannerghatta Road\n",
              "4     100        4   250  ...         20     Chennai       Keelkattalai\n",
              "\n",
              "[5 rows x 16 columns]"
            ]
          },
          "metadata": {
            "tags": []
          },
          "execution_count": 54
        }
      ]
    },
    {
      "cell_type": "code",
      "metadata": {
        "colab": {
          "base_uri": "https://localhost:8080/"
        },
        "id": "KZHFNZ3bDwt0",
        "outputId": "b945edb2-63e9-4973-8ff9-b4948ce970fb"
      },
      "source": [
        "print(Train_data['City'].value_counts())"
      ],
      "execution_count": 55,
      "outputs": [
        {
          "output_type": "stream",
          "text": [
            " Bangalore             1283\n",
            " Mumbai                1219\n",
            " Delhi                 1184\n",
            " Hyderabad              951\n",
            " Chennai                855\n",
            " Coimbatore             228\n",
            " Ernakulam              153\n",
            " Thiruvananthapuram      86\n",
            " Sector 5                 1\n",
            "Name: City, dtype: int64\n"
          ],
          "name": "stdout"
        }
      ]
    },
    {
      "cell_type": "code",
      "metadata": {
        "colab": {
          "base_uri": "https://localhost:8080/",
          "height": 204
        },
        "id": "Yq_ET0bnEIhV",
        "outputId": "0ab20b49-e20e-43a8-f214-c5125de8d47e"
      },
      "source": [
        "# Using OneHotEncoding to convert the City column because it is nominal Categorical data.\r\n",
        "# Converting City Column\r\n",
        "\r\n",
        "City = Train_data['City']\r\n",
        "City = pd.get_dummies(City, drop_first=True)\r\n",
        "City.head()"
      ],
      "execution_count": 56,
      "outputs": [
        {
          "output_type": "execute_result",
          "data": {
            "text/html": [
              "<div>\n",
              "<style scoped>\n",
              "    .dataframe tbody tr th:only-of-type {\n",
              "        vertical-align: middle;\n",
              "    }\n",
              "\n",
              "    .dataframe tbody tr th {\n",
              "        vertical-align: top;\n",
              "    }\n",
              "\n",
              "    .dataframe thead th {\n",
              "        text-align: right;\n",
              "    }\n",
              "</style>\n",
              "<table border=\"1\" class=\"dataframe\">\n",
              "  <thead>\n",
              "    <tr style=\"text-align: right;\">\n",
              "      <th></th>\n",
              "      <th>Chennai</th>\n",
              "      <th>Coimbatore</th>\n",
              "      <th>Delhi</th>\n",
              "      <th>Ernakulam</th>\n",
              "      <th>Hyderabad</th>\n",
              "      <th>Mumbai</th>\n",
              "      <th>Sector 5</th>\n",
              "      <th>Thiruvananthapuram</th>\n",
              "    </tr>\n",
              "  </thead>\n",
              "  <tbody>\n",
              "    <tr>\n",
              "      <th>0</th>\n",
              "      <td>0</td>\n",
              "      <td>0</td>\n",
              "      <td>0</td>\n",
              "      <td>1</td>\n",
              "      <td>0</td>\n",
              "      <td>0</td>\n",
              "      <td>0</td>\n",
              "      <td>0</td>\n",
              "    </tr>\n",
              "    <tr>\n",
              "      <th>1</th>\n",
              "      <td>0</td>\n",
              "      <td>0</td>\n",
              "      <td>0</td>\n",
              "      <td>0</td>\n",
              "      <td>0</td>\n",
              "      <td>0</td>\n",
              "      <td>0</td>\n",
              "      <td>0</td>\n",
              "    </tr>\n",
              "    <tr>\n",
              "      <th>2</th>\n",
              "      <td>0</td>\n",
              "      <td>0</td>\n",
              "      <td>0</td>\n",
              "      <td>0</td>\n",
              "      <td>0</td>\n",
              "      <td>0</td>\n",
              "      <td>0</td>\n",
              "      <td>0</td>\n",
              "    </tr>\n",
              "    <tr>\n",
              "      <th>3</th>\n",
              "      <td>0</td>\n",
              "      <td>0</td>\n",
              "      <td>0</td>\n",
              "      <td>0</td>\n",
              "      <td>0</td>\n",
              "      <td>0</td>\n",
              "      <td>0</td>\n",
              "      <td>0</td>\n",
              "    </tr>\n",
              "    <tr>\n",
              "      <th>4</th>\n",
              "      <td>1</td>\n",
              "      <td>0</td>\n",
              "      <td>0</td>\n",
              "      <td>0</td>\n",
              "      <td>0</td>\n",
              "      <td>0</td>\n",
              "      <td>0</td>\n",
              "      <td>0</td>\n",
              "    </tr>\n",
              "  </tbody>\n",
              "</table>\n",
              "</div>"
            ],
            "text/plain": [
              "    Chennai   Coimbatore   Delhi  ...   Mumbai   Sector 5   Thiruvananthapuram\n",
              "0         0            0       0  ...        0          0                    0\n",
              "1         0            0       0  ...        0          0                    0\n",
              "2         0            0       0  ...        0          0                    0\n",
              "3         0            0       0  ...        0          0                    0\n",
              "4         1            0       0  ...        0          0                    0\n",
              "\n",
              "[5 rows x 8 columns]"
            ]
          },
          "metadata": {
            "tags": []
          },
          "execution_count": 56
        }
      ]
    },
    {
      "cell_type": "code",
      "metadata": {
        "colab": {
          "base_uri": "https://localhost:8080/",
          "height": 292
        },
        "id": "v_ZQ5CXIFRG1",
        "outputId": "94f7bb94-8d37-4f4c-840b-c5a6d814205d"
      },
      "source": [
        "#Adding City column into Train Data set\r\n",
        "\r\n",
        "train=pd.concat([Train_data,City],axis=1)\r\n",
        "train.head()"
      ],
      "execution_count": 57,
      "outputs": [
        {
          "output_type": "execute_result",
          "data": {
            "text/html": [
              "<div>\n",
              "<style scoped>\n",
              "    .dataframe tbody tr th:only-of-type {\n",
              "        vertical-align: middle;\n",
              "    }\n",
              "\n",
              "    .dataframe tbody tr th {\n",
              "        vertical-align: top;\n",
              "    }\n",
              "\n",
              "    .dataframe thead th {\n",
              "        text-align: right;\n",
              "    }\n",
              "</style>\n",
              "<table border=\"1\" class=\"dataframe\">\n",
              "  <thead>\n",
              "    <tr style=\"text-align: right;\">\n",
              "      <th></th>\n",
              "      <th>Rating</th>\n",
              "      <th>Profile</th>\n",
              "      <th>Fees</th>\n",
              "      <th>MBBS</th>\n",
              "      <th>BDS</th>\n",
              "      <th>BAMS</th>\n",
              "      <th>BHMS</th>\n",
              "      <th>MD - Dermatology</th>\n",
              "      <th>MS - ENT</th>\n",
              "      <th>Venereology &amp; Leprosy</th>\n",
              "      <th>MD - General Medicine</th>\n",
              "      <th>Diploma in Otorhinolaryngology (DLO)</th>\n",
              "      <th>MD - Homeopathy</th>\n",
              "      <th>years_exp</th>\n",
              "      <th>City</th>\n",
              "      <th>Locality</th>\n",
              "      <th>Chennai</th>\n",
              "      <th>Coimbatore</th>\n",
              "      <th>Delhi</th>\n",
              "      <th>Ernakulam</th>\n",
              "      <th>Hyderabad</th>\n",
              "      <th>Mumbai</th>\n",
              "      <th>Sector 5</th>\n",
              "      <th>Thiruvananthapuram</th>\n",
              "    </tr>\n",
              "  </thead>\n",
              "  <tbody>\n",
              "    <tr>\n",
              "      <th>0</th>\n",
              "      <td>100</td>\n",
              "      <td>3</td>\n",
              "      <td>100</td>\n",
              "      <td>0</td>\n",
              "      <td>0</td>\n",
              "      <td>0</td>\n",
              "      <td>1</td>\n",
              "      <td>0</td>\n",
              "      <td>0</td>\n",
              "      <td>0</td>\n",
              "      <td>0</td>\n",
              "      <td>0</td>\n",
              "      <td>1</td>\n",
              "      <td>24</td>\n",
              "      <td>Ernakulam</td>\n",
              "      <td>Kakkanad</td>\n",
              "      <td>0</td>\n",
              "      <td>0</td>\n",
              "      <td>0</td>\n",
              "      <td>1</td>\n",
              "      <td>0</td>\n",
              "      <td>0</td>\n",
              "      <td>0</td>\n",
              "      <td>0</td>\n",
              "    </tr>\n",
              "    <tr>\n",
              "      <th>1</th>\n",
              "      <td>98</td>\n",
              "      <td>4</td>\n",
              "      <td>350</td>\n",
              "      <td>0</td>\n",
              "      <td>0</td>\n",
              "      <td>1</td>\n",
              "      <td>0</td>\n",
              "      <td>0</td>\n",
              "      <td>0</td>\n",
              "      <td>0</td>\n",
              "      <td>0</td>\n",
              "      <td>0</td>\n",
              "      <td>0</td>\n",
              "      <td>12</td>\n",
              "      <td>Bangalore</td>\n",
              "      <td>Whitefield</td>\n",
              "      <td>0</td>\n",
              "      <td>0</td>\n",
              "      <td>0</td>\n",
              "      <td>0</td>\n",
              "      <td>0</td>\n",
              "      <td>0</td>\n",
              "      <td>0</td>\n",
              "      <td>0</td>\n",
              "    </tr>\n",
              "    <tr>\n",
              "      <th>2</th>\n",
              "      <td>100</td>\n",
              "      <td>5</td>\n",
              "      <td>300</td>\n",
              "      <td>1</td>\n",
              "      <td>0</td>\n",
              "      <td>0</td>\n",
              "      <td>0</td>\n",
              "      <td>0</td>\n",
              "      <td>0</td>\n",
              "      <td>0</td>\n",
              "      <td>0</td>\n",
              "      <td>0</td>\n",
              "      <td>0</td>\n",
              "      <td>9</td>\n",
              "      <td>Bangalore</td>\n",
              "      <td>Mathikere - BEL</td>\n",
              "      <td>0</td>\n",
              "      <td>0</td>\n",
              "      <td>0</td>\n",
              "      <td>0</td>\n",
              "      <td>0</td>\n",
              "      <td>0</td>\n",
              "      <td>0</td>\n",
              "      <td>0</td>\n",
              "    </tr>\n",
              "    <tr>\n",
              "      <th>3</th>\n",
              "      <td>100</td>\n",
              "      <td>4</td>\n",
              "      <td>250</td>\n",
              "      <td>0</td>\n",
              "      <td>0</td>\n",
              "      <td>1</td>\n",
              "      <td>0</td>\n",
              "      <td>0</td>\n",
              "      <td>0</td>\n",
              "      <td>0</td>\n",
              "      <td>0</td>\n",
              "      <td>0</td>\n",
              "      <td>0</td>\n",
              "      <td>12</td>\n",
              "      <td>Bangalore</td>\n",
              "      <td>Bannerghatta Road</td>\n",
              "      <td>0</td>\n",
              "      <td>0</td>\n",
              "      <td>0</td>\n",
              "      <td>0</td>\n",
              "      <td>0</td>\n",
              "      <td>0</td>\n",
              "      <td>0</td>\n",
              "      <td>0</td>\n",
              "    </tr>\n",
              "    <tr>\n",
              "      <th>4</th>\n",
              "      <td>100</td>\n",
              "      <td>4</td>\n",
              "      <td>250</td>\n",
              "      <td>0</td>\n",
              "      <td>0</td>\n",
              "      <td>1</td>\n",
              "      <td>0</td>\n",
              "      <td>0</td>\n",
              "      <td>0</td>\n",
              "      <td>0</td>\n",
              "      <td>0</td>\n",
              "      <td>0</td>\n",
              "      <td>0</td>\n",
              "      <td>20</td>\n",
              "      <td>Chennai</td>\n",
              "      <td>Keelkattalai</td>\n",
              "      <td>1</td>\n",
              "      <td>0</td>\n",
              "      <td>0</td>\n",
              "      <td>0</td>\n",
              "      <td>0</td>\n",
              "      <td>0</td>\n",
              "      <td>0</td>\n",
              "      <td>0</td>\n",
              "    </tr>\n",
              "  </tbody>\n",
              "</table>\n",
              "</div>"
            ],
            "text/plain": [
              "   Rating  Profile  Fees  ...   Mumbai   Sector 5   Thiruvananthapuram\n",
              "0     100        3   100  ...        0          0                    0\n",
              "1      98        4   350  ...        0          0                    0\n",
              "2     100        5   300  ...        0          0                    0\n",
              "3     100        4   250  ...        0          0                    0\n",
              "4     100        4   250  ...        0          0                    0\n",
              "\n",
              "[5 rows x 24 columns]"
            ]
          },
          "metadata": {
            "tags": []
          },
          "execution_count": 57
        }
      ]
    },
    {
      "cell_type": "code",
      "metadata": {
        "colab": {
          "base_uri": "https://localhost:8080/",
          "height": 258
        },
        "id": "TdVyspx1G9AW",
        "outputId": "790c6d25-70a2-4d95-9232-287115326ded"
      },
      "source": [
        "#Now Dropping Some column that is City and Locality\r\n",
        "\r\n",
        "train.drop(['City','Locality'],axis=1, inplace=True)\r\n",
        "train.head()"
      ],
      "execution_count": 58,
      "outputs": [
        {
          "output_type": "execute_result",
          "data": {
            "text/html": [
              "<div>\n",
              "<style scoped>\n",
              "    .dataframe tbody tr th:only-of-type {\n",
              "        vertical-align: middle;\n",
              "    }\n",
              "\n",
              "    .dataframe tbody tr th {\n",
              "        vertical-align: top;\n",
              "    }\n",
              "\n",
              "    .dataframe thead th {\n",
              "        text-align: right;\n",
              "    }\n",
              "</style>\n",
              "<table border=\"1\" class=\"dataframe\">\n",
              "  <thead>\n",
              "    <tr style=\"text-align: right;\">\n",
              "      <th></th>\n",
              "      <th>Rating</th>\n",
              "      <th>Profile</th>\n",
              "      <th>Fees</th>\n",
              "      <th>MBBS</th>\n",
              "      <th>BDS</th>\n",
              "      <th>BAMS</th>\n",
              "      <th>BHMS</th>\n",
              "      <th>MD - Dermatology</th>\n",
              "      <th>MS - ENT</th>\n",
              "      <th>Venereology &amp; Leprosy</th>\n",
              "      <th>MD - General Medicine</th>\n",
              "      <th>Diploma in Otorhinolaryngology (DLO)</th>\n",
              "      <th>MD - Homeopathy</th>\n",
              "      <th>years_exp</th>\n",
              "      <th>Chennai</th>\n",
              "      <th>Coimbatore</th>\n",
              "      <th>Delhi</th>\n",
              "      <th>Ernakulam</th>\n",
              "      <th>Hyderabad</th>\n",
              "      <th>Mumbai</th>\n",
              "      <th>Sector 5</th>\n",
              "      <th>Thiruvananthapuram</th>\n",
              "    </tr>\n",
              "  </thead>\n",
              "  <tbody>\n",
              "    <tr>\n",
              "      <th>0</th>\n",
              "      <td>100</td>\n",
              "      <td>3</td>\n",
              "      <td>100</td>\n",
              "      <td>0</td>\n",
              "      <td>0</td>\n",
              "      <td>0</td>\n",
              "      <td>1</td>\n",
              "      <td>0</td>\n",
              "      <td>0</td>\n",
              "      <td>0</td>\n",
              "      <td>0</td>\n",
              "      <td>0</td>\n",
              "      <td>1</td>\n",
              "      <td>24</td>\n",
              "      <td>0</td>\n",
              "      <td>0</td>\n",
              "      <td>0</td>\n",
              "      <td>1</td>\n",
              "      <td>0</td>\n",
              "      <td>0</td>\n",
              "      <td>0</td>\n",
              "      <td>0</td>\n",
              "    </tr>\n",
              "    <tr>\n",
              "      <th>1</th>\n",
              "      <td>98</td>\n",
              "      <td>4</td>\n",
              "      <td>350</td>\n",
              "      <td>0</td>\n",
              "      <td>0</td>\n",
              "      <td>1</td>\n",
              "      <td>0</td>\n",
              "      <td>0</td>\n",
              "      <td>0</td>\n",
              "      <td>0</td>\n",
              "      <td>0</td>\n",
              "      <td>0</td>\n",
              "      <td>0</td>\n",
              "      <td>12</td>\n",
              "      <td>0</td>\n",
              "      <td>0</td>\n",
              "      <td>0</td>\n",
              "      <td>0</td>\n",
              "      <td>0</td>\n",
              "      <td>0</td>\n",
              "      <td>0</td>\n",
              "      <td>0</td>\n",
              "    </tr>\n",
              "    <tr>\n",
              "      <th>2</th>\n",
              "      <td>100</td>\n",
              "      <td>5</td>\n",
              "      <td>300</td>\n",
              "      <td>1</td>\n",
              "      <td>0</td>\n",
              "      <td>0</td>\n",
              "      <td>0</td>\n",
              "      <td>0</td>\n",
              "      <td>0</td>\n",
              "      <td>0</td>\n",
              "      <td>0</td>\n",
              "      <td>0</td>\n",
              "      <td>0</td>\n",
              "      <td>9</td>\n",
              "      <td>0</td>\n",
              "      <td>0</td>\n",
              "      <td>0</td>\n",
              "      <td>0</td>\n",
              "      <td>0</td>\n",
              "      <td>0</td>\n",
              "      <td>0</td>\n",
              "      <td>0</td>\n",
              "    </tr>\n",
              "    <tr>\n",
              "      <th>3</th>\n",
              "      <td>100</td>\n",
              "      <td>4</td>\n",
              "      <td>250</td>\n",
              "      <td>0</td>\n",
              "      <td>0</td>\n",
              "      <td>1</td>\n",
              "      <td>0</td>\n",
              "      <td>0</td>\n",
              "      <td>0</td>\n",
              "      <td>0</td>\n",
              "      <td>0</td>\n",
              "      <td>0</td>\n",
              "      <td>0</td>\n",
              "      <td>12</td>\n",
              "      <td>0</td>\n",
              "      <td>0</td>\n",
              "      <td>0</td>\n",
              "      <td>0</td>\n",
              "      <td>0</td>\n",
              "      <td>0</td>\n",
              "      <td>0</td>\n",
              "      <td>0</td>\n",
              "    </tr>\n",
              "    <tr>\n",
              "      <th>4</th>\n",
              "      <td>100</td>\n",
              "      <td>4</td>\n",
              "      <td>250</td>\n",
              "      <td>0</td>\n",
              "      <td>0</td>\n",
              "      <td>1</td>\n",
              "      <td>0</td>\n",
              "      <td>0</td>\n",
              "      <td>0</td>\n",
              "      <td>0</td>\n",
              "      <td>0</td>\n",
              "      <td>0</td>\n",
              "      <td>0</td>\n",
              "      <td>20</td>\n",
              "      <td>1</td>\n",
              "      <td>0</td>\n",
              "      <td>0</td>\n",
              "      <td>0</td>\n",
              "      <td>0</td>\n",
              "      <td>0</td>\n",
              "      <td>0</td>\n",
              "      <td>0</td>\n",
              "    </tr>\n",
              "  </tbody>\n",
              "</table>\n",
              "</div>"
            ],
            "text/plain": [
              "   Rating  Profile  Fees  ...   Mumbai   Sector 5   Thiruvananthapuram\n",
              "0     100        3   100  ...        0          0                    0\n",
              "1      98        4   350  ...        0          0                    0\n",
              "2     100        5   300  ...        0          0                    0\n",
              "3     100        4   250  ...        0          0                    0\n",
              "4     100        4   250  ...        0          0                    0\n",
              "\n",
              "[5 rows x 22 columns]"
            ]
          },
          "metadata": {
            "tags": []
          },
          "execution_count": 58
        }
      ]
    },
    {
      "cell_type": "code",
      "metadata": {
        "colab": {
          "base_uri": "https://localhost:8080/"
        },
        "id": "sZ090XTuH0m9",
        "outputId": "10b6d52d-3c2a-4e8a-acf1-26dbed8246d2"
      },
      "source": [
        "train.shape"
      ],
      "execution_count": 59,
      "outputs": [
        {
          "output_type": "execute_result",
          "data": {
            "text/plain": [
              "(5960, 22)"
            ]
          },
          "metadata": {
            "tags": []
          },
          "execution_count": 59
        }
      ]
    },
    {
      "cell_type": "code",
      "metadata": {
        "colab": {
          "base_uri": "https://localhost:8080/"
        },
        "id": "pdHqB6YyPKjM",
        "outputId": "7033d9a5-70a4-4128-e766-86e2c8c4e2ff"
      },
      "source": [
        "train.info()"
      ],
      "execution_count": 60,
      "outputs": [
        {
          "output_type": "stream",
          "text": [
            "<class 'pandas.core.frame.DataFrame'>\n",
            "Int64Index: 5960 entries, 0 to 5960\n",
            "Data columns (total 22 columns):\n",
            " #   Column                                Non-Null Count  Dtype\n",
            "---  ------                                --------------  -----\n",
            " 0   Rating                                5960 non-null   int64\n",
            " 1   Profile                               5960 non-null   int64\n",
            " 2   Fees                                  5960 non-null   int64\n",
            " 3   MBBS                                  5960 non-null   int64\n",
            " 4   BDS                                   5960 non-null   int64\n",
            " 5   BAMS                                  5960 non-null   int64\n",
            " 6   BHMS                                  5960 non-null   int64\n",
            " 7   MD - Dermatology                      5960 non-null   int64\n",
            " 8   MS - ENT                              5960 non-null   int64\n",
            " 9   Venereology & Leprosy                 5960 non-null   int64\n",
            " 10  MD - General Medicine                 5960 non-null   int64\n",
            " 11  Diploma in Otorhinolaryngology (DLO)  5960 non-null   int64\n",
            " 12  MD - Homeopathy                       5960 non-null   int64\n",
            " 13  years_exp                             5960 non-null   int64\n",
            " 14   Chennai                              5960 non-null   uint8\n",
            " 15   Coimbatore                           5960 non-null   uint8\n",
            " 16   Delhi                                5960 non-null   uint8\n",
            " 17   Ernakulam                            5960 non-null   uint8\n",
            " 18   Hyderabad                            5960 non-null   uint8\n",
            " 19   Mumbai                               5960 non-null   uint8\n",
            " 20   Sector 5                             5960 non-null   uint8\n",
            " 21   Thiruvananthapuram                   5960 non-null   uint8\n",
            "dtypes: int64(14), uint8(8)\n",
            "memory usage: 745.0 KB\n"
          ],
          "name": "stdout"
        }
      ]
    },
    {
      "cell_type": "markdown",
      "metadata": {
        "id": "-zn8uhLtH68v"
      },
      "source": [
        "**Now all the Train dataset columns change into numeric data type. now same steps are follow in test data**"
      ]
    },
    {
      "cell_type": "markdown",
      "metadata": {
        "id": "ZGDafabGIOCq"
      },
      "source": [
        "# **Test Data**"
      ]
    },
    {
      "cell_type": "code",
      "metadata": {
        "colab": {
          "base_uri": "https://localhost:8080/",
          "height": 204
        },
        "id": "NVf6ps7oIeCm",
        "outputId": "13a58c93-fe42-4681-ba55-05b555b8eff9"
      },
      "source": [
        "Test_data.head()"
      ],
      "execution_count": 61,
      "outputs": [
        {
          "output_type": "execute_result",
          "data": {
            "text/html": [
              "<div>\n",
              "<style scoped>\n",
              "    .dataframe tbody tr th:only-of-type {\n",
              "        vertical-align: middle;\n",
              "    }\n",
              "\n",
              "    .dataframe tbody tr th {\n",
              "        vertical-align: top;\n",
              "    }\n",
              "\n",
              "    .dataframe thead th {\n",
              "        text-align: right;\n",
              "    }\n",
              "</style>\n",
              "<table border=\"1\" class=\"dataframe\">\n",
              "  <thead>\n",
              "    <tr style=\"text-align: right;\">\n",
              "      <th></th>\n",
              "      <th>Qualification</th>\n",
              "      <th>Experience</th>\n",
              "      <th>Rating</th>\n",
              "      <th>Place</th>\n",
              "      <th>Profile</th>\n",
              "      <th>Miscellaneous_Info</th>\n",
              "    </tr>\n",
              "  </thead>\n",
              "  <tbody>\n",
              "    <tr>\n",
              "      <th>0</th>\n",
              "      <td>MBBS</td>\n",
              "      <td>35 years experience</td>\n",
              "      <td>NaN</td>\n",
              "      <td>Ghatkopar East, Mumbai</td>\n",
              "      <td>General Medicine</td>\n",
              "      <td>NaN</td>\n",
              "    </tr>\n",
              "    <tr>\n",
              "      <th>1</th>\n",
              "      <td>MBBS, Diploma in Otorhinolaryngology (DLO)</td>\n",
              "      <td>31 years experience</td>\n",
              "      <td>NaN</td>\n",
              "      <td>West Marredpally, Hyderabad</td>\n",
              "      <td>ENT Specialist</td>\n",
              "      <td>NaN</td>\n",
              "    </tr>\n",
              "    <tr>\n",
              "      <th>2</th>\n",
              "      <td>MBBS, DDVL</td>\n",
              "      <td>40 years experience</td>\n",
              "      <td>70%</td>\n",
              "      <td>KK Nagar, Chennai</td>\n",
              "      <td>Dermatologists</td>\n",
              "      <td>70% 4 Feedback KK Nagar, Chennai</td>\n",
              "    </tr>\n",
              "    <tr>\n",
              "      <th>3</th>\n",
              "      <td>BAMS</td>\n",
              "      <td>0 years experience</td>\n",
              "      <td>NaN</td>\n",
              "      <td>New Ashok Nagar, Delhi</td>\n",
              "      <td>Ayurveda</td>\n",
              "      <td>NaN</td>\n",
              "    </tr>\n",
              "    <tr>\n",
              "      <th>4</th>\n",
              "      <td>BDS, MDS - Conservative Dentistry &amp; Endodontics</td>\n",
              "      <td>16 years experience</td>\n",
              "      <td>100%</td>\n",
              "      <td>Kanakpura Road, Bangalore</td>\n",
              "      <td>Dentist</td>\n",
              "      <td>General Dentistry Conservative Dentistry Cosme...</td>\n",
              "    </tr>\n",
              "  </tbody>\n",
              "</table>\n",
              "</div>"
            ],
            "text/plain": [
              "                                     Qualification  ...                                 Miscellaneous_Info\n",
              "0                                             MBBS  ...                                                NaN\n",
              "1       MBBS, Diploma in Otorhinolaryngology (DLO)  ...                                                NaN\n",
              "2                                       MBBS, DDVL  ...                   70% 4 Feedback KK Nagar, Chennai\n",
              "3                                             BAMS  ...                                                NaN\n",
              "4  BDS, MDS - Conservative Dentistry & Endodontics  ...  General Dentistry Conservative Dentistry Cosme...\n",
              "\n",
              "[5 rows x 6 columns]"
            ]
          },
          "metadata": {
            "tags": []
          },
          "execution_count": 61
        }
      ]
    },
    {
      "cell_type": "markdown",
      "metadata": {
        "id": "701b9VY3I6Pm"
      },
      "source": [
        "**Now we copy the same steps for test data in one cell.**"
      ]
    },
    {
      "cell_type": "code",
      "metadata": {
        "colab": {
          "base_uri": "https://localhost:8080/"
        },
        "id": "aYP3AdF-IhTZ",
        "outputId": "9c1c3b11-ed0e-4aac-f705-dd2e11178c5c"
      },
      "source": [
        "# Preprocessing\r\n",
        "\r\n",
        "print('Test data Info')\r\n",
        "print(\"*\"*85)\r\n",
        "print(Test_data.info())\r\n",
        "\r\n",
        "\r\n",
        "\r\n",
        "#Checking the shape of Test data\r\n",
        "Test_data.shape\r\n",
        "\r\n",
        "\r\n",
        "#Checking the columns of Test data\r\n",
        "Test_data.columns\r\n",
        "\r\n",
        "\r\n",
        "\r\n",
        "#Checking  for  anynull values\r\n",
        "Test_data.isnull().values.any()\r\n",
        "\r\n",
        "\r\n",
        "\r\n",
        "#checking for null values in columns\r\n",
        "Test_data.isnull().sum()\r\n",
        "\r\n",
        "\r\n",
        "\r\n",
        "#Dropping Miscellaneous_Info column as it has no use\r\n",
        "Test_data.drop('Miscellaneous_Info',axis=1,inplace=True)\r\n",
        "\r\n",
        "\r\n",
        "#Imputing the missing value with mode\r\n",
        "for col in ['Rating','Place']:\r\n",
        "  Test_data[col].fillna(Test_data[col].mode()[0],inplace=True)\r\n",
        "\r\n",
        "\r\n",
        "\r\n",
        "\r\n",
        "#now again check for missing values\r\n",
        "Test_data.isnull().values.any()\r\n",
        "\r\n",
        "\r\n",
        "\r\n",
        "#checking the unique value in the Qualification data column.\r\n",
        "Test_data['Qualification'].unique()\r\n",
        "\r\n",
        "Test_data['Qualification_count'] = Test_data['Qualification'].apply(lambda x: len(x.split(\",\")))\r\n",
        "\r\n",
        "Test_data['Qualification_count'].value_counts()\r\n",
        "\r\n",
        "\r\n",
        "\r\n",
        "# Extract relevant qualification\r\n",
        "# DICT of qualification with there counts\r\n",
        "Test_data[\"Qualification\"]=Test_data[\"Qualification\"].str.split(\",\")\r\n",
        "Qualification ={}\r\n",
        "for x in Test_data[\"Qualification\"].values:\r\n",
        "    for each in x:\r\n",
        "        each = each.strip()\r\n",
        "        if each in Qualification:\r\n",
        "            Qualification[each]+=1\r\n",
        "        else:\r\n",
        "            Qualification[each]=1\r\n",
        "\r\n",
        "\r\n",
        "#Extract top 10 qual\r\n",
        "most_qual = sorted(Qualification.items(),key=lambda x:x[1],reverse=True)[:10]\r\n",
        "final_qual = []\r\n",
        "for qual in most_qual:\r\n",
        "    final_qual.append(qual[0])\r\n",
        "    \r\n",
        "print(final_qual) \r\n",
        "\r\n",
        "\r\n",
        "\r\n",
        "#Encode extracted top 10 qualification into Test dataset as new column.\r\n",
        "for qual in final_qual:\r\n",
        "    Test_data[qual] = 0\r\n",
        "\r\n",
        "for x,y in zip(Test_data['Qualification'].values, np.array([i for i in range(len(Test_data))])):\r\n",
        "    for c in x:\r\n",
        "        c = c.strip()\r\n",
        "        if c in final_qual:\r\n",
        "            Test_data[c][y] = 1   \r\n",
        "\r\n",
        "\r\n",
        "\r\n",
        "# Now we can drop the extra qualification which we added \r\n",
        "Test_data.drop(['Qualification','Qualification_count'],axis=1,inplace=True)\r\n",
        "\r\n",
        "\r\n",
        "# Experience\r\n",
        "Test_data['years_exp'] = Test_data['Experience'].str.slice(stop=2).astype(int)\r\n",
        "\r\n",
        "#Dropping Experience column as we already assign a new cloumn for experience i.e. years_exp\r\n",
        "Test_data.drop('Experience',axis=1,inplace=True)\r\n",
        "\r\n",
        "\r\n",
        "\r\n",
        "#convert Rating column from string tpe to int type\r\n",
        "Test_data['Rating'] = Test_data['Rating'].str.slice(stop=-1).astype(int)\r\n",
        "\r\n",
        "#Separate City and Locality in Place column\r\n",
        "\r\n",
        "Test_data['City'] = Test_data['Place'].str.split(',').str[1]\r\n",
        "Test_data['Locality'] = Test_data['Place'].str.split(',').str[0]\r\n",
        "\r\n",
        "\r\n",
        "\r\n",
        "#Now we can drop the place variable\r\n",
        "Test_data.drop('Place',axis=1,inplace=True)\r\n",
        "\r\n",
        "\r\n",
        "#Dropping the null values presnt in City column\r\n",
        "Test_data.dropna(inplace=True)\r\n",
        "\r\n",
        "\r\n",
        "#Now we have to convert Profile\r\n",
        "Test_data.replace({'Dentist':0, 'General Medicine':1, 'Dermatologists':2, 'Homeopath':3, 'Ayurveda':4, 'ENT Specialist':5},inplace=True)\r\n",
        "\r\n",
        "\r\n",
        "# Using OneHotEncoding to convert the City column because it is nominal Categorical data.\r\n",
        "# Converting City Column\r\n",
        "\r\n",
        "City = Test_data['City']\r\n",
        "City = pd.get_dummies(City, drop_first=True)\r\n",
        "City.head()\r\n",
        "\r\n",
        "\r\n",
        "\r\n",
        "#Adding City column into Test Data set\r\n",
        "\r\n",
        "test=pd.concat([Test_data,City],axis=1)\r\n",
        "\r\n",
        "\r\n",
        "#Now Dropping Some column that is City and Locality\r\n",
        "\r\n",
        "test.drop(['City','Locality'],axis=1, inplace=True)\r\n",
        "\r\n",
        "\r\n"
      ],
      "execution_count": 62,
      "outputs": [
        {
          "output_type": "stream",
          "text": [
            "Test data Info\n",
            "*************************************************************************************\n",
            "<class 'pandas.core.frame.DataFrame'>\n",
            "RangeIndex: 1987 entries, 0 to 1986\n",
            "Data columns (total 6 columns):\n",
            " #   Column              Non-Null Count  Dtype \n",
            "---  ------              --------------  ----- \n",
            " 0   Qualification       1987 non-null   object\n",
            " 1   Experience          1987 non-null   object\n",
            " 2   Rating              897 non-null    object\n",
            " 3   Place               1981 non-null   object\n",
            " 4   Profile             1987 non-null   object\n",
            " 5   Miscellaneous_Info  1153 non-null   object\n",
            "dtypes: object(6)\n",
            "memory usage: 93.3+ KB\n",
            "None\n",
            "['MBBS', 'BDS', 'BHMS', 'BAMS', 'MD - Dermatology', 'MS - ENT', 'MD - General Medicine', 'Venereology & Leprosy', 'Diploma in Otorhinolaryngology (DLO)', 'DDVL']\n"
          ],
          "name": "stdout"
        }
      ]
    },
    {
      "cell_type": "code",
      "metadata": {
        "id": "qJxGjilyNMD9",
        "colab": {
          "base_uri": "https://localhost:8080/",
          "height": 258
        },
        "outputId": "b68390c2-9373-490e-8bab-5f304545ac5a"
      },
      "source": [
        "test.head()"
      ],
      "execution_count": 63,
      "outputs": [
        {
          "output_type": "execute_result",
          "data": {
            "text/html": [
              "<div>\n",
              "<style scoped>\n",
              "    .dataframe tbody tr th:only-of-type {\n",
              "        vertical-align: middle;\n",
              "    }\n",
              "\n",
              "    .dataframe tbody tr th {\n",
              "        vertical-align: top;\n",
              "    }\n",
              "\n",
              "    .dataframe thead th {\n",
              "        text-align: right;\n",
              "    }\n",
              "</style>\n",
              "<table border=\"1\" class=\"dataframe\">\n",
              "  <thead>\n",
              "    <tr style=\"text-align: right;\">\n",
              "      <th></th>\n",
              "      <th>Rating</th>\n",
              "      <th>Profile</th>\n",
              "      <th>MBBS</th>\n",
              "      <th>BDS</th>\n",
              "      <th>BHMS</th>\n",
              "      <th>BAMS</th>\n",
              "      <th>MD - Dermatology</th>\n",
              "      <th>MS - ENT</th>\n",
              "      <th>MD - General Medicine</th>\n",
              "      <th>Venereology &amp; Leprosy</th>\n",
              "      <th>Diploma in Otorhinolaryngology (DLO)</th>\n",
              "      <th>DDVL</th>\n",
              "      <th>years_exp</th>\n",
              "      <th>Chennai</th>\n",
              "      <th>Coimbatore</th>\n",
              "      <th>Delhi</th>\n",
              "      <th>Ernakulam</th>\n",
              "      <th>Hyderabad</th>\n",
              "      <th>Mumbai</th>\n",
              "      <th>Thiruvananthapuram</th>\n",
              "    </tr>\n",
              "  </thead>\n",
              "  <tbody>\n",
              "    <tr>\n",
              "      <th>0</th>\n",
              "      <td>100</td>\n",
              "      <td>1</td>\n",
              "      <td>1</td>\n",
              "      <td>0</td>\n",
              "      <td>0</td>\n",
              "      <td>0</td>\n",
              "      <td>0</td>\n",
              "      <td>0</td>\n",
              "      <td>0</td>\n",
              "      <td>0</td>\n",
              "      <td>0</td>\n",
              "      <td>0</td>\n",
              "      <td>35</td>\n",
              "      <td>0</td>\n",
              "      <td>0</td>\n",
              "      <td>0</td>\n",
              "      <td>0</td>\n",
              "      <td>0</td>\n",
              "      <td>1</td>\n",
              "      <td>0</td>\n",
              "    </tr>\n",
              "    <tr>\n",
              "      <th>1</th>\n",
              "      <td>100</td>\n",
              "      <td>5</td>\n",
              "      <td>1</td>\n",
              "      <td>0</td>\n",
              "      <td>0</td>\n",
              "      <td>0</td>\n",
              "      <td>0</td>\n",
              "      <td>0</td>\n",
              "      <td>0</td>\n",
              "      <td>0</td>\n",
              "      <td>1</td>\n",
              "      <td>0</td>\n",
              "      <td>31</td>\n",
              "      <td>0</td>\n",
              "      <td>0</td>\n",
              "      <td>0</td>\n",
              "      <td>0</td>\n",
              "      <td>1</td>\n",
              "      <td>0</td>\n",
              "      <td>0</td>\n",
              "    </tr>\n",
              "    <tr>\n",
              "      <th>2</th>\n",
              "      <td>70</td>\n",
              "      <td>2</td>\n",
              "      <td>1</td>\n",
              "      <td>0</td>\n",
              "      <td>0</td>\n",
              "      <td>0</td>\n",
              "      <td>0</td>\n",
              "      <td>0</td>\n",
              "      <td>0</td>\n",
              "      <td>0</td>\n",
              "      <td>0</td>\n",
              "      <td>1</td>\n",
              "      <td>40</td>\n",
              "      <td>1</td>\n",
              "      <td>0</td>\n",
              "      <td>0</td>\n",
              "      <td>0</td>\n",
              "      <td>0</td>\n",
              "      <td>0</td>\n",
              "      <td>0</td>\n",
              "    </tr>\n",
              "    <tr>\n",
              "      <th>3</th>\n",
              "      <td>100</td>\n",
              "      <td>4</td>\n",
              "      <td>0</td>\n",
              "      <td>0</td>\n",
              "      <td>0</td>\n",
              "      <td>1</td>\n",
              "      <td>0</td>\n",
              "      <td>0</td>\n",
              "      <td>0</td>\n",
              "      <td>0</td>\n",
              "      <td>0</td>\n",
              "      <td>0</td>\n",
              "      <td>0</td>\n",
              "      <td>0</td>\n",
              "      <td>0</td>\n",
              "      <td>1</td>\n",
              "      <td>0</td>\n",
              "      <td>0</td>\n",
              "      <td>0</td>\n",
              "      <td>0</td>\n",
              "    </tr>\n",
              "    <tr>\n",
              "      <th>4</th>\n",
              "      <td>100</td>\n",
              "      <td>0</td>\n",
              "      <td>0</td>\n",
              "      <td>1</td>\n",
              "      <td>0</td>\n",
              "      <td>0</td>\n",
              "      <td>0</td>\n",
              "      <td>0</td>\n",
              "      <td>0</td>\n",
              "      <td>0</td>\n",
              "      <td>0</td>\n",
              "      <td>0</td>\n",
              "      <td>16</td>\n",
              "      <td>0</td>\n",
              "      <td>0</td>\n",
              "      <td>0</td>\n",
              "      <td>0</td>\n",
              "      <td>0</td>\n",
              "      <td>0</td>\n",
              "      <td>0</td>\n",
              "    </tr>\n",
              "  </tbody>\n",
              "</table>\n",
              "</div>"
            ],
            "text/plain": [
              "   Rating  Profile  MBBS  ...   Hyderabad   Mumbai   Thiruvananthapuram\n",
              "0     100        1     1  ...           0        1                    0\n",
              "1     100        5     1  ...           1        0                    0\n",
              "2      70        2     1  ...           0        0                    0\n",
              "3     100        4     0  ...           0        0                    0\n",
              "4     100        0     0  ...           0        0                    0\n",
              "\n",
              "[5 rows x 20 columns]"
            ]
          },
          "metadata": {
            "tags": []
          },
          "execution_count": 63
        }
      ]
    },
    {
      "cell_type": "code",
      "metadata": {
        "colab": {
          "base_uri": "https://localhost:8080/"
        },
        "id": "GOGXDDsiRImP",
        "outputId": "70f01f06-51f4-45bf-c225-1f549d8a1443"
      },
      "source": [
        "test.shape"
      ],
      "execution_count": 64,
      "outputs": [
        {
          "output_type": "execute_result",
          "data": {
            "text/plain": [
              "(1987, 20)"
            ]
          },
          "metadata": {
            "tags": []
          },
          "execution_count": 64
        }
      ]
    },
    {
      "cell_type": "code",
      "metadata": {
        "id": "tRjMKTVtUpyn"
      },
      "source": [
        ""
      ],
      "execution_count": 64,
      "outputs": []
    },
    {
      "cell_type": "markdown",
      "metadata": {
        "id": "AgEMWIg-6FoC"
      },
      "source": [
        "**Summary Statistics**"
      ]
    },
    {
      "cell_type": "code",
      "metadata": {
        "colab": {
          "base_uri": "https://localhost:8080/",
          "height": 351
        },
        "id": "tgr2MLxX6Jkn",
        "outputId": "7fde6752-67de-48f7-f521-1aff8bc19067"
      },
      "source": [
        "Train_data.describe()"
      ],
      "execution_count": 65,
      "outputs": [
        {
          "output_type": "execute_result",
          "data": {
            "text/html": [
              "<div>\n",
              "<style scoped>\n",
              "    .dataframe tbody tr th:only-of-type {\n",
              "        vertical-align: middle;\n",
              "    }\n",
              "\n",
              "    .dataframe tbody tr th {\n",
              "        vertical-align: top;\n",
              "    }\n",
              "\n",
              "    .dataframe thead th {\n",
              "        text-align: right;\n",
              "    }\n",
              "</style>\n",
              "<table border=\"1\" class=\"dataframe\">\n",
              "  <thead>\n",
              "    <tr style=\"text-align: right;\">\n",
              "      <th></th>\n",
              "      <th>Rating</th>\n",
              "      <th>Profile</th>\n",
              "      <th>Fees</th>\n",
              "      <th>MBBS</th>\n",
              "      <th>BDS</th>\n",
              "      <th>BAMS</th>\n",
              "      <th>BHMS</th>\n",
              "      <th>MD - Dermatology</th>\n",
              "      <th>MS - ENT</th>\n",
              "      <th>Venereology &amp; Leprosy</th>\n",
              "      <th>MD - General Medicine</th>\n",
              "      <th>Diploma in Otorhinolaryngology (DLO)</th>\n",
              "      <th>MD - Homeopathy</th>\n",
              "      <th>years_exp</th>\n",
              "    </tr>\n",
              "  </thead>\n",
              "  <tbody>\n",
              "    <tr>\n",
              "      <th>count</th>\n",
              "      <td>5960.000000</td>\n",
              "      <td>5960.000000</td>\n",
              "      <td>5960.000000</td>\n",
              "      <td>5960.000000</td>\n",
              "      <td>5960.000000</td>\n",
              "      <td>5960.000000</td>\n",
              "      <td>5960.000000</td>\n",
              "      <td>5960.000000</td>\n",
              "      <td>5960.000000</td>\n",
              "      <td>5960.000000</td>\n",
              "      <td>5960.000000</td>\n",
              "      <td>5960.000000</td>\n",
              "      <td>5960.000000</td>\n",
              "      <td>5960.000000</td>\n",
              "    </tr>\n",
              "    <tr>\n",
              "      <th>mean</th>\n",
              "      <td>97.610235</td>\n",
              "      <td>2.106376</td>\n",
              "      <td>307.954362</td>\n",
              "      <td>0.470638</td>\n",
              "      <td>0.228356</td>\n",
              "      <td>0.127852</td>\n",
              "      <td>0.125503</td>\n",
              "      <td>0.101510</td>\n",
              "      <td>0.068960</td>\n",
              "      <td>0.049161</td>\n",
              "      <td>0.047819</td>\n",
              "      <td>0.041779</td>\n",
              "      <td>0.030369</td>\n",
              "      <td>17.303020</td>\n",
              "    </tr>\n",
              "    <tr>\n",
              "      <th>std</th>\n",
              "      <td>5.881951</td>\n",
              "      <td>1.700348</td>\n",
              "      <td>190.934916</td>\n",
              "      <td>0.499179</td>\n",
              "      <td>0.419808</td>\n",
              "      <td>0.333953</td>\n",
              "      <td>0.331317</td>\n",
              "      <td>0.302028</td>\n",
              "      <td>0.253407</td>\n",
              "      <td>0.216222</td>\n",
              "      <td>0.213401</td>\n",
              "      <td>0.200099</td>\n",
              "      <td>0.171615</td>\n",
              "      <td>11.143489</td>\n",
              "    </tr>\n",
              "    <tr>\n",
              "      <th>min</th>\n",
              "      <td>7.000000</td>\n",
              "      <td>0.000000</td>\n",
              "      <td>5.000000</td>\n",
              "      <td>0.000000</td>\n",
              "      <td>0.000000</td>\n",
              "      <td>0.000000</td>\n",
              "      <td>0.000000</td>\n",
              "      <td>0.000000</td>\n",
              "      <td>0.000000</td>\n",
              "      <td>0.000000</td>\n",
              "      <td>0.000000</td>\n",
              "      <td>0.000000</td>\n",
              "      <td>0.000000</td>\n",
              "      <td>0.000000</td>\n",
              "    </tr>\n",
              "    <tr>\n",
              "      <th>25%</th>\n",
              "      <td>98.000000</td>\n",
              "      <td>1.000000</td>\n",
              "      <td>150.000000</td>\n",
              "      <td>0.000000</td>\n",
              "      <td>0.000000</td>\n",
              "      <td>0.000000</td>\n",
              "      <td>0.000000</td>\n",
              "      <td>0.000000</td>\n",
              "      <td>0.000000</td>\n",
              "      <td>0.000000</td>\n",
              "      <td>0.000000</td>\n",
              "      <td>0.000000</td>\n",
              "      <td>0.000000</td>\n",
              "      <td>9.000000</td>\n",
              "    </tr>\n",
              "    <tr>\n",
              "      <th>50%</th>\n",
              "      <td>100.000000</td>\n",
              "      <td>2.000000</td>\n",
              "      <td>300.000000</td>\n",
              "      <td>0.000000</td>\n",
              "      <td>0.000000</td>\n",
              "      <td>0.000000</td>\n",
              "      <td>0.000000</td>\n",
              "      <td>0.000000</td>\n",
              "      <td>0.000000</td>\n",
              "      <td>0.000000</td>\n",
              "      <td>0.000000</td>\n",
              "      <td>0.000000</td>\n",
              "      <td>0.000000</td>\n",
              "      <td>14.000000</td>\n",
              "    </tr>\n",
              "    <tr>\n",
              "      <th>75%</th>\n",
              "      <td>100.000000</td>\n",
              "      <td>4.000000</td>\n",
              "      <td>500.000000</td>\n",
              "      <td>1.000000</td>\n",
              "      <td>0.000000</td>\n",
              "      <td>0.000000</td>\n",
              "      <td>0.000000</td>\n",
              "      <td>0.000000</td>\n",
              "      <td>0.000000</td>\n",
              "      <td>0.000000</td>\n",
              "      <td>0.000000</td>\n",
              "      <td>0.000000</td>\n",
              "      <td>0.000000</td>\n",
              "      <td>23.000000</td>\n",
              "    </tr>\n",
              "    <tr>\n",
              "      <th>max</th>\n",
              "      <td>100.000000</td>\n",
              "      <td>5.000000</td>\n",
              "      <td>950.000000</td>\n",
              "      <td>1.000000</td>\n",
              "      <td>1.000000</td>\n",
              "      <td>1.000000</td>\n",
              "      <td>1.000000</td>\n",
              "      <td>1.000000</td>\n",
              "      <td>1.000000</td>\n",
              "      <td>1.000000</td>\n",
              "      <td>1.000000</td>\n",
              "      <td>1.000000</td>\n",
              "      <td>1.000000</td>\n",
              "      <td>66.000000</td>\n",
              "    </tr>\n",
              "  </tbody>\n",
              "</table>\n",
              "</div>"
            ],
            "text/plain": [
              "            Rating      Profile  ...  MD - Homeopathy    years_exp\n",
              "count  5960.000000  5960.000000  ...      5960.000000  5960.000000\n",
              "mean     97.610235     2.106376  ...         0.030369    17.303020\n",
              "std       5.881951     1.700348  ...         0.171615    11.143489\n",
              "min       7.000000     0.000000  ...         0.000000     0.000000\n",
              "25%      98.000000     1.000000  ...         0.000000     9.000000\n",
              "50%     100.000000     2.000000  ...         0.000000    14.000000\n",
              "75%     100.000000     4.000000  ...         0.000000    23.000000\n",
              "max     100.000000     5.000000  ...         1.000000    66.000000\n",
              "\n",
              "[8 rows x 14 columns]"
            ]
          },
          "metadata": {
            "tags": []
          },
          "execution_count": 65
        }
      ]
    },
    {
      "cell_type": "markdown",
      "metadata": {
        "id": "G4e3dioZ6cpo"
      },
      "source": [
        "Observation:\r\n",
        "\r\n",
        "1-Maximum Rating  is 100 % and minimum is 7%.\r\n",
        "\r\n",
        "2-maximum Experiece is 66 years and minimum income is zero years.\r\n",
        "\r\n",
        "3-For years_exp ,mean is greater than median therefore data is right skewed for this attribute.\r\n",
        "\r\n",
        "4-For Ratings median is grater than mean therefore data is left skewed for this attribute.\r\n",
        "\r\n",
        "5- The difference b/w 75% and maximum is higher in years_exp column.therefore, outliers are present in this column."
      ]
    },
    {
      "cell_type": "markdown",
      "metadata": {
        "id": "uOX8EwMe2A7_"
      },
      "source": [
        "**To Check the Correlation**"
      ]
    },
    {
      "cell_type": "code",
      "metadata": {
        "colab": {
          "base_uri": "https://localhost:8080/",
          "height": 605
        },
        "id": "S95zSDuj2sZ7",
        "outputId": "1633d69c-1e35-4064-9785-fbb88d01998b"
      },
      "source": [
        "Train_cor=Train_data.corr()\r\n",
        "Train_cor"
      ],
      "execution_count": 66,
      "outputs": [
        {
          "output_type": "execute_result",
          "data": {
            "text/html": [
              "<div>\n",
              "<style scoped>\n",
              "    .dataframe tbody tr th:only-of-type {\n",
              "        vertical-align: middle;\n",
              "    }\n",
              "\n",
              "    .dataframe tbody tr th {\n",
              "        vertical-align: top;\n",
              "    }\n",
              "\n",
              "    .dataframe thead th {\n",
              "        text-align: right;\n",
              "    }\n",
              "</style>\n",
              "<table border=\"1\" class=\"dataframe\">\n",
              "  <thead>\n",
              "    <tr style=\"text-align: right;\">\n",
              "      <th></th>\n",
              "      <th>Rating</th>\n",
              "      <th>Profile</th>\n",
              "      <th>Fees</th>\n",
              "      <th>MBBS</th>\n",
              "      <th>BDS</th>\n",
              "      <th>BAMS</th>\n",
              "      <th>BHMS</th>\n",
              "      <th>MD - Dermatology</th>\n",
              "      <th>MS - ENT</th>\n",
              "      <th>Venereology &amp; Leprosy</th>\n",
              "      <th>MD - General Medicine</th>\n",
              "      <th>Diploma in Otorhinolaryngology (DLO)</th>\n",
              "      <th>MD - Homeopathy</th>\n",
              "      <th>years_exp</th>\n",
              "    </tr>\n",
              "  </thead>\n",
              "  <tbody>\n",
              "    <tr>\n",
              "      <th>Rating</th>\n",
              "      <td>1.000000</td>\n",
              "      <td>-0.052735</td>\n",
              "      <td>-0.154696</td>\n",
              "      <td>-0.216370</td>\n",
              "      <td>0.086477</td>\n",
              "      <td>0.100041</td>\n",
              "      <td>0.097870</td>\n",
              "      <td>-0.105249</td>\n",
              "      <td>-0.150507</td>\n",
              "      <td>-0.018578</td>\n",
              "      <td>-0.067103</td>\n",
              "      <td>-0.070855</td>\n",
              "      <td>0.022368</td>\n",
              "      <td>-0.149635</td>\n",
              "    </tr>\n",
              "    <tr>\n",
              "      <th>Profile</th>\n",
              "      <td>-0.052735</td>\n",
              "      <td>1.000000</td>\n",
              "      <td>0.129978</td>\n",
              "      <td>0.127646</td>\n",
              "      <td>-0.673957</td>\n",
              "      <td>0.424365</td>\n",
              "      <td>0.198221</td>\n",
              "      <td>-0.020703</td>\n",
              "      <td>0.455396</td>\n",
              "      <td>-0.013314</td>\n",
              "      <td>-0.138891</td>\n",
              "      <td>0.328246</td>\n",
              "      <td>0.093018</td>\n",
              "      <td>0.038392</td>\n",
              "    </tr>\n",
              "    <tr>\n",
              "      <th>Fees</th>\n",
              "      <td>-0.154696</td>\n",
              "      <td>0.129978</td>\n",
              "      <td>1.000000</td>\n",
              "      <td>0.271012</td>\n",
              "      <td>-0.198599</td>\n",
              "      <td>-0.139913</td>\n",
              "      <td>-0.002443</td>\n",
              "      <td>0.163797</td>\n",
              "      <td>0.128401</td>\n",
              "      <td>0.113081</td>\n",
              "      <td>0.040910</td>\n",
              "      <td>0.011549</td>\n",
              "      <td>0.018592</td>\n",
              "      <td>0.002143</td>\n",
              "    </tr>\n",
              "    <tr>\n",
              "      <th>MBBS</th>\n",
              "      <td>-0.216370</td>\n",
              "      <td>0.127646</td>\n",
              "      <td>0.271012</td>\n",
              "      <td>1.000000</td>\n",
              "      <td>-0.512136</td>\n",
              "      <td>-0.359002</td>\n",
              "      <td>-0.355174</td>\n",
              "      <td>0.314180</td>\n",
              "      <td>0.263427</td>\n",
              "      <td>0.213166</td>\n",
              "      <td>0.220340</td>\n",
              "      <td>0.206330</td>\n",
              "      <td>-0.164912</td>\n",
              "      <td>0.271454</td>\n",
              "    </tr>\n",
              "    <tr>\n",
              "      <th>BDS</th>\n",
              "      <td>0.086477</td>\n",
              "      <td>-0.673957</td>\n",
              "      <td>-0.198599</td>\n",
              "      <td>-0.512136</td>\n",
              "      <td>1.000000</td>\n",
              "      <td>-0.208284</td>\n",
              "      <td>-0.206085</td>\n",
              "      <td>-0.182850</td>\n",
              "      <td>-0.148051</td>\n",
              "      <td>-0.123696</td>\n",
              "      <td>-0.121909</td>\n",
              "      <td>-0.113590</td>\n",
              "      <td>-0.096274</td>\n",
              "      <td>-0.196485</td>\n",
              "    </tr>\n",
              "    <tr>\n",
              "      <th>BAMS</th>\n",
              "      <td>0.100041</td>\n",
              "      <td>0.424365</td>\n",
              "      <td>-0.139913</td>\n",
              "      <td>-0.359002</td>\n",
              "      <td>-0.208284</td>\n",
              "      <td>1.000000</td>\n",
              "      <td>-0.145047</td>\n",
              "      <td>-0.128694</td>\n",
              "      <td>-0.104201</td>\n",
              "      <td>-0.087060</td>\n",
              "      <td>-0.078738</td>\n",
              "      <td>-0.079947</td>\n",
              "      <td>-0.067760</td>\n",
              "      <td>-0.047119</td>\n",
              "    </tr>\n",
              "    <tr>\n",
              "      <th>BHMS</th>\n",
              "      <td>0.097870</td>\n",
              "      <td>0.198221</td>\n",
              "      <td>-0.002443</td>\n",
              "      <td>-0.355174</td>\n",
              "      <td>-0.206085</td>\n",
              "      <td>-0.145047</td>\n",
              "      <td>1.000000</td>\n",
              "      <td>-0.127335</td>\n",
              "      <td>-0.103101</td>\n",
              "      <td>-0.086140</td>\n",
              "      <td>-0.077776</td>\n",
              "      <td>-0.079103</td>\n",
              "      <td>0.349103</td>\n",
              "      <td>-0.114162</td>\n",
              "    </tr>\n",
              "    <tr>\n",
              "      <th>MD - Dermatology</th>\n",
              "      <td>-0.105249</td>\n",
              "      <td>-0.020703</td>\n",
              "      <td>0.163797</td>\n",
              "      <td>0.314180</td>\n",
              "      <td>-0.182850</td>\n",
              "      <td>-0.128694</td>\n",
              "      <td>-0.127335</td>\n",
              "      <td>1.000000</td>\n",
              "      <td>-0.091477</td>\n",
              "      <td>0.637942</td>\n",
              "      <td>-0.075325</td>\n",
              "      <td>-0.064631</td>\n",
              "      <td>-0.059485</td>\n",
              "      <td>-0.067677</td>\n",
              "    </tr>\n",
              "    <tr>\n",
              "      <th>MS - ENT</th>\n",
              "      <td>-0.150507</td>\n",
              "      <td>0.455396</td>\n",
              "      <td>0.128401</td>\n",
              "      <td>0.263427</td>\n",
              "      <td>-0.148051</td>\n",
              "      <td>-0.104201</td>\n",
              "      <td>-0.103101</td>\n",
              "      <td>-0.091477</td>\n",
              "      <td>1.000000</td>\n",
              "      <td>-0.061883</td>\n",
              "      <td>-0.060989</td>\n",
              "      <td>0.168219</td>\n",
              "      <td>-0.048164</td>\n",
              "      <td>0.093804</td>\n",
              "    </tr>\n",
              "    <tr>\n",
              "      <th>Venereology &amp; Leprosy</th>\n",
              "      <td>-0.018578</td>\n",
              "      <td>-0.013314</td>\n",
              "      <td>0.113081</td>\n",
              "      <td>0.213166</td>\n",
              "      <td>-0.123696</td>\n",
              "      <td>-0.087060</td>\n",
              "      <td>-0.086140</td>\n",
              "      <td>0.637942</td>\n",
              "      <td>-0.061883</td>\n",
              "      <td>1.000000</td>\n",
              "      <td>-0.050956</td>\n",
              "      <td>-0.039722</td>\n",
              "      <td>-0.040241</td>\n",
              "      <td>-0.120196</td>\n",
              "    </tr>\n",
              "    <tr>\n",
              "      <th>MD - General Medicine</th>\n",
              "      <td>-0.067103</td>\n",
              "      <td>-0.138891</td>\n",
              "      <td>0.040910</td>\n",
              "      <td>0.220340</td>\n",
              "      <td>-0.121909</td>\n",
              "      <td>-0.078738</td>\n",
              "      <td>-0.077776</td>\n",
              "      <td>-0.075325</td>\n",
              "      <td>-0.060989</td>\n",
              "      <td>-0.050956</td>\n",
              "      <td>1.000000</td>\n",
              "      <td>-0.046793</td>\n",
              "      <td>-0.039660</td>\n",
              "      <td>0.097571</td>\n",
              "    </tr>\n",
              "    <tr>\n",
              "      <th>Diploma in Otorhinolaryngology (DLO)</th>\n",
              "      <td>-0.070855</td>\n",
              "      <td>0.328246</td>\n",
              "      <td>0.011549</td>\n",
              "      <td>0.206330</td>\n",
              "      <td>-0.113590</td>\n",
              "      <td>-0.079947</td>\n",
              "      <td>-0.079103</td>\n",
              "      <td>-0.064631</td>\n",
              "      <td>0.168219</td>\n",
              "      <td>-0.039722</td>\n",
              "      <td>-0.046793</td>\n",
              "      <td>1.000000</td>\n",
              "      <td>-0.036954</td>\n",
              "      <td>0.111124</td>\n",
              "    </tr>\n",
              "    <tr>\n",
              "      <th>MD - Homeopathy</th>\n",
              "      <td>0.022368</td>\n",
              "      <td>0.093018</td>\n",
              "      <td>0.018592</td>\n",
              "      <td>-0.164912</td>\n",
              "      <td>-0.096274</td>\n",
              "      <td>-0.067760</td>\n",
              "      <td>0.349103</td>\n",
              "      <td>-0.059485</td>\n",
              "      <td>-0.048164</td>\n",
              "      <td>-0.040241</td>\n",
              "      <td>-0.039660</td>\n",
              "      <td>-0.036954</td>\n",
              "      <td>1.000000</td>\n",
              "      <td>0.008525</td>\n",
              "    </tr>\n",
              "    <tr>\n",
              "      <th>years_exp</th>\n",
              "      <td>-0.149635</td>\n",
              "      <td>0.038392</td>\n",
              "      <td>0.002143</td>\n",
              "      <td>0.271454</td>\n",
              "      <td>-0.196485</td>\n",
              "      <td>-0.047119</td>\n",
              "      <td>-0.114162</td>\n",
              "      <td>-0.067677</td>\n",
              "      <td>0.093804</td>\n",
              "      <td>-0.120196</td>\n",
              "      <td>0.097571</td>\n",
              "      <td>0.111124</td>\n",
              "      <td>0.008525</td>\n",
              "      <td>1.000000</td>\n",
              "    </tr>\n",
              "  </tbody>\n",
              "</table>\n",
              "</div>"
            ],
            "text/plain": [
              "                                        Rating  ...  years_exp\n",
              "Rating                                1.000000  ...  -0.149635\n",
              "Profile                              -0.052735  ...   0.038392\n",
              "Fees                                 -0.154696  ...   0.002143\n",
              "MBBS                                 -0.216370  ...   0.271454\n",
              "BDS                                   0.086477  ...  -0.196485\n",
              "BAMS                                  0.100041  ...  -0.047119\n",
              "BHMS                                  0.097870  ...  -0.114162\n",
              "MD - Dermatology                     -0.105249  ...  -0.067677\n",
              "MS - ENT                             -0.150507  ...   0.093804\n",
              "Venereology & Leprosy                -0.018578  ...  -0.120196\n",
              "MD - General Medicine                -0.067103  ...   0.097571\n",
              "Diploma in Otorhinolaryngology (DLO) -0.070855  ...   0.111124\n",
              "MD - Homeopathy                       0.022368  ...   0.008525\n",
              "years_exp                            -0.149635  ...   1.000000\n",
              "\n",
              "[14 rows x 14 columns]"
            ]
          },
          "metadata": {
            "tags": []
          },
          "execution_count": 66
        }
      ]
    },
    {
      "cell_type": "code",
      "metadata": {
        "colab": {
          "base_uri": "https://localhost:8080/",
          "height": 956
        },
        "id": "lyjhHZ6U22-x",
        "outputId": "e7b7b146-c70d-4f49-f24e-fabd6982262a"
      },
      "source": [
        "#checking correlaion using heatmap\r\n",
        "plt.figure(figsize=(14,13))\r\n",
        "sns.heatmap(Train_cor,annot=True,fmt='.0%',cmap='cool')"
      ],
      "execution_count": 67,
      "outputs": [
        {
          "output_type": "execute_result",
          "data": {
            "text/plain": [
              "<matplotlib.axes._subplots.AxesSubplot at 0x7fdb62bc2128>"
            ]
          },
          "metadata": {
            "tags": []
          },
          "execution_count": 67
        },
        {
          "output_type": "display_data",
          "data": {
            "image/png": "[encoded data removed]",
            "text/plain": [
              "<Figure size 1008x936 with 2 Axes>"
            ]
          },
          "metadata": {
            "tags": [],
            "needs_background": "light"
          }
        }
      ]
    },
    {
      "cell_type": "code",
      "metadata": {
        "colab": {
          "base_uri": "https://localhost:8080/",
          "height": 610
        },
        "id": "fNRJXg3V3N2d",
        "outputId": "156a8ad8-ad04-45b9-d755-5e434fb1a6bb"
      },
      "source": [
        "#checking correlation with target variable ie fees\r\n",
        "plt.figure(figsize=(16,8))\r\n",
        "Train_data.drop('Fees',axis=1,).corrwith(Train_data['Fees']).plot(kind='bar',grid=True)\r\n",
        "plt.xticks(rotation=30)\r\n",
        "plt.title(\"correlation with target variable\")"
      ],
      "execution_count": 68,
      "outputs": [
        {
          "output_type": "execute_result",
          "data": {
            "text/plain": [
              "Text(0.5, 1.0, 'correlation with target variable')"
            ]
          },
          "metadata": {
            "tags": []
          },
          "execution_count": 68
        },
        {
          "output_type": "display_data",
          "data": {
            "image/png": "[encoded data removed]",
            "text/plain": [
              "<Figure size 1152x576 with 1 Axes>"
            ]
          },
          "metadata": {
            "tags": [],
            "needs_background": "light"
          }
        }
      ]
    },
    {
      "cell_type": "markdown",
      "metadata": {
        "id": "-xtnzISx4KED"
      },
      "source": [
        "Observation:\r\n",
        "\r\n",
        "1- MBBS is highly correlated with target variable among all input variables\r\n",
        "\r\n",
        "2-Rating, BDS, BAMS are negatively correlated with target variable among all input variables."
      ]
    },
    {
      "cell_type": "markdown",
      "metadata": {
        "id": "WOvui73udS_c"
      },
      "source": [
        "## **Removing Outliers**"
      ]
    },
    {
      "cell_type": "code",
      "metadata": {
        "colab": {
          "base_uri": "https://localhost:8080/"
        },
        "id": "S7A7uXIDdmE7",
        "outputId": "5a73d3b5-3150-4910-88e5-ec45281e8c4b"
      },
      "source": [
        "#treating outliers using z score metod\r\n",
        "from scipy.stats import zscore\r\n",
        "z=np.abs(zscore(train))\r\n",
        "z"
      ],
      "execution_count": 69,
      "outputs": [
        {
          "output_type": "execute_result",
          "data": {
            "text/plain": [
              "array([[0.40632194, 0.52559784, 1.0892288 , ..., 0.50706878, 0.01295428,\n",
              "        0.12099913],\n",
              "       [0.06627016, 1.11376215, 0.22022774, ..., 0.50706878, 0.01295428,\n",
              "        0.12099913],\n",
              "       [0.40632194, 1.70192646, 0.04166357, ..., 0.50706878, 0.01295428,\n",
              "        0.12099913],\n",
              "       ...,\n",
              "       [0.10375573, 0.65073078, 1.52968429, ..., 0.50706878, 0.01295428,\n",
              "        0.12099913],\n",
              "       [1.29393695, 0.65073078, 1.0892288 , ..., 1.97211903, 0.01295428,\n",
              "        0.12099913],\n",
              "       [0.40632194, 1.23889509, 0.56544619, ..., 0.50706878, 0.01295428,\n",
              "        0.12099913]])"
            ]
          },
          "metadata": {
            "tags": []
          },
          "execution_count": 69
        }
      ]
    },
    {
      "cell_type": "code",
      "metadata": {
        "colab": {
          "base_uri": "https://localhost:8080/"
        },
        "id": "9owYiCMadpLX",
        "outputId": "03084fe4-c3f7-4dd3-fb31-0eb4f7d1fe43"
      },
      "source": [
        "threshold=3\r\n",
        "print(np.where(z>3))"
      ],
      "execution_count": 70,
      "outputs": [
        {
          "output_type": "stream",
          "text": [
            "(array([   0,    0,    8, ..., 5954, 5955, 5958]), array([12, 17, 10, ..., 12,  8, 10]))\n"
          ],
          "name": "stdout"
        }
      ]
    },
    {
      "cell_type": "code",
      "metadata": {
        "id": "nnTFfbRqdtbB"
      },
      "source": [
        "train_new=train[(z<3).all(axis=1)]"
      ],
      "execution_count": 71,
      "outputs": []
    },
    {
      "cell_type": "code",
      "metadata": {
        "colab": {
          "base_uri": "https://localhost:8080/"
        },
        "id": "dYoqrWOjdwAY",
        "outputId": "c4d6a6ec-9491-4646-9075-0785d82e47a6"
      },
      "source": [
        "#checking the shape\r\n",
        "print(train.shape,'\\t\\t',train_new.shape)"
      ],
      "execution_count": 72,
      "outputs": [
        {
          "output_type": "stream",
          "text": [
            "(5960, 22) \t\t (4107, 22)\n"
          ],
          "name": "stdout"
        }
      ]
    },
    {
      "cell_type": "code",
      "metadata": {
        "colab": {
          "base_uri": "https://localhost:8080/"
        },
        "id": "zIw22CzudyJ4",
        "outputId": "459e3ba8-3333-498d-ee34-8469b212f118"
      },
      "source": [
        "train=train_new\r\n",
        "train.shape"
      ],
      "execution_count": 73,
      "outputs": [
        {
          "output_type": "execute_result",
          "data": {
            "text/plain": [
              "(4107, 22)"
            ]
          },
          "metadata": {
            "tags": []
          },
          "execution_count": 73
        }
      ]
    },
    {
      "cell_type": "markdown",
      "metadata": {
        "id": "3BgJll4_d0GF"
      },
      "source": [
        "**Feature Selection**"
      ]
    },
    {
      "cell_type": "code",
      "metadata": {
        "colab": {
          "base_uri": "https://localhost:8080/"
        },
        "id": "XmC8V8sPd-Gq",
        "outputId": "0ea9bfa0-011a-4ab9-b4b1-dd203e7e8bd2"
      },
      "source": [
        "train.shape"
      ],
      "execution_count": 74,
      "outputs": [
        {
          "output_type": "execute_result",
          "data": {
            "text/plain": [
              "(4107, 22)"
            ]
          },
          "metadata": {
            "tags": []
          },
          "execution_count": 74
        }
      ]
    },
    {
      "cell_type": "code",
      "metadata": {
        "colab": {
          "base_uri": "https://localhost:8080/"
        },
        "id": "RUJbUbhNd_4P",
        "outputId": "e98f5c0e-64b9-4817-c01e-0a2125ec37b2"
      },
      "source": [
        "train.columns"
      ],
      "execution_count": 75,
      "outputs": [
        {
          "output_type": "execute_result",
          "data": {
            "text/plain": [
              "Index(['Rating', 'Profile', 'Fees', 'MBBS', 'BDS', 'BAMS', 'BHMS',\n",
              "       'MD - Dermatology', 'MS - ENT', 'Venereology & Leprosy',\n",
              "       'MD - General Medicine', 'Diploma in Otorhinolaryngology (DLO)',\n",
              "       'MD - Homeopathy', 'years_exp', ' Chennai', ' Coimbatore', ' Delhi',\n",
              "       ' Ernakulam', ' Hyderabad', ' Mumbai', ' Sector 5',\n",
              "       ' Thiruvananthapuram'],\n",
              "      dtype='object')"
            ]
          },
          "metadata": {
            "tags": []
          },
          "execution_count": 75
        }
      ]
    },
    {
      "cell_type": "code",
      "metadata": {
        "colab": {
          "base_uri": "https://localhost:8080/",
          "height": 258
        },
        "id": "olJsre7xeCAX",
        "outputId": "0d963a59-fc09-40a4-af5a-3ae7543559aa"
      },
      "source": [
        "#splitting data into input and output variable\r\n",
        "x=train.drop(columns=['Fees'],axis=1)                 #separating independent and target variable\r\n",
        "x.head()"
      ],
      "execution_count": 76,
      "outputs": [
        {
          "output_type": "execute_result",
          "data": {
            "text/html": [
              "<div>\n",
              "<style scoped>\n",
              "    .dataframe tbody tr th:only-of-type {\n",
              "        vertical-align: middle;\n",
              "    }\n",
              "\n",
              "    .dataframe tbody tr th {\n",
              "        vertical-align: top;\n",
              "    }\n",
              "\n",
              "    .dataframe thead th {\n",
              "        text-align: right;\n",
              "    }\n",
              "</style>\n",
              "<table border=\"1\" class=\"dataframe\">\n",
              "  <thead>\n",
              "    <tr style=\"text-align: right;\">\n",
              "      <th></th>\n",
              "      <th>Rating</th>\n",
              "      <th>Profile</th>\n",
              "      <th>MBBS</th>\n",
              "      <th>BDS</th>\n",
              "      <th>BAMS</th>\n",
              "      <th>BHMS</th>\n",
              "      <th>MD - Dermatology</th>\n",
              "      <th>MS - ENT</th>\n",
              "      <th>Venereology &amp; Leprosy</th>\n",
              "      <th>MD - General Medicine</th>\n",
              "      <th>Diploma in Otorhinolaryngology (DLO)</th>\n",
              "      <th>MD - Homeopathy</th>\n",
              "      <th>years_exp</th>\n",
              "      <th>Chennai</th>\n",
              "      <th>Coimbatore</th>\n",
              "      <th>Delhi</th>\n",
              "      <th>Ernakulam</th>\n",
              "      <th>Hyderabad</th>\n",
              "      <th>Mumbai</th>\n",
              "      <th>Sector 5</th>\n",
              "      <th>Thiruvananthapuram</th>\n",
              "    </tr>\n",
              "  </thead>\n",
              "  <tbody>\n",
              "    <tr>\n",
              "      <th>1</th>\n",
              "      <td>98</td>\n",
              "      <td>4</td>\n",
              "      <td>0</td>\n",
              "      <td>0</td>\n",
              "      <td>1</td>\n",
              "      <td>0</td>\n",
              "      <td>0</td>\n",
              "      <td>0</td>\n",
              "      <td>0</td>\n",
              "      <td>0</td>\n",
              "      <td>0</td>\n",
              "      <td>0</td>\n",
              "      <td>12</td>\n",
              "      <td>0</td>\n",
              "      <td>0</td>\n",
              "      <td>0</td>\n",
              "      <td>0</td>\n",
              "      <td>0</td>\n",
              "      <td>0</td>\n",
              "      <td>0</td>\n",
              "      <td>0</td>\n",
              "    </tr>\n",
              "    <tr>\n",
              "      <th>2</th>\n",
              "      <td>100</td>\n",
              "      <td>5</td>\n",
              "      <td>1</td>\n",
              "      <td>0</td>\n",
              "      <td>0</td>\n",
              "      <td>0</td>\n",
              "      <td>0</td>\n",
              "      <td>0</td>\n",
              "      <td>0</td>\n",
              "      <td>0</td>\n",
              "      <td>0</td>\n",
              "      <td>0</td>\n",
              "      <td>9</td>\n",
              "      <td>0</td>\n",
              "      <td>0</td>\n",
              "      <td>0</td>\n",
              "      <td>0</td>\n",
              "      <td>0</td>\n",
              "      <td>0</td>\n",
              "      <td>0</td>\n",
              "      <td>0</td>\n",
              "    </tr>\n",
              "    <tr>\n",
              "      <th>3</th>\n",
              "      <td>100</td>\n",
              "      <td>4</td>\n",
              "      <td>0</td>\n",
              "      <td>0</td>\n",
              "      <td>1</td>\n",
              "      <td>0</td>\n",
              "      <td>0</td>\n",
              "      <td>0</td>\n",
              "      <td>0</td>\n",
              "      <td>0</td>\n",
              "      <td>0</td>\n",
              "      <td>0</td>\n",
              "      <td>12</td>\n",
              "      <td>0</td>\n",
              "      <td>0</td>\n",
              "      <td>0</td>\n",
              "      <td>0</td>\n",
              "      <td>0</td>\n",
              "      <td>0</td>\n",
              "      <td>0</td>\n",
              "      <td>0</td>\n",
              "    </tr>\n",
              "    <tr>\n",
              "      <th>4</th>\n",
              "      <td>100</td>\n",
              "      <td>4</td>\n",
              "      <td>0</td>\n",
              "      <td>0</td>\n",
              "      <td>1</td>\n",
              "      <td>0</td>\n",
              "      <td>0</td>\n",
              "      <td>0</td>\n",
              "      <td>0</td>\n",
              "      <td>0</td>\n",
              "      <td>0</td>\n",
              "      <td>0</td>\n",
              "      <td>20</td>\n",
              "      <td>1</td>\n",
              "      <td>0</td>\n",
              "      <td>0</td>\n",
              "      <td>0</td>\n",
              "      <td>0</td>\n",
              "      <td>0</td>\n",
              "      <td>0</td>\n",
              "      <td>0</td>\n",
              "    </tr>\n",
              "    <tr>\n",
              "      <th>5</th>\n",
              "      <td>100</td>\n",
              "      <td>4</td>\n",
              "      <td>0</td>\n",
              "      <td>0</td>\n",
              "      <td>1</td>\n",
              "      <td>0</td>\n",
              "      <td>0</td>\n",
              "      <td>0</td>\n",
              "      <td>0</td>\n",
              "      <td>0</td>\n",
              "      <td>0</td>\n",
              "      <td>0</td>\n",
              "      <td>8</td>\n",
              "      <td>1</td>\n",
              "      <td>0</td>\n",
              "      <td>0</td>\n",
              "      <td>0</td>\n",
              "      <td>0</td>\n",
              "      <td>0</td>\n",
              "      <td>0</td>\n",
              "      <td>0</td>\n",
              "    </tr>\n",
              "  </tbody>\n",
              "</table>\n",
              "</div>"
            ],
            "text/plain": [
              "   Rating  Profile  MBBS  ...   Mumbai   Sector 5   Thiruvananthapuram\n",
              "1      98        4     0  ...        0          0                    0\n",
              "2     100        5     1  ...        0          0                    0\n",
              "3     100        4     0  ...        0          0                    0\n",
              "4     100        4     0  ...        0          0                    0\n",
              "5     100        4     0  ...        0          0                    0\n",
              "\n",
              "[5 rows x 21 columns]"
            ]
          },
          "metadata": {
            "tags": []
          },
          "execution_count": 76
        }
      ]
    },
    {
      "cell_type": "code",
      "metadata": {
        "colab": {
          "base_uri": "https://localhost:8080/"
        },
        "id": "cg2ZzdwreGRn",
        "outputId": "be0a0e30-072c-44c7-f87c-d1a08b87236a"
      },
      "source": [
        "y=train[\"Fees\"]\r\n",
        "y.head()"
      ],
      "execution_count": 77,
      "outputs": [
        {
          "output_type": "execute_result",
          "data": {
            "text/plain": [
              "1    350\n",
              "2    300\n",
              "3    250\n",
              "4    250\n",
              "5    100\n",
              "Name: Fees, dtype: int64"
            ]
          },
          "metadata": {
            "tags": []
          },
          "execution_count": 77
        }
      ]
    },
    {
      "cell_type": "code",
      "metadata": {
        "colab": {
          "base_uri": "https://localhost:8080/"
        },
        "id": "D5qfSgM2eJBy",
        "outputId": "15d4da52-41cc-4065-a721-821b30ecdb1d"
      },
      "source": [
        "#Checking the shape of input and target variable\r\n",
        "print(x.shape,'\\t\\t',y.shape)"
      ],
      "execution_count": 78,
      "outputs": [
        {
          "output_type": "stream",
          "text": [
            "(4107, 21) \t\t (4107,)\n"
          ],
          "name": "stdout"
        }
      ]
    },
    {
      "cell_type": "code",
      "metadata": {
        "id": "m9Nw6sFXhbMv"
      },
      "source": [
        "#remove Skewness\r\n",
        "from sklearn.preprocessing import power_transform\r\n",
        "x=power_transform(x,method='yeo-johnson')"
      ],
      "execution_count": 79,
      "outputs": []
    },
    {
      "cell_type": "code",
      "metadata": {
        "id": "fxUBzdi9ei4t"
      },
      "source": [
        "# scaling in input variables\r\n",
        "from sklearn.preprocessing import StandardScaler\r\n",
        "ss=StandardScaler()\r\n",
        "x=ss.fit_transform(x)"
      ],
      "execution_count": 80,
      "outputs": []
    },
    {
      "cell_type": "code",
      "metadata": {
        "id": "Jvao9_6beshj"
      },
      "source": [
        "# Splittinfg the data into training and testing data\r\n",
        "\r\n",
        "from sklearn.model_selection import train_test_split\r\n",
        "x_train,x_test,y_train,y_test=train_test_split(x,y,test_size=.20,random_state=42)"
      ],
      "execution_count": 81,
      "outputs": []
    },
    {
      "cell_type": "code",
      "metadata": {
        "colab": {
          "base_uri": "https://localhost:8080/"
        },
        "id": "0X-_X3wOeu5e",
        "outputId": "95578c10-e646-40cd-ce35-ccf65483ed4a"
      },
      "source": [
        "#checking the shape\r\n",
        "print(x_train.shape,'\\t\\t',x_test.shape)"
      ],
      "execution_count": 82,
      "outputs": [
        {
          "output_type": "stream",
          "text": [
            "(3285, 21) \t\t (822, 21)\n"
          ],
          "name": "stdout"
        }
      ]
    },
    {
      "cell_type": "code",
      "metadata": {
        "colab": {
          "base_uri": "https://localhost:8080/"
        },
        "id": "7XIXIoGUexmP",
        "outputId": "1ff9288e-a317-4db8-ceef-c0705054a771"
      },
      "source": [
        "#checking the shape\r\n",
        "print(y_train.shape,'\\t\\t',y_test.shape)"
      ],
      "execution_count": 83,
      "outputs": [
        {
          "output_type": "stream",
          "text": [
            "(3285,) \t\t (822,)\n"
          ],
          "name": "stdout"
        }
      ]
    },
    {
      "cell_type": "code",
      "metadata": {
        "id": "mI2JrCGue03u"
      },
      "source": [
        "#Importing all the model library\r\n",
        "from sklearn.linear_model import LinearRegression,Lasso,Ridge,ElasticNet\r\n",
        "from sklearn.svm import SVR\r\n",
        "from sklearn.tree import DecisionTreeRegressor\r\n",
        "from sklearn.neighbors import KNeighborsRegressor\r\n",
        "\r\n",
        "#importing boosting models\r\n",
        "from sklearn.ensemble import RandomForestRegressor\r\n",
        "from sklearn.ensemble import AdaBoostRegressor\r\n",
        "from sklearn.ensemble import GradientBoostingRegressor\r\n",
        "\r\n",
        "#importing error metrics \r\n",
        "from sklearn.metrics import mean_absolute_error,mean_squared_error,r2_score\r\n",
        "from sklearn.model_selection import GridSearchCV,cross_val_score"
      ],
      "execution_count": 84,
      "outputs": []
    },
    {
      "cell_type": "code",
      "metadata": {
        "colab": {
          "base_uri": "https://localhost:8080/"
        },
        "id": "eO7Hbqfke7gG",
        "outputId": "1e0d8e4d-3b32-4c3f-f6e0-c9ce6e577b25"
      },
      "source": [
        "#All Algorithm by using for loop\r\n",
        "\r\n",
        "model=[LinearRegression(),SVR(),DecisionTreeRegressor(),KNeighborsRegressor(),Lasso(),Ridge(),ElasticNet(),RandomForestRegressor(),AdaBoostRegressor(),GradientBoostingRegressor()]\r\n",
        "\r\n",
        "for m in model:\r\n",
        "  m.fit(x_train,y_train)\r\n",
        "  score=m.score(x_train,y_train)\r\n",
        "  predm=m.predict(x_test)\r\n",
        "  print('score of',m,'is',score)\r\n",
        "  print('MAE',mean_absolute_error(y_test,predm))\r\n",
        "  print('MSE',mean_squared_error(y_test,predm))\r\n",
        "  print('RMSE',np.sqrt(mean_squared_error(y_test,predm)))\r\n",
        "  print('R2_score:',r2_score(y_test,predm))\r\n",
        "  print('*********************************************************************************************************************************')\r\n",
        "  print('\\n')"
      ],
      "execution_count": 85,
      "outputs": [
        {
          "output_type": "stream",
          "text": [
            "score of LinearRegression(copy_X=True, fit_intercept=True, n_jobs=None, normalize=False) is 0.12571059377008076\n",
            "MAE 134.62921674999822\n",
            "MSE 27807.983452193683\n",
            "RMSE 166.75725906896432\n",
            "R2_score: 0.13662207807177618\n",
            "*********************************************************************************************************************************\n",
            "\n",
            "\n",
            "score of SVR(C=1.0, cache_size=200, coef0=0.0, degree=3, epsilon=0.1, gamma='scale',\n",
            "    kernel='rbf', max_iter=-1, shrinking=True, tol=0.001, verbose=False) is 0.0640196283311687\n",
            "MAE 133.97395650403243\n",
            "MSE 29730.294316296524\n",
            "RMSE 172.42474972084642\n",
            "R2_score: 0.07693847095217288\n",
            "*********************************************************************************************************************************\n",
            "\n",
            "\n",
            "score of DecisionTreeRegressor(ccp_alpha=0.0, criterion='mse', max_depth=None,\n",
            "                      max_features=None, max_leaf_nodes=None,\n",
            "                      min_impurity_decrease=0.0, min_impurity_split=None,\n",
            "                      min_samples_leaf=1, min_samples_split=2,\n",
            "                      min_weight_fraction_leaf=0.0, presort='deprecated',\n",
            "                      random_state=None, splitter='best') is 0.6534239156321777\n",
            "MAE 147.48206872203224\n",
            "MSE 40544.95107344515\n",
            "RMSE 201.35776884303507\n",
            "R2_score: -0.25883330097102375\n",
            "*********************************************************************************************************************************\n",
            "\n",
            "\n",
            "score of KNeighborsRegressor(algorithm='auto', leaf_size=30, metric='minkowski',\n",
            "                    metric_params=None, n_jobs=None, n_neighbors=5, p=2,\n",
            "                    weights='uniform') is 0.3234957707676678\n",
            "MAE 137.07688564476885\n",
            "MSE 31220.200778588805\n",
            "RMSE 176.69239026791394\n",
            "R2_score: 0.030680088085512036\n",
            "*********************************************************************************************************************************\n",
            "\n",
            "\n",
            "score of Lasso(alpha=1.0, copy_X=True, fit_intercept=True, max_iter=1000,\n",
            "      normalize=False, positive=False, precompute=False, random_state=None,\n",
            "      selection='cyclic', tol=0.0001, warm_start=False) is 0.12444796364460187\n",
            "MAE 135.04139133993164\n",
            "MSE 27902.345714315183\n",
            "RMSE 167.039952449452\n",
            "R2_score: 0.1336923333127228\n",
            "*********************************************************************************************************************************\n",
            "\n",
            "\n",
            "score of Ridge(alpha=1.0, copy_X=True, fit_intercept=True, max_iter=None,\n",
            "      normalize=False, random_state=None, solver='auto', tol=0.001) is 0.12571044990957236\n",
            "MAE 134.63121682942688\n",
            "MSE 27808.21475050608\n",
            "RMSE 166.75795258549465\n",
            "R2_score: 0.1366148967579407\n",
            "*********************************************************************************************************************************\n",
            "\n",
            "\n",
            "score of ElasticNet(alpha=1.0, copy_X=True, fit_intercept=True, l1_ratio=0.5,\n",
            "           max_iter=1000, normalize=False, positive=False, precompute=False,\n",
            "           random_state=None, selection='cyclic', tol=0.0001, warm_start=False) is 0.10957292254706595\n",
            "MAE 137.28658801287293\n",
            "MSE 28476.523400716193\n",
            "RMSE 168.74988415023043\n",
            "R2_score: 0.11586535428870615\n",
            "*********************************************************************************************************************************\n",
            "\n",
            "\n",
            "score of RandomForestRegressor(bootstrap=True, ccp_alpha=0.0, criterion='mse',\n",
            "                      max_depth=None, max_features='auto', max_leaf_nodes=None,\n",
            "                      max_samples=None, min_impurity_decrease=0.0,\n",
            "                      min_impurity_split=None, min_samples_leaf=1,\n",
            "                      min_samples_split=2, min_weight_fraction_leaf=0.0,\n",
            "                      n_estimators=100, n_jobs=None, oob_score=False,\n",
            "                      random_state=None, verbose=0, warm_start=False) is 0.5939015479857761\n",
            "MAE 135.16900677764795\n",
            "MSE 30991.069257099556\n",
            "RMSE 176.04280518413572\n",
            "R2_score: 0.03779412773573465\n",
            "*********************************************************************************************************************************\n",
            "\n",
            "\n",
            "score of AdaBoostRegressor(base_estimator=None, learning_rate=1.0, loss='linear',\n",
            "                  n_estimators=50, random_state=None) is 0.1076262222329345\n",
            "MAE 139.88919572077893\n",
            "MSE 28650.479810397293\n",
            "RMSE 169.26452614294968\n",
            "R2_score: 0.11046438288224791\n",
            "*********************************************************************************************************************************\n",
            "\n",
            "\n",
            "score of GradientBoostingRegressor(alpha=0.9, ccp_alpha=0.0, criterion='friedman_mse',\n",
            "                          init=None, learning_rate=0.1, loss='ls', max_depth=3,\n",
            "                          max_features=None, max_leaf_nodes=None,\n",
            "                          min_impurity_decrease=0.0, min_impurity_split=None,\n",
            "                          min_samples_leaf=1, min_samples_split=2,\n",
            "                          min_weight_fraction_leaf=0.0, n_estimators=100,\n",
            "                          n_iter_no_change=None, presort='deprecated',\n",
            "                          random_state=None, subsample=1.0, tol=0.0001,\n",
            "                          validation_fraction=0.1, verbose=0, warm_start=False) is 0.22993132738162225\n",
            "MAE 127.6900623243932\n",
            "MSE 25820.954046775707\n",
            "RMSE 160.68899790208323\n",
            "R2_score: 0.19831505634218405\n",
            "*********************************************************************************************************************************\n",
            "\n",
            "\n"
          ],
          "name": "stdout"
        }
      ]
    },
    {
      "cell_type": "code",
      "metadata": {
        "colab": {
          "base_uri": "https://localhost:8080/"
        },
        "id": "bpEwrX10e-Wk",
        "outputId": "e825c2c0-5c77-4762-d99f-a6fb894a18a8"
      },
      "source": [
        "# Cross Validate  all Algorithm by using for loop\r\n",
        "\r\n",
        "model=[LinearRegression(),SVR(),DecisionTreeRegressor(),KNeighborsRegressor(),Lasso(),Ridge(),ElasticNet(),RandomForestRegressor(),AdaBoostRegressor(),GradientBoostingRegressor()]\r\n",
        "\r\n",
        "for m in model:\r\n",
        "  score=cross_val_score(m,x,y,cv=10,scoring='r2')\r\n",
        "  print(\"Model:\",m)\r\n",
        "  print(\"score:\",score)\r\n",
        "  print(\"Mean Score\",score.mean())\r\n",
        "  print(\"Standard Deviation:\",score.std())\r\n",
        "  print('*********************************************************************************************************************************')\r\n",
        "  print('\\n')"
      ],
      "execution_count": 86,
      "outputs": [
        {
          "output_type": "stream",
          "text": [
            "Model: LinearRegression(copy_X=True, fit_intercept=True, n_jobs=None, normalize=False)\n",
            "score: [0.13843845 0.1553249  0.12335767 0.0867363  0.17787734 0.06283519\n",
            " 0.12642658 0.0680508  0.08173123 0.16483932]\n",
            "Mean Score 0.11856177812439621\n",
            "Standard Deviation: 0.039392351328918024\n",
            "*********************************************************************************************************************************\n",
            "\n",
            "\n",
            "Model: SVR(C=1.0, cache_size=200, coef0=0.0, degree=3, epsilon=0.1, gamma='scale',\n",
            "    kernel='rbf', max_iter=-1, shrinking=True, tol=0.001, verbose=False)\n",
            "score: [0.05918221 0.08984036 0.08014341 0.00502163 0.08130224 0.09649553\n",
            " 0.02124336 0.05727168 0.04074469 0.10446695]\n",
            "Mean Score 0.06357120525775872\n",
            "Standard Deviation: 0.031361226928047665\n",
            "*********************************************************************************************************************************\n",
            "\n",
            "\n",
            "Model: DecisionTreeRegressor(ccp_alpha=0.0, criterion='mse', max_depth=None,\n",
            "                      max_features=None, max_leaf_nodes=None,\n",
            "                      min_impurity_decrease=0.0, min_impurity_split=None,\n",
            "                      min_samples_leaf=1, min_samples_split=2,\n",
            "                      min_weight_fraction_leaf=0.0, presort='deprecated',\n",
            "                      random_state=None, splitter='best')\n",
            "score: [-0.41432394 -0.34937385 -0.37005403 -0.49079479 -0.25693529 -0.33603978\n",
            " -0.33528903 -0.3059158  -0.35063486 -0.45823675]\n",
            "Mean Score -0.3667598133110451\n",
            "Standard Deviation: 0.0665475327918177\n",
            "*********************************************************************************************************************************\n",
            "\n",
            "\n",
            "Model: KNeighborsRegressor(algorithm='auto', leaf_size=30, metric='minkowski',\n",
            "                    metric_params=None, n_jobs=None, n_neighbors=5, p=2,\n",
            "                    weights='uniform')\n",
            "score: [ 0.04541487  0.11741535  0.07095101 -0.08016007  0.07200829 -0.02274589\n",
            "  0.10199442  0.01147781 -0.01707418  0.07258963]\n",
            "Mean Score 0.037187123513042666\n",
            "Standard Deviation: 0.05939502483136246\n",
            "*********************************************************************************************************************************\n",
            "\n",
            "\n",
            "Model: Lasso(alpha=1.0, copy_X=True, fit_intercept=True, max_iter=1000,\n",
            "      normalize=False, positive=False, precompute=False, random_state=None,\n",
            "      selection='cyclic', tol=0.0001, warm_start=False)\n",
            "score: [0.13590196 0.15080342 0.11997284 0.08962813 0.16778763 0.07074388\n",
            " 0.12377333 0.07387781 0.08917509 0.15862675]\n",
            "Mean Score 0.1180290841227446\n",
            "Standard Deviation: 0.033732548136582656\n",
            "*********************************************************************************************************************************\n",
            "\n",
            "\n",
            "Model: Ridge(alpha=1.0, copy_X=True, fit_intercept=True, max_iter=None,\n",
            "      normalize=False, random_state=None, solver='auto', tol=0.001)\n",
            "score: [0.13842033 0.15530374 0.12334922 0.08676724 0.17779263 0.06291894\n",
            " 0.12640716 0.06812324 0.08179773 0.16480484]\n",
            "Mean Score 0.11856850419453094\n",
            "Standard Deviation: 0.039342314589148705\n",
            "*********************************************************************************************************************************\n",
            "\n",
            "\n",
            "Model: ElasticNet(alpha=1.0, copy_X=True, fit_intercept=True, l1_ratio=0.5,\n",
            "           max_iter=1000, normalize=False, positive=False, precompute=False,\n",
            "           random_state=None, selection='cyclic', tol=0.0001, warm_start=False)\n",
            "score: [0.11790208 0.13020212 0.10193626 0.08918005 0.13306844 0.07367208\n",
            " 0.10716243 0.08156859 0.09021218 0.12761983]\n",
            "Mean Score 0.10525240602616708\n",
            "Standard Deviation: 0.02028287353424064\n",
            "*********************************************************************************************************************************\n",
            "\n",
            "\n",
            "Model: RandomForestRegressor(bootstrap=True, ccp_alpha=0.0, criterion='mse',\n",
            "                      max_depth=None, max_features='auto', max_leaf_nodes=None,\n",
            "                      max_samples=None, min_impurity_decrease=0.0,\n",
            "                      min_impurity_split=None, min_samples_leaf=1,\n",
            "                      min_samples_split=2, min_weight_fraction_leaf=0.0,\n",
            "                      n_estimators=100, n_jobs=None, oob_score=False,\n",
            "                      random_state=None, verbose=0, warm_start=False)\n",
            "score: [-0.07140499  0.05970772 -0.03403739 -0.12969246  0.02477321 -0.07343207\n",
            "  0.08665514 -0.01997405 -0.07078312 -0.09497933]\n",
            "Mean Score -0.03231673514771727\n",
            "Standard Deviation: 0.06644097475099008\n",
            "*********************************************************************************************************************************\n",
            "\n",
            "\n",
            "Model: AdaBoostRegressor(base_estimator=None, learning_rate=1.0, loss='linear',\n",
            "                  n_estimators=50, random_state=None)\n",
            "score: [0.06233178 0.09508572 0.06383476 0.10126746 0.15055739 0.04944568\n",
            " 0.13984828 0.08486231 0.09327251 0.07878758]\n",
            "Mean Score 0.09192934552439355\n",
            "Standard Deviation: 0.030863037996237342\n",
            "*********************************************************************************************************************************\n",
            "\n",
            "\n",
            "Model: GradientBoostingRegressor(alpha=0.9, ccp_alpha=0.0, criterion='friedman_mse',\n",
            "                          init=None, learning_rate=0.1, loss='ls', max_depth=3,\n",
            "                          max_features=None, max_leaf_nodes=None,\n",
            "                          min_impurity_decrease=0.0, min_impurity_split=None,\n",
            "                          min_samples_leaf=1, min_samples_split=2,\n",
            "                          min_weight_fraction_leaf=0.0, n_estimators=100,\n",
            "                          n_iter_no_change=None, presort='deprecated',\n",
            "                          random_state=None, subsample=1.0, tol=0.0001,\n",
            "                          validation_fraction=0.1, verbose=0, warm_start=False)\n",
            "score: [0.12895152 0.18457999 0.17297322 0.08020585 0.22533785 0.1328744\n",
            " 0.17928709 0.11837804 0.10235296 0.16512986]\n",
            "Mean Score 0.14900707760697712\n",
            "Standard Deviation: 0.04165796454470994\n",
            "*********************************************************************************************************************************\n",
            "\n",
            "\n"
          ],
          "name": "stdout"
        }
      ]
    },
    {
      "cell_type": "markdown",
      "metadata": {
        "id": "89raCxWdk_5m"
      },
      "source": [
        "***Decision Tree Regressor is giving best score and r2 score so I choose it as my final model.***"
      ]
    },
    {
      "cell_type": "markdown",
      "metadata": {
        "id": "LV-7bc7nlRsk"
      },
      "source": [
        "**Using GridSearchCV to find the best parameters**."
      ]
    },
    {
      "cell_type": "code",
      "metadata": {
        "colab": {
          "base_uri": "https://localhost:8080/"
        },
        "id": "2Js0F3Ddlz3w",
        "outputId": "f9ce72e0-7ed6-4034-dee5-ceefe702b3b4"
      },
      "source": [
        "from sklearn.tree import DecisionTreeRegressor\r\n",
        "\r\n",
        "parameters={'criterion':['mse','friedman_mse','mae'],'splitter':['best','random']}\r\n",
        "dt=DecisionTreeRegressor()\r\n",
        "clf=GridSearchCV(dt,parameters)\r\n",
        "clf.fit(x_train,y_train)\r\n",
        "\r\n",
        "print(clf.best_params_)"
      ],
      "execution_count": 87,
      "outputs": [
        {
          "output_type": "stream",
          "text": [
            "{'criterion': 'mae', 'splitter': 'random'}\n"
          ],
          "name": "stdout"
        }
      ]
    },
    {
      "cell_type": "code",
      "metadata": {
        "colab": {
          "base_uri": "https://localhost:8080/"
        },
        "id": "iIvg3WWml8PM",
        "outputId": "37712439-7dd9-4c88-ee53-c40ceb238044"
      },
      "source": [
        "dt=DecisionTreeRegressor(criterion='mae',splitter='random')\r\n",
        "dt.fit(x_train,y_train)\r\n",
        "print('score:',dt.score(x_train,y_train))\r\n",
        "preddt=dt.predict(x_test)\r\n",
        "print('\\n')\r\n",
        "print('Mean absolute Error:',mean_absolute_error(y_test,preddt))\r\n",
        "print('Mean Squared Error:',mean_squared_error(y_test,preddt))\r\n",
        "print('Root Mean Squared Error:',np.sqrt(mean_squared_error(y_test,preddt)))\r\n",
        "print('\\n')\r\n",
        "print(\"r2_score\",r2_score(y_test,preddt))"
      ],
      "execution_count": 88,
      "outputs": [
        {
          "output_type": "stream",
          "text": [
            "score: 0.441265454192187\n",
            "\n",
            "\n",
            "Mean absolute Error: 143.06630170316302\n",
            "Mean Squared Error: 39850.426094890514\n",
            "Root Mean Squared Error: 199.6257150140996\n",
            "\n",
            "\n",
            "r2_score -0.23726979803875903\n"
          ],
          "name": "stdout"
        }
      ]
    },
    {
      "cell_type": "code",
      "metadata": {
        "colab": {
          "base_uri": "https://localhost:8080/"
        },
        "id": "Inv2ATKDmI0W",
        "outputId": "1bf2db66-0582-4d8b-a892-66e2b49ff23f"
      },
      "source": [
        "print('Error:')\r\n",
        "\r\n",
        "print('Mean Absolute Error:',mean_absolute_error(y_test,preddt))\r\n",
        "print('Mean Squared Error:',mean_squared_error(y_test,preddt))\r\n",
        "print('Root Mean Square Error:',np.sqrt(mean_squared_error(y_test,preddt)))"
      ],
      "execution_count": 90,
      "outputs": [
        {
          "output_type": "stream",
          "text": [
            "Error:\n",
            "Mean Absolute Error: 143.06630170316302\n",
            "Mean Squared Error: 39850.426094890514\n",
            "Root Mean Square Error: 199.6257150140996\n"
          ],
          "name": "stdout"
        }
      ]
    },
    {
      "cell_type": "markdown",
      "metadata": {
        "id": "FyIzeIG2mstp"
      },
      "source": [
        "**The Best Model is DecisionTreeRegressor because of the score = 0.65 is Maximum**"
      ]
    },
    {
      "cell_type": "markdown",
      "metadata": {
        "id": "TDkHZ9U2WoX9"
      },
      "source": [
        "### **Conclusion**"
      ]
    },
    {
      "cell_type": "code",
      "metadata": {
        "colab": {
          "base_uri": "https://localhost:8080/"
        },
        "id": "MZ2g6zk2XWn3",
        "outputId": "018995d2-9e1b-41f4-b23a-b0743d2b06f6"
      },
      "source": [
        "a=np.array(y_test)\r\n",
        "a"
      ],
      "execution_count": 91,
      "outputs": [
        {
          "output_type": "execute_result",
          "data": {
            "text/plain": [
              "array([600, 300, 700, 200, 150, 250, 200, 200, 500, 300,  30, 100, 300,\n",
              "       450, 300, 300, 600, 250,  50, 100, 500,  70, 300, 300, 200, 100,\n",
              "       200, 500, 500, 200, 300, 100, 250, 100, 250, 300, 700, 500, 400,\n",
              "       500, 100, 150, 250, 200, 300, 300, 100, 100, 300, 200, 700, 400,\n",
              "       600, 300, 500, 100, 200, 200, 300, 200, 200, 500, 300, 250, 300,\n",
              "       200, 500, 500, 100, 150, 500, 200, 100, 300, 200, 500, 200, 500,\n",
              "       250, 100,  50, 400, 450, 100, 500, 200, 200, 200, 800, 500, 300,\n",
              "       700, 200, 200, 100, 100, 400, 100, 300, 100, 200, 150, 500, 300,\n",
              "       300, 150, 100, 100, 200, 100, 500, 200, 100, 100, 200, 100, 200,\n",
              "       500, 400, 200, 250, 200, 200, 700, 600, 350, 200, 100, 500, 500,\n",
              "       100, 200, 200, 500, 450, 500, 600, 100, 100, 800, 100, 200, 300,\n",
              "       300, 300, 200, 700, 300, 400, 500, 100, 200, 100, 500, 300, 100,\n",
              "       300, 300, 500, 200, 100, 300, 300, 500, 750, 500, 500, 100, 300,\n",
              "       100, 100, 250, 300, 200, 250, 500, 200, 500, 300, 500, 300,  50,\n",
              "       600, 400, 250, 250, 100, 300, 300, 600, 100, 400, 300, 200, 500,\n",
              "       200, 300, 150, 500, 300, 250, 300, 200, 150, 250, 100, 200, 100,\n",
              "       100, 400, 350, 500, 750, 100, 500, 200, 100, 200, 200, 100, 200,\n",
              "       500,  40, 100, 300, 600, 300, 200, 100, 100, 500, 100, 200, 100,\n",
              "       500, 250, 100, 300, 300, 300, 400, 200, 200, 100, 600, 300, 600,\n",
              "       300, 150, 300, 250, 600, 100, 100, 300, 100, 300, 350, 100, 100,\n",
              "       300, 500, 500, 100, 350, 700, 300, 350, 100, 100, 200, 500, 100,\n",
              "       400, 500, 300, 400, 500, 300, 200, 100, 700, 350, 500, 750, 150,\n",
              "       700, 100, 300, 500, 300, 300, 300, 200, 500, 300, 500, 300, 350,\n",
              "       150, 200, 200, 300, 500, 250, 200, 400, 300, 400, 100, 500, 100,\n",
              "       200, 300, 500, 100, 300, 100, 250, 200, 500, 400, 800, 200, 500,\n",
              "       500, 300, 300, 300, 100, 300, 400, 400, 100, 250, 100, 500, 100,\n",
              "       500, 100, 500, 250, 500, 100, 500, 800, 600, 500, 500, 200, 150,\n",
              "       600, 500, 200,  50, 400, 200, 300, 150, 300, 100, 200, 450, 450,\n",
              "       300, 800, 200, 500, 100, 500, 250, 500, 600, 300, 500, 300, 200,\n",
              "       100, 200, 100, 300, 300, 200, 350, 200, 100, 500, 600, 100, 100,\n",
              "       200, 100, 500, 500, 100, 700, 100, 500, 500, 300, 600, 100, 100,\n",
              "       400, 500, 100, 400, 300, 100, 500, 250, 200, 100, 450,  50, 250,\n",
              "       250, 100, 650, 300, 200, 500, 100, 200, 100, 500, 300, 300, 300,\n",
              "        60, 100, 300, 100, 450, 500, 200, 400, 100, 500, 300, 100, 100,\n",
              "       200, 180, 300, 200, 250, 100, 250, 500, 500, 800, 500, 400,  50,\n",
              "        50, 400, 100, 600, 400, 600, 200, 200, 250, 400, 350, 100, 200,\n",
              "       300, 300, 300, 500, 300, 400, 200, 500, 300, 200, 200, 500, 100,\n",
              "       400, 500, 100, 300, 300, 100, 100, 150, 100, 200, 800, 100, 300,\n",
              "       200, 400, 150, 100, 250, 700, 400, 200, 300, 100, 300, 300, 500,\n",
              "       300,  80, 300, 300, 500, 250, 500, 300, 250, 100, 500, 300, 500,\n",
              "        80, 300, 800, 500, 250, 150, 100, 100, 200, 300, 150, 200, 100,\n",
              "       100, 100, 350, 200, 500, 200, 500, 500, 300,  50, 400, 100, 200,\n",
              "       100, 500, 100, 400, 300, 300, 200, 200, 300, 200, 100, 500, 300,\n",
              "       300, 500, 500, 200, 300, 150, 500, 200, 100, 100, 600, 150, 100,\n",
              "       500, 500, 500, 500, 200, 350, 600, 500, 350, 100, 500, 800, 100,\n",
              "       200, 500, 100, 500, 150, 800, 500, 200, 500, 300, 300, 100, 500,\n",
              "       200, 100, 500, 250, 100, 300, 200, 500, 200, 250, 100, 200, 300,\n",
              "       200, 350, 100, 300, 600, 100, 400, 500, 500, 250, 100, 300, 200,\n",
              "       300,  50, 100, 100, 200, 150, 200, 250, 100, 300, 400, 250, 200,\n",
              "       300, 150, 200, 200, 500, 200, 200, 100, 150, 100, 100, 300, 400,\n",
              "       250, 400, 300, 150, 100, 500, 350, 300, 800, 100, 100, 200, 150,\n",
              "       500, 100, 150, 200, 200, 500, 200, 500, 250, 100, 100, 100, 300,\n",
              "       500, 100, 200, 800, 300, 500, 100, 100, 750, 700, 250, 800, 250,\n",
              "       400, 500, 600, 100, 200, 200, 100, 100, 200, 300, 400, 100, 200,\n",
              "       100, 600, 300, 500, 250, 200, 200, 100, 500,  50, 350, 500, 400,\n",
              "       350, 150, 300, 500, 200, 500, 800, 200, 200, 200, 300, 200, 200,\n",
              "       100, 600, 200, 300, 250, 500, 150, 400, 500, 150, 250, 600, 200,\n",
              "       300, 200, 800, 200, 200, 300, 350, 800, 100, 300, 500, 700, 100,\n",
              "       100, 150, 500, 300, 400,  50, 300, 400, 400,  50, 500, 400, 100,\n",
              "       200, 150, 100, 200, 100, 300, 500, 100, 800, 600, 300, 250, 300,\n",
              "       400, 100, 300, 500, 100, 200, 150, 500, 750, 100, 300, 500, 100,\n",
              "       150, 100, 300,  50, 100, 650, 500, 550, 100, 400, 200, 500, 200,\n",
              "       150, 300, 150, 100, 600, 100, 350, 300,  50, 300, 100, 100, 500,\n",
              "       200, 200, 250])"
            ]
          },
          "metadata": {
            "tags": []
          },
          "execution_count": 91
        }
      ]
    },
    {
      "cell_type": "code",
      "metadata": {
        "colab": {
          "base_uri": "https://localhost:8080/"
        },
        "id": "Lk_UAnGNXa3U",
        "outputId": "63f57848-e563-4881-c403-91bd56d5b7e0"
      },
      "source": [
        "predicted=np.array(dt.predict(x_test))\r\n",
        "predicted"
      ],
      "execution_count": 92,
      "outputs": [
        {
          "output_type": "execute_result",
          "data": {
            "text/plain": [
              "array([350. , 200. , 100. , 200. , 150. , 400. , 100. , 300. , 500. ,\n",
              "       200. , 200. , 200. , 300. , 175. , 200. , 400. , 100. , 250. ,\n",
              "       200. , 200. , 500. , 200. , 325. , 200. , 200. , 200. , 200. ,\n",
              "       500. , 150. , 200. , 100. , 200. , 200. , 100. , 200. , 500. ,\n",
              "       500. , 200. , 500. , 325. , 250. , 200. , 200. , 200. , 200. ,\n",
              "       200. , 200. , 700. , 400. , 200. , 800. , 400. , 500. , 400. ,\n",
              "       200. , 200. , 275. , 300. , 200. , 200. , 450. , 100. , 100. ,\n",
              "       200. , 200. , 300. , 100. , 400. , 200. , 200. , 500. , 400. ,\n",
              "       200. , 200. , 200. , 100. , 200. , 100. , 400. , 200. , 300. ,\n",
              "       600. , 200. , 100. , 200. , 200. , 200. , 300. , 200. , 600. ,\n",
              "       200. , 275. , 200. , 500. , 200. , 200. , 275. , 200. , 500. ,\n",
              "       450. , 200. , 200. , 500. , 200. , 200. , 200. , 700. , 200. ,\n",
              "       200. , 200. , 600. , 200. , 200. , 600. , 200. , 200. , 300. ,\n",
              "       700. , 200. , 200. , 200. , 200. , 200. , 100. , 300. , 300. ,\n",
              "       100. , 300. , 550. , 500. , 200. , 200. , 200. , 400. , 500. ,\n",
              "       500. , 500. , 200. , 100. , 200. , 200. , 200. , 200. , 400. ,\n",
              "       700. , 200. , 100. , 200. , 500. , 350. , 600. , 300. , 800. ,\n",
              "       200. , 200. , 100. , 200. , 200. , 200. , 300. , 200. , 400. ,\n",
              "       200. , 100. , 300. , 200. , 500. , 500. , 400. , 200. , 200. ,\n",
              "       450. , 200. , 200. , 200. , 500. , 200. , 400. , 300. , 400. ,\n",
              "       200. , 100. , 100. , 300. , 250. , 500. , 200. , 200. , 150. ,\n",
              "       400. , 200. , 200. , 375. ,  50. , 500. , 200. , 350. , 375. ,\n",
              "       200. , 200. , 300. , 100. , 400. , 300. , 200. , 200. , 200. ,\n",
              "       200. , 150. , 300. , 200. , 700. , 250. , 200. , 200. , 200. ,\n",
              "       200. , 200. , 200. , 200. , 200. , 300. ,  75. , 250. , 300. ,\n",
              "       500. , 200. , 200. , 200. , 350. , 500. , 300. , 200. , 350. ,\n",
              "       500. , 250. , 100. , 200. , 300. , 300. , 500. , 200. , 150. ,\n",
              "       100. , 300. , 300. , 125. , 500. , 300. , 350. , 600. , 400. ,\n",
              "       300. , 200. , 200. , 200. , 440. , 200. , 100. ,  50. , 150. ,\n",
              "       250. , 350. ,  75. , 250. , 500. , 600. , 300. , 200. , 100. ,\n",
              "       400. , 200. , 500. , 100. , 500. , 200. , 300. , 350. , 200. ,\n",
              "       200. , 200. , 400. , 349.5, 500. , 200. , 300. , 500. , 200. ,\n",
              "       200. , 700. , 200. , 200. , 200. , 250. , 200. , 200. , 425. ,\n",
              "       200. , 500. , 700. , 200. , 200. , 250. , 200. , 250. , 200. ,\n",
              "       200. , 600. , 350. , 800. , 350. , 200. , 200. , 500. , 200. ,\n",
              "       250. , 200. , 200. , 300. , 300. , 300. , 400. , 200. , 200. ,\n",
              "       200. , 600. , 200. , 200. , 500. , 200. , 300. , 450. , 500. ,\n",
              "       300. , 400. , 300. , 200. , 400. , 300. , 400. , 200. , 100. ,\n",
              "       500. , 200. , 300. , 100. , 100. , 250. , 250. , 200. , 200. ,\n",
              "       600. , 500. , 300. , 300. , 300. , 200. ,  50. , 150. , 100. ,\n",
              "       600. , 200. , 300. , 350. , 450. , 750. , 200. , 300. , 275. ,\n",
              "       200. , 100. , 300. , 500. , 200. , 200. , 200. , 200. , 200. ,\n",
              "       200. , 200. , 300. , 450. , 500. , 400. , 200. , 200. , 250. ,\n",
              "       200. , 500. , 200. , 200. , 150. , 100. , 550. , 200. , 300. ,\n",
              "       200. , 400. , 650. , 200. , 325. , 250. , 125. , 200. , 200. ,\n",
              "       200. , 175. , 200. , 200. , 300. , 125. , 300. , 500. , 500. ,\n",
              "        50. , 250. , 300. , 200. , 450. , 400. , 200. ,  75. , 200. ,\n",
              "       200. , 100. , 100. , 200. , 200. , 250. , 550. , 150. , 300. ,\n",
              "       200. , 350. , 300. , 400. , 500. , 300. , 700. , 200. , 200. ,\n",
              "       225. , 300. , 400. , 350. , 200. , 100. , 200. , 300. , 300. ,\n",
              "       500. , 200. , 400. , 500. , 250. , 200. , 500. ,  75. , 300. ,\n",
              "       200. , 500. , 200. , 200. , 450. , 400. , 500. , 100. , 200. ,\n",
              "       200. , 200. , 200. , 200. , 200. , 350. , 200. , 200. , 250. ,\n",
              "       200. , 250. , 200. , 200. , 300. , 200. , 100. , 100. , 200. ,\n",
              "       200. , 200. , 200. , 200. , 200. , 500. , 200. , 200. , 200. ,\n",
              "       500. , 200. , 200. , 200. , 200. , 350. , 225. , 300. , 200. ,\n",
              "       200. , 700. , 200. , 200. , 200. , 100. , 300. , 300. , 200. ,\n",
              "       200. , 200. , 200. , 200. , 400. , 300. , 100. , 200. , 300. ,\n",
              "       475. , 400. , 200. , 200. , 100. , 200. , 200. , 200. , 200. ,\n",
              "       200. , 700. , 300. , 500. , 600. , 500. , 200. , 300. , 100. ,\n",
              "       250. , 200. , 600. , 650. , 400. , 200. , 200. , 300. , 200. ,\n",
              "       300. , 200. , 450. , 200. , 200. , 450. , 200. , 200. , 600. ,\n",
              "       400. , 250. , 300. , 350. , 200. , 225. , 200. , 300. , 600. ,\n",
              "       200. , 500. , 275. , 500. , 250. , 200. , 300. , 500. , 300. ,\n",
              "       200. , 700. , 500. , 200. , 200. , 200. , 100. , 800. , 100. ,\n",
              "       500. , 250. , 200. , 300. , 400. , 500. , 200. , 100. , 600. ,\n",
              "       200. , 200. , 400. , 750. , 250. , 200. , 225. , 300. , 400. ,\n",
              "       200. , 275. , 500. , 200. , 200. , 450. , 200. , 600. , 150. ,\n",
              "       200. , 200. , 250. , 200. , 250. , 450. , 200. , 200. , 300. ,\n",
              "       100. , 200. , 200. , 200. , 200. , 400. , 500. , 200. , 150. ,\n",
              "       500. , 300. , 100. , 500. , 300. , 650. , 125. , 300. , 500. ,\n",
              "       200. , 200. , 100. , 200. , 150. , 200. , 450. , 100. , 200. ,\n",
              "       200. , 300. , 250. , 500. , 450. , 200. , 200. , 300. , 300. ,\n",
              "       200. , 500. , 500. , 100. , 250. , 200. , 300. , 500. , 350. ,\n",
              "       200. , 200. , 200. , 200. , 200. , 200. , 200. , 300. , 100. ,\n",
              "       350. , 200. , 500. , 300. , 500. , 600. , 400. , 100. , 200. ,\n",
              "       100. , 250. , 275. , 500. , 300. , 200. , 275. , 250. , 200. ,\n",
              "       200. , 200. , 200. , 200. , 200. , 500. , 200. , 200. , 300. ,\n",
              "       200. , 500. , 200. , 500. , 400. , 200. , 250. , 500. , 200. ,\n",
              "       200. , 200. , 400. , 475. , 650. , 300. , 200. , 200. , 200. ,\n",
              "       300. , 500. , 150. , 200. , 200. , 200. , 200. , 200. , 200. ,\n",
              "       500. , 200. , 300. , 150. , 200. , 300. , 600. , 475. , 200. ,\n",
              "       300. , 200. , 200. , 200. , 600. , 500. , 300. , 200. , 200. ,\n",
              "       400. , 500. , 200. , 200. , 100. , 500. , 200. , 200. , 500. ,\n",
              "       500. , 800. , 500. , 100. , 225. , 300. , 200. , 400. , 200. ,\n",
              "       300. , 500. , 200. , 200. , 100. , 200. , 200. , 400. , 600. ,\n",
              "       200. , 100. , 200. , 200. , 200. , 200. , 600. , 350. , 250. ,\n",
              "       500. , 200. , 200. , 450. , 500. , 375. , 200. , 500. , 150. ,\n",
              "       100. , 200. , 150. , 300. , 200. , 200. , 500. , 550. , 200. ,\n",
              "       200. , 150. , 200. , 300. , 200. , 150. , 200. , 325. , 200. ,\n",
              "       300. , 200. , 250. , 200. , 200. , 300. , 600. , 200. , 200. ,\n",
              "       200. , 200. , 200. ])"
            ]
          },
          "metadata": {
            "tags": []
          },
          "execution_count": 92
        }
      ]
    },
    {
      "cell_type": "code",
      "metadata": {
        "id": "dP3baAQwXjK5"
      },
      "source": [
        "df=pd.DataFrame({\"original\":a,\"predicted\":predicted},index= range(len(a)))"
      ],
      "execution_count": 93,
      "outputs": []
    },
    {
      "cell_type": "code",
      "metadata": {
        "colab": {
          "base_uri": "https://localhost:8080/",
          "height": 419
        },
        "id": "ZAwqsCvaX12K",
        "outputId": "c85475c1-aa1d-4abc-aaf3-52fef9255350"
      },
      "source": [
        "df"
      ],
      "execution_count": 94,
      "outputs": [
        {
          "output_type": "execute_result",
          "data": {
            "text/html": [
              "<div>\n",
              "<style scoped>\n",
              "    .dataframe tbody tr th:only-of-type {\n",
              "        vertical-align: middle;\n",
              "    }\n",
              "\n",
              "    .dataframe tbody tr th {\n",
              "        vertical-align: top;\n",
              "    }\n",
              "\n",
              "    .dataframe thead th {\n",
              "        text-align: right;\n",
              "    }\n",
              "</style>\n",
              "<table border=\"1\" class=\"dataframe\">\n",
              "  <thead>\n",
              "    <tr style=\"text-align: right;\">\n",
              "      <th></th>\n",
              "      <th>original</th>\n",
              "      <th>predicted</th>\n",
              "    </tr>\n",
              "  </thead>\n",
              "  <tbody>\n",
              "    <tr>\n",
              "      <th>0</th>\n",
              "      <td>600</td>\n",
              "      <td>350.0</td>\n",
              "    </tr>\n",
              "    <tr>\n",
              "      <th>1</th>\n",
              "      <td>300</td>\n",
              "      <td>200.0</td>\n",
              "    </tr>\n",
              "    <tr>\n",
              "      <th>2</th>\n",
              "      <td>700</td>\n",
              "      <td>100.0</td>\n",
              "    </tr>\n",
              "    <tr>\n",
              "      <th>3</th>\n",
              "      <td>200</td>\n",
              "      <td>200.0</td>\n",
              "    </tr>\n",
              "    <tr>\n",
              "      <th>4</th>\n",
              "      <td>150</td>\n",
              "      <td>150.0</td>\n",
              "    </tr>\n",
              "    <tr>\n",
              "      <th>...</th>\n",
              "      <td>...</td>\n",
              "      <td>...</td>\n",
              "    </tr>\n",
              "    <tr>\n",
              "      <th>817</th>\n",
              "      <td>100</td>\n",
              "      <td>200.0</td>\n",
              "    </tr>\n",
              "    <tr>\n",
              "      <th>818</th>\n",
              "      <td>500</td>\n",
              "      <td>200.0</td>\n",
              "    </tr>\n",
              "    <tr>\n",
              "      <th>819</th>\n",
              "      <td>200</td>\n",
              "      <td>200.0</td>\n",
              "    </tr>\n",
              "    <tr>\n",
              "      <th>820</th>\n",
              "      <td>200</td>\n",
              "      <td>200.0</td>\n",
              "    </tr>\n",
              "    <tr>\n",
              "      <th>821</th>\n",
              "      <td>250</td>\n",
              "      <td>200.0</td>\n",
              "    </tr>\n",
              "  </tbody>\n",
              "</table>\n",
              "<p>822 rows × 2 columns</p>\n",
              "</div>"
            ],
            "text/plain": [
              "     original  predicted\n",
              "0         600      350.0\n",
              "1         300      200.0\n",
              "2         700      100.0\n",
              "3         200      200.0\n",
              "4         150      150.0\n",
              "..        ...        ...\n",
              "817       100      200.0\n",
              "818       500      200.0\n",
              "819       200      200.0\n",
              "820       200      200.0\n",
              "821       250      200.0\n",
              "\n",
              "[822 rows x 2 columns]"
            ]
          },
          "metadata": {
            "tags": []
          },
          "execution_count": 94
        }
      ]
    },
    {
      "cell_type": "code",
      "metadata": {
        "id": "mvgeWTTMX4qf"
      },
      "source": [
        "#Saving the Model\r\n",
        "import pickle\r\n",
        "filename= 'Doctor_fees.pkl'\r\n",
        "pickle.dump(dt,open(filename,'wb'))\r\n"
      ],
      "execution_count": 95,
      "outputs": []
    },
    {
      "cell_type": "markdown",
      "metadata": {
        "id": "9weckLpaYkws"
      },
      "source": [
        "**Using the test dataset**"
      ]
    },
    {
      "cell_type": "code",
      "metadata": {
        "colab": {
          "base_uri": "https://localhost:8080/"
        },
        "id": "5gbonTU5Ys1n",
        "outputId": "d0fdc36e-7e0a-413d-e134-e58cc200679f"
      },
      "source": [
        "#treating outliers using z score metod\r\n",
        "from scipy.stats import zscore\r\n",
        "z=np.abs(zscore(test))\r\n",
        "z"
      ],
      "execution_count": 96,
      "outputs": [
        {
          "output_type": "execute_result",
          "data": {
            "text/plain": [
              "array([[0.43326278, 0.64352685, 1.01470294, ..., 0.44869824, 2.00758057,\n",
              "        0.09289479],\n",
              "       [0.43326278, 1.74097263, 1.01470294, ..., 2.22866933, 0.49811201,\n",
              "        0.09289479],\n",
              "       [4.74659969, 0.04740198, 1.01470294, ..., 0.44869824, 0.49811201,\n",
              "        0.09289479],\n",
              "       ...,\n",
              "       [0.43326278, 0.64352685, 1.01470294, ..., 0.44869824, 0.49811201,\n",
              "        0.09289479],\n",
              "       [0.08793861, 1.23965172, 0.9855101 , ..., 0.44869824, 0.49811201,\n",
              "        0.09289479],\n",
              "       [0.43326278, 0.04740198, 1.01470294, ..., 0.44869824, 0.49811201,\n",
              "        0.09289479]])"
            ]
          },
          "metadata": {
            "tags": []
          },
          "execution_count": 96
        }
      ]
    },
    {
      "cell_type": "code",
      "metadata": {
        "colab": {
          "base_uri": "https://localhost:8080/"
        },
        "id": "ukdxF0r8Y9ZM",
        "outputId": "ae09bbdc-c220-477e-d722-5bfe25ca2180"
      },
      "source": [
        "threshold=3\r\n",
        "print(np.where(z>3))"
      ],
      "execution_count": 97,
      "outputs": [
        {
          "output_type": "stream",
          "text": [
            "(array([   1,    2,    2,    6,   11,   13,   14,   16,   17,   17,   17,\n",
            "         19,   21,   22,   25,   28,   29,   32,   33,   34,   46,   48,\n",
            "         51,   54,   57,   58,   59,   65,   65,   65,   66,   71,   72,\n",
            "         73,   76,   79,   81,   82,   91,   95,   96,   99,  101,  102,\n",
            "        104,  106,  114,  118,  119,  119,  124,  129,  131,  133,  135,\n",
            "        135,  138,  139,  141,  141,  143,  152,  154,  157,  165,  166,\n",
            "        168,  168,  168,  171,  174,  174,  179,  179,  181,  187,  195,\n",
            "        195,  201,  207,  211,  214,  219,  221,  221,  222,  224,  225,\n",
            "        227,  227,  229,  229,  231,  232,  237,  239,  240,  244,  251,\n",
            "        251,  253,  253,  254,  256,  258,  258,  260,  261,  261,  261,\n",
            "        262,  262,  264,  264,  265,  269,  269,  271,  273,  276,  279,\n",
            "        280,  283,  292,  303,  309,  313,  315,  317,  319,  321,  322,\n",
            "        323,  323,  327,  330,  336,  337,  338,  341,  347,  349,  352,\n",
            "        355,  357,  362,  362,  363,  367,  367,  370,  371,  372,  374,\n",
            "        377,  382,  386,  388,  388,  391,  396,  398,  399,  401,  404,\n",
            "        406,  408,  408,  412,  417,  420,  423,  423,  427,  430,  434,\n",
            "        435,  436,  436,  437,  438,  445,  446,  448,  449,  450,  450,\n",
            "        454,  454,  460,  462,  467,  470,  473,  477,  478,  479,  480,\n",
            "        480,  481,  483,  487,  488,  492,  494,  496,  501,  501,  506,\n",
            "        509,  511,  512,  513,  516,  516,  525,  530,  530,  532,  533,\n",
            "        536,  538,  540,  545,  546,  547,  549,  559,  560,  562,  562,\n",
            "        564,  565,  566,  566,  569,  572,  573,  583,  585,  587,  587,\n",
            "        593,  594,  597,  602,  604,  605,  606,  612,  614,  617,  617,\n",
            "        621,  622,  622,  629,  630,  632,  641,  642,  642,  644,  644,\n",
            "        646,  646,  647,  651,  652,  652,  653,  656,  660,  664,  667,\n",
            "        671,  671,  675,  676,  677,  681,  681,  683,  686,  689,  691,\n",
            "        691,  696,  699,  701,  706,  709,  711,  712,  714,  723,  724,\n",
            "        727,  729,  729,  735,  735,  736,  741,  742,  743,  744,  746,\n",
            "        748,  749,  751,  752,  753,  760,  762,  769,  772,  773,  775,\n",
            "        776,  777,  781,  782,  783,  784,  787,  788,  788,  789,  791,\n",
            "        793,  795,  798,  800,  801,  807,  809,  809,  812,  817,  818,\n",
            "        819,  821,  821,  823,  826,  841,  845,  848,  853,  854,  855,\n",
            "        855,  859,  860,  863,  865,  867,  871,  872,  872,  874,  875,\n",
            "        878,  878,  878,  882,  882,  883,  886,  889,  894,  895,  897,\n",
            "        899,  900,  901,  902,  906,  914,  915,  916,  920,  921,  926,\n",
            "        927,  929,  935,  937,  939,  943,  946,  947,  947,  951,  958,\n",
            "        959,  961,  961,  964,  964,  969,  971,  972,  976,  976,  979,\n",
            "        979,  983,  983,  984,  985,  986,  987,  987,  988,  989,  990,\n",
            "        992,  992,  992,  994,  996,  996,  999, 1001, 1007, 1013, 1017,\n",
            "       1018, 1023, 1024, 1030, 1032, 1034, 1036, 1038, 1040, 1044, 1046,\n",
            "       1046, 1048, 1049, 1051, 1053, 1053, 1056, 1059, 1061, 1061, 1061,\n",
            "       1062, 1066, 1068, 1071, 1073, 1075, 1081, 1081, 1081, 1089, 1092,\n",
            "       1092, 1093, 1094, 1094, 1099, 1099, 1104, 1105, 1105, 1115, 1118,\n",
            "       1120, 1121, 1121, 1125, 1125, 1127, 1130, 1135, 1140, 1143, 1145,\n",
            "       1145, 1146, 1148, 1153, 1158, 1159, 1160, 1160, 1162, 1163, 1164,\n",
            "       1168, 1170, 1171, 1176, 1179, 1183, 1185, 1189, 1193, 1193, 1201,\n",
            "       1201, 1203, 1205, 1205, 1206, 1209, 1211, 1214, 1215, 1216, 1218,\n",
            "       1219, 1219, 1223, 1224, 1224, 1224, 1224, 1228, 1229, 1230, 1230,\n",
            "       1231, 1232, 1232, 1233, 1233, 1238, 1239, 1241, 1242, 1244, 1245,\n",
            "       1246, 1249, 1251, 1251, 1257, 1258, 1258, 1260, 1261, 1264, 1270,\n",
            "       1271, 1273, 1276, 1276, 1279, 1282, 1283, 1283, 1284, 1284, 1288,\n",
            "       1288, 1294, 1297, 1297, 1298, 1300, 1303, 1303, 1311, 1320, 1326,\n",
            "       1333, 1334, 1335, 1335, 1337, 1338, 1338, 1342, 1343, 1344, 1344,\n",
            "       1347, 1347, 1349, 1351, 1356, 1356, 1363, 1363, 1366, 1369, 1369,\n",
            "       1371, 1374, 1376, 1376, 1383, 1384, 1387, 1388, 1388, 1394, 1395,\n",
            "       1400, 1400, 1401, 1402, 1404, 1405, 1405, 1405, 1406, 1407, 1410,\n",
            "       1418, 1420, 1421, 1422, 1423, 1424, 1425, 1425, 1427, 1431, 1432,\n",
            "       1434, 1436, 1436, 1438, 1439, 1440, 1440, 1448, 1451, 1451, 1452,\n",
            "       1452, 1456, 1457, 1458, 1460, 1461, 1463, 1469, 1469, 1475, 1475,\n",
            "       1476, 1476, 1477, 1478, 1479, 1479, 1482, 1487, 1489, 1489, 1491,\n",
            "       1492, 1493, 1501, 1501, 1507, 1508, 1509, 1512, 1517, 1519, 1519,\n",
            "       1522, 1525, 1530, 1531, 1535, 1536, 1538, 1539, 1540, 1545, 1553,\n",
            "       1555, 1555, 1559, 1560, 1561, 1566, 1566, 1569, 1577, 1579, 1579,\n",
            "       1583, 1583, 1585, 1587, 1589, 1591, 1591, 1592, 1594, 1603, 1607,\n",
            "       1610, 1613, 1616, 1617, 1617, 1619, 1621, 1625, 1627, 1631, 1631,\n",
            "       1638, 1640, 1642, 1642, 1657, 1657, 1658, 1670, 1671, 1674, 1677,\n",
            "       1678, 1679, 1679, 1683, 1683, 1688, 1690, 1690, 1695, 1695, 1696,\n",
            "       1697, 1697, 1698, 1702, 1706, 1706, 1707, 1708, 1709, 1709, 1712,\n",
            "       1712, 1714, 1715, 1716, 1718, 1719, 1721, 1724, 1724, 1733, 1736,\n",
            "       1737, 1740, 1746, 1753, 1754, 1755, 1758, 1760, 1761, 1761, 1762,\n",
            "       1765, 1770, 1770, 1771, 1772, 1773, 1773, 1774, 1776, 1776, 1776,\n",
            "       1778, 1779, 1780, 1784, 1787, 1788, 1790, 1791, 1793, 1793, 1798,\n",
            "       1801, 1808, 1825, 1825, 1827, 1828, 1830, 1837, 1842, 1845, 1847,\n",
            "       1848, 1848, 1850, 1852, 1856, 1858, 1859, 1861, 1863, 1865, 1870,\n",
            "       1870, 1872, 1875, 1875, 1881, 1884, 1886, 1889, 1890, 1890, 1895,\n",
            "       1897, 1897, 1902, 1903, 1906, 1915, 1917, 1918, 1918, 1928, 1929,\n",
            "       1931, 1932, 1934, 1941, 1946, 1946, 1946, 1947, 1949, 1953, 1953,\n",
            "       1958, 1958, 1958, 1964, 1970, 1971, 1974, 1981, 1981, 1983, 1983,\n",
            "       1986, 1986]), array([10,  0, 11, 10, 14,  6,  7,  6,  0,  7, 10,  6, 19,  6, 10,  8,  7,\n",
            "       10,  7, 11,  9,  6,  6, 16, 10, 16, 10,  0,  7, 10, 10,  7,  0,  7,\n",
            "       11,  7, 10,  8,  7, 16,  8,  6, 14,  7, 12,  7,  8, 14,  6,  9,  7,\n",
            "        8, 16, 10,  6,  9,  6,  0,  6,  9,  8,  8, 14, 16, 16,  6,  0,  7,\n",
            "       10, 11,  7, 10,  6,  9,  7, 11,  0,  6, 11, 11,  7,  0, 14,  7, 10,\n",
            "       16, 11, 11,  6, 14,  7, 10,  6,  7, 10, 11, 11, 11,  6, 11,  7, 10,\n",
            "        6,  6,  6, 12, 10,  6,  9, 16,  6,  9, 12, 14, 19,  6,  9,  8,  6,\n",
            "        7,  7, 11, 19,  8, 14,  7, 10, 10,  8,  8,  6, 10,  6,  9,  7,  7,\n",
            "       16, 11,  8,  7,  7,  6,  8, 14, 14,  0, 10, 10,  6,  9, 16, 10,  8,\n",
            "        6, 11,  8, 14,  6,  9, 10,  6, 12,  7,  6,  6, 14,  6,  9,  0,  8,\n",
            "        7,  6,  9,  6,  6,  7, 10,  0,  7,  8,  8, 16, 14, 14,  0,  7, 10,\n",
            "        0, 11,  8,  6,  8,  7,  8, 10,  8,  7,  7, 10, 14, 16,  7, 16,  8,\n",
            "       10, 11,  7, 10,  7, 14,  8, 10, 14,  6,  9, 11,  8, 14,  6,  6,  6,\n",
            "       10,  8,  6, 11,  7, 11, 10,  7,  7, 10,  0, 14,  6,  9,  6,  6,  8,\n",
            "       10,  8,  6,  9, 16,  7,  7, 19, 16,  7, 10,  6, 11,  7, 12,  8,  0,\n",
            "        6,  7,  6, 11, 12,  6,  9,  6,  9,  6,  9, 11, 19,  0,  7, 11,  7,\n",
            "        7, 16,  7,  0,  8,  8,  0, 14,  6,  9, 10, 10, 10,  6,  9,  8, 16,\n",
            "        6,  8, 16,  8,  7,  6, 14, 19,  8, 11, 14,  6,  9,  8, 11,  7,  6,\n",
            "        8,  6, 10,  6,  7,  8,  7, 16,  6, 19,  0,  0, 14, 16, 16, 14,  8,\n",
            "       16,  8,  6,  7, 10,  7, 11, 19, 16,  7, 16, 16,  6,  6,  9,  7, 11,\n",
            "        6, 14,  6,  9,  6,  7,  8,  7,  8, 10, 10,  6,  9, 11,  7,  7, 19,\n",
            "       16, 11,  6,  9, 14,  8,  7, 10, 14,  6, 11, 11,  6, 14,  9, 14, 14,\n",
            "        6,  8,  6,  6, 11,  8,  7,  6, 10,  7,  7,  8, 14,  8, 16, 14, 10,\n",
            "        7,  6,  9,  6,  7,  8,  6,  9,  0,  7, 14, 14,  7,  0,  7,  6,  9,\n",
            "        6,  9,  7,  8,  7,  6,  9,  7, 14, 19,  0,  6, 12,  6,  0,  6,  6,\n",
            "        0,  6, 10,  8,  8,  8, 10,  6,  7, 14, 11,  6,  8, 14,  6,  9,  8,\n",
            "       14,  6,  6,  9,  6,  6,  0,  6,  9, 10, 10, 10, 11,  8, 11,  6,  9,\n",
            "       14, 16,  7, 10, 11,  0,  6,  0,  7, 16,  6,  9,  6,  6, 10,  0,  8,\n",
            "        6,  9,  6, 11,  6, 11, 10,  6,  9,  7, 11,  7, 10, 16,  6,  9, 16,\n",
            "        8, 14,  7, 16,  7, 11,  7,  6,  6,  6,  6,  9,  0,  8,  8,  6,  9,\n",
            "        6,  8, 10,  6, 11,  8,  6,  6,  9,  8,  6,  9, 11, 14, 11, 11,  6,\n",
            "        9,  7,  6,  9,  0,  8, 11,  7, 11,  7, 14,  6, 12,  6,  6,  9, 11,\n",
            "        6,  9, 14,  7,  8, 14,  7,  8,  6,  9,  8,  8,  6,  9, 10, 12,  0,\n",
            "        7,  0,  8, 12, 14, 14,  6,  9,  7,  8,  6, 14, 16,  6,  9, 12,  6,\n",
            "        9,  9,  8,  6,  9,  8, 16,  8, 14,  6,  9,  9, 11,  8,  6,  9,  8,\n",
            "       16,  6,  9,  8, 19, 16,  6,  9,  0,  7,  6,  9,  6,  7, 14,  0,  7,\n",
            "       14,  6, 11, 14,  7,  6,  6,  6,  8, 10,  0,  7, 10,  8, 14,  7,  7,\n",
            "       14,  6, 14,  6,  9, 14,  0,  6,  7, 10,  7, 10, 10,  6,  8,  6,  6,\n",
            "        9,  6,  9,  6,  9, 11,  6,  6,  9, 14,  9,  7, 10, 11, 11,  7,  0,\n",
            "       11,  7, 11, 19,  6, 14,  6,  9, 10,  6,  0,  8,  8,  8, 16, 14, 10,\n",
            "       10,  6,  6,  9,  6,  8, 11,  0,  7,  6, 16,  7, 10, 10, 16, 10, 10,\n",
            "        8,  7, 10, 14,  6, 14, 11,  7, 10,  8,  6, 16, 19,  6, 11,  7,  6,\n",
            "        9,  6,  0,  6,  9,  0,  8, 11, 10, 11, 11,  8,  6,  7, 10,  6,  9,\n",
            "       16,  6,  9,  6,  9, 16,  6,  9,  7,  9,  7, 10,  7,  8,  6,  9,  6,\n",
            "        9, 10,  7,  8, 19,  6, 16,  0,  7,  6,  8, 10, 11,  8,  7, 16,  8,\n",
            "        8,  8,  6,  9, 19,  7,  7, 10,  7,  6,  6,  9,  7,  0,  6,  9, 19,\n",
            "        6,  7,  7,  8,  6,  0,  6,  6,  9, 10,  8, 14,  0, 11, 14, 10,  0,\n",
            "       16,  6, 14, 11,  7, 10, 14,  6,  0, 19, 16,  7,  8,  6,  6,  9,  7,\n",
            "        0,  7, 14,  8,  8,  8,  6,  9,  7,  6,  9, 14, 10,  7,  6,  7,  6,\n",
            "        9, 11,  6, 14, 14,  6, 16,  6, 11, 16,  6,  6,  6,  9,  0,  7, 10,\n",
            "       14, 14,  7, 10,  6,  9,  6,  9,  6,  9]))\n"
          ],
          "name": "stdout"
        }
      ]
    },
    {
      "cell_type": "code",
      "metadata": {
        "id": "9etVjxzIZPyU"
      },
      "source": [
        "test_new=test[(z<3).all(axis=1)]"
      ],
      "execution_count": 98,
      "outputs": []
    },
    {
      "cell_type": "code",
      "metadata": {
        "colab": {
          "base_uri": "https://localhost:8080/",
          "height": 473
        },
        "id": "UM4JcevdZURi",
        "outputId": "9f57828f-f3eb-4c04-b9e9-c6c7076a1191"
      },
      "source": [
        "test_new"
      ],
      "execution_count": 99,
      "outputs": [
        {
          "output_type": "execute_result",
          "data": {
            "text/html": [
              "<div>\n",
              "<style scoped>\n",
              "    .dataframe tbody tr th:only-of-type {\n",
              "        vertical-align: middle;\n",
              "    }\n",
              "\n",
              "    .dataframe tbody tr th {\n",
              "        vertical-align: top;\n",
              "    }\n",
              "\n",
              "    .dataframe thead th {\n",
              "        text-align: right;\n",
              "    }\n",
              "</style>\n",
              "<table border=\"1\" class=\"dataframe\">\n",
              "  <thead>\n",
              "    <tr style=\"text-align: right;\">\n",
              "      <th></th>\n",
              "      <th>Rating</th>\n",
              "      <th>Profile</th>\n",
              "      <th>MBBS</th>\n",
              "      <th>BDS</th>\n",
              "      <th>BHMS</th>\n",
              "      <th>BAMS</th>\n",
              "      <th>MD - Dermatology</th>\n",
              "      <th>MS - ENT</th>\n",
              "      <th>MD - General Medicine</th>\n",
              "      <th>Venereology &amp; Leprosy</th>\n",
              "      <th>Diploma in Otorhinolaryngology (DLO)</th>\n",
              "      <th>DDVL</th>\n",
              "      <th>years_exp</th>\n",
              "      <th>Chennai</th>\n",
              "      <th>Coimbatore</th>\n",
              "      <th>Delhi</th>\n",
              "      <th>Ernakulam</th>\n",
              "      <th>Hyderabad</th>\n",
              "      <th>Mumbai</th>\n",
              "      <th>Thiruvananthapuram</th>\n",
              "    </tr>\n",
              "  </thead>\n",
              "  <tbody>\n",
              "    <tr>\n",
              "      <th>0</th>\n",
              "      <td>100</td>\n",
              "      <td>1</td>\n",
              "      <td>1</td>\n",
              "      <td>0</td>\n",
              "      <td>0</td>\n",
              "      <td>0</td>\n",
              "      <td>0</td>\n",
              "      <td>0</td>\n",
              "      <td>0</td>\n",
              "      <td>0</td>\n",
              "      <td>0</td>\n",
              "      <td>0</td>\n",
              "      <td>35</td>\n",
              "      <td>0</td>\n",
              "      <td>0</td>\n",
              "      <td>0</td>\n",
              "      <td>0</td>\n",
              "      <td>0</td>\n",
              "      <td>1</td>\n",
              "      <td>0</td>\n",
              "    </tr>\n",
              "    <tr>\n",
              "      <th>3</th>\n",
              "      <td>100</td>\n",
              "      <td>4</td>\n",
              "      <td>0</td>\n",
              "      <td>0</td>\n",
              "      <td>0</td>\n",
              "      <td>1</td>\n",
              "      <td>0</td>\n",
              "      <td>0</td>\n",
              "      <td>0</td>\n",
              "      <td>0</td>\n",
              "      <td>0</td>\n",
              "      <td>0</td>\n",
              "      <td>0</td>\n",
              "      <td>0</td>\n",
              "      <td>0</td>\n",
              "      <td>1</td>\n",
              "      <td>0</td>\n",
              "      <td>0</td>\n",
              "      <td>0</td>\n",
              "      <td>0</td>\n",
              "    </tr>\n",
              "    <tr>\n",
              "      <th>4</th>\n",
              "      <td>100</td>\n",
              "      <td>0</td>\n",
              "      <td>0</td>\n",
              "      <td>1</td>\n",
              "      <td>0</td>\n",
              "      <td>0</td>\n",
              "      <td>0</td>\n",
              "      <td>0</td>\n",
              "      <td>0</td>\n",
              "      <td>0</td>\n",
              "      <td>0</td>\n",
              "      <td>0</td>\n",
              "      <td>16</td>\n",
              "      <td>0</td>\n",
              "      <td>0</td>\n",
              "      <td>0</td>\n",
              "      <td>0</td>\n",
              "      <td>0</td>\n",
              "      <td>0</td>\n",
              "      <td>0</td>\n",
              "    </tr>\n",
              "    <tr>\n",
              "      <th>5</th>\n",
              "      <td>90</td>\n",
              "      <td>0</td>\n",
              "      <td>0</td>\n",
              "      <td>1</td>\n",
              "      <td>0</td>\n",
              "      <td>0</td>\n",
              "      <td>0</td>\n",
              "      <td>0</td>\n",
              "      <td>0</td>\n",
              "      <td>0</td>\n",
              "      <td>0</td>\n",
              "      <td>0</td>\n",
              "      <td>14</td>\n",
              "      <td>1</td>\n",
              "      <td>0</td>\n",
              "      <td>0</td>\n",
              "      <td>0</td>\n",
              "      <td>0</td>\n",
              "      <td>0</td>\n",
              "      <td>0</td>\n",
              "    </tr>\n",
              "    <tr>\n",
              "      <th>7</th>\n",
              "      <td>94</td>\n",
              "      <td>0</td>\n",
              "      <td>0</td>\n",
              "      <td>1</td>\n",
              "      <td>0</td>\n",
              "      <td>0</td>\n",
              "      <td>0</td>\n",
              "      <td>0</td>\n",
              "      <td>0</td>\n",
              "      <td>0</td>\n",
              "      <td>0</td>\n",
              "      <td>0</td>\n",
              "      <td>9</td>\n",
              "      <td>0</td>\n",
              "      <td>0</td>\n",
              "      <td>0</td>\n",
              "      <td>0</td>\n",
              "      <td>1</td>\n",
              "      <td>0</td>\n",
              "      <td>0</td>\n",
              "    </tr>\n",
              "    <tr>\n",
              "      <th>...</th>\n",
              "      <td>...</td>\n",
              "      <td>...</td>\n",
              "      <td>...</td>\n",
              "      <td>...</td>\n",
              "      <td>...</td>\n",
              "      <td>...</td>\n",
              "      <td>...</td>\n",
              "      <td>...</td>\n",
              "      <td>...</td>\n",
              "      <td>...</td>\n",
              "      <td>...</td>\n",
              "      <td>...</td>\n",
              "      <td>...</td>\n",
              "      <td>...</td>\n",
              "      <td>...</td>\n",
              "      <td>...</td>\n",
              "      <td>...</td>\n",
              "      <td>...</td>\n",
              "      <td>...</td>\n",
              "      <td>...</td>\n",
              "    </tr>\n",
              "    <tr>\n",
              "      <th>1979</th>\n",
              "      <td>100</td>\n",
              "      <td>0</td>\n",
              "      <td>0</td>\n",
              "      <td>1</td>\n",
              "      <td>0</td>\n",
              "      <td>0</td>\n",
              "      <td>0</td>\n",
              "      <td>0</td>\n",
              "      <td>0</td>\n",
              "      <td>0</td>\n",
              "      <td>0</td>\n",
              "      <td>0</td>\n",
              "      <td>17</td>\n",
              "      <td>0</td>\n",
              "      <td>0</td>\n",
              "      <td>0</td>\n",
              "      <td>0</td>\n",
              "      <td>0</td>\n",
              "      <td>1</td>\n",
              "      <td>0</td>\n",
              "    </tr>\n",
              "    <tr>\n",
              "      <th>1980</th>\n",
              "      <td>98</td>\n",
              "      <td>0</td>\n",
              "      <td>0</td>\n",
              "      <td>1</td>\n",
              "      <td>0</td>\n",
              "      <td>0</td>\n",
              "      <td>0</td>\n",
              "      <td>0</td>\n",
              "      <td>0</td>\n",
              "      <td>0</td>\n",
              "      <td>0</td>\n",
              "      <td>0</td>\n",
              "      <td>18</td>\n",
              "      <td>1</td>\n",
              "      <td>0</td>\n",
              "      <td>0</td>\n",
              "      <td>0</td>\n",
              "      <td>0</td>\n",
              "      <td>0</td>\n",
              "      <td>0</td>\n",
              "    </tr>\n",
              "    <tr>\n",
              "      <th>1982</th>\n",
              "      <td>100</td>\n",
              "      <td>4</td>\n",
              "      <td>0</td>\n",
              "      <td>0</td>\n",
              "      <td>0</td>\n",
              "      <td>1</td>\n",
              "      <td>0</td>\n",
              "      <td>0</td>\n",
              "      <td>0</td>\n",
              "      <td>0</td>\n",
              "      <td>0</td>\n",
              "      <td>0</td>\n",
              "      <td>10</td>\n",
              "      <td>0</td>\n",
              "      <td>0</td>\n",
              "      <td>0</td>\n",
              "      <td>0</td>\n",
              "      <td>0</td>\n",
              "      <td>0</td>\n",
              "      <td>0</td>\n",
              "    </tr>\n",
              "    <tr>\n",
              "      <th>1984</th>\n",
              "      <td>100</td>\n",
              "      <td>1</td>\n",
              "      <td>1</td>\n",
              "      <td>0</td>\n",
              "      <td>0</td>\n",
              "      <td>0</td>\n",
              "      <td>0</td>\n",
              "      <td>0</td>\n",
              "      <td>0</td>\n",
              "      <td>0</td>\n",
              "      <td>0</td>\n",
              "      <td>0</td>\n",
              "      <td>9</td>\n",
              "      <td>1</td>\n",
              "      <td>0</td>\n",
              "      <td>0</td>\n",
              "      <td>0</td>\n",
              "      <td>0</td>\n",
              "      <td>0</td>\n",
              "      <td>0</td>\n",
              "    </tr>\n",
              "    <tr>\n",
              "      <th>1985</th>\n",
              "      <td>98</td>\n",
              "      <td>0</td>\n",
              "      <td>0</td>\n",
              "      <td>1</td>\n",
              "      <td>0</td>\n",
              "      <td>0</td>\n",
              "      <td>0</td>\n",
              "      <td>0</td>\n",
              "      <td>0</td>\n",
              "      <td>0</td>\n",
              "      <td>0</td>\n",
              "      <td>0</td>\n",
              "      <td>12</td>\n",
              "      <td>0</td>\n",
              "      <td>0</td>\n",
              "      <td>0</td>\n",
              "      <td>0</td>\n",
              "      <td>0</td>\n",
              "      <td>0</td>\n",
              "      <td>0</td>\n",
              "    </tr>\n",
              "  </tbody>\n",
              "</table>\n",
              "<p>1291 rows × 20 columns</p>\n",
              "</div>"
            ],
            "text/plain": [
              "      Rating  Profile  MBBS  ...   Hyderabad   Mumbai   Thiruvananthapuram\n",
              "0        100        1     1  ...           0        1                    0\n",
              "3        100        4     0  ...           0        0                    0\n",
              "4        100        0     0  ...           0        0                    0\n",
              "5         90        0     0  ...           0        0                    0\n",
              "7         94        0     0  ...           1        0                    0\n",
              "...      ...      ...   ...  ...         ...      ...                  ...\n",
              "1979     100        0     0  ...           0        1                    0\n",
              "1980      98        0     0  ...           0        0                    0\n",
              "1982     100        4     0  ...           0        0                    0\n",
              "1984     100        1     1  ...           0        0                    0\n",
              "1985      98        0     0  ...           0        0                    0\n",
              "\n",
              "[1291 rows x 20 columns]"
            ]
          },
          "metadata": {
            "tags": []
          },
          "execution_count": 99
        }
      ]
    },
    {
      "cell_type": "code",
      "metadata": {
        "id": "M9CRWaQGZaGu"
      },
      "source": [
        "# Load the Model\r\n",
        "import pickle\r\n",
        "fitted_model=pickle.load(open(\"Doctor_fees.pkl\",\"rb\"))"
      ],
      "execution_count": 100,
      "outputs": []
    },
    {
      "cell_type": "code",
      "metadata": {
        "colab": {
          "base_uri": "https://localhost:8080/"
        },
        "id": "vHjJ7GoNZvr3",
        "outputId": "ab4c37a0-e9f2-4c55-9387-92840d303407"
      },
      "source": [
        "fitted_model"
      ],
      "execution_count": 101,
      "outputs": [
        {
          "output_type": "execute_result",
          "data": {
            "text/plain": [
              "DecisionTreeRegressor(ccp_alpha=0.0, criterion='mae', max_depth=None,\n",
              "                      max_features=None, max_leaf_nodes=None,\n",
              "                      min_impurity_decrease=0.0, min_impurity_split=None,\n",
              "                      min_samples_leaf=1, min_samples_split=2,\n",
              "                      min_weight_fraction_leaf=0.0, presort='deprecated',\n",
              "                      random_state=None, splitter='random')"
            ]
          },
          "metadata": {
            "tags": []
          },
          "execution_count": 101
        }
      ]
    },
    {
      "cell_type": "code",
      "metadata": {
        "id": "jGm_YO8TlwO7"
      },
      "source": [
        "#prediction over test data\r\n",
        "\r\n",
        "predictions = fitted_model.predict(test_new)"
      ],
      "execution_count": null,
      "outputs": []
    }
  ]
}